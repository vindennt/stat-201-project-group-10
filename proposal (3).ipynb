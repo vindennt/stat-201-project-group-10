{
 "cells": [
  {
   "cell_type": "markdown",
   "metadata": {},
   "source": [
    "# **STAT-201 Project Proposal**\n",
    "## Analysis of data science salaries\n",
    "\n",
    "Prabh Sehgal, Rainie Fu, Rishabh Mathur, Dennis Truong"
   ]
  },
  {
   "cell_type": "markdown",
   "metadata": {},
   "source": [
    "## Introduction\n",
    "A key factor in employee happiness is financial compensation, and past work during the COVID-19 pandemic have shown that working remotely can also have a positive impact on happiness thanks to increased employee autonomy. (Card et al., 2012; Galanti et al., 2021). Our analysis aims to explore the relationships between different data science jobs, their salaries, and their proportions doing remote work. Our analyses can inform prospective emplyees about each position's remote work flexibility and typical salary. Employees may use these inferences to discover new data science occupations that better align with their work-life goals."
   ]
  },
  {
   "cell_type": "markdown",
   "metadata": {},
   "source": [
    "### Research Question\n",
    "\n",
    "If full-time Data Scientists and Data Analysts were compared, is there a difference in the means of salaries and difference in proportions of remote work?\n"
   ]
  },
  {
   "cell_type": "markdown",
   "metadata": {},
   "source": [
    "### Dataset\n",
    "\n",
    "Our research utilizes the dataset \"Data Science Job Salaries\" by Ruchi Bhatia (2022) from [Kaggle](https://www.kaggle.com/datasets/ruchi798/data-science-job-salaries). Observations include the year the salary was paid, experience level, work kind, title, salary, remote ratio, firm size, and company location. The main observations we aim to use are the ```job_title``` to tell us the job type, the ```salary_in_USD``` to inform us about each role's salary, and the ```remote_ratio``` to give us the proportion of poeple working remotely in that respective role.\n"
   ]
  },
  {
   "cell_type": "markdown",
   "metadata": {},
   "source": [
    "## Preliminary Results"
   ]
  },
  {
   "cell_type": "markdown",
   "metadata": {},
   "source": [
    "### Exploring our Data\n",
    "\n",
    "We downloaded the data to our repository and read it from there since Kaggle does not let datasets to be read straight from the website."
   ]
  },
  {
   "cell_type": "code",
   "execution_count": null,
   "metadata": {
    "vscode": {
     "languageId": "r"
    }
   },
   "outputs": [
    {
     "name": "stderr",
     "output_type": "stream",
     "text": [
      "Warning message in system(\"timedatectl\", intern = TRUE):\n",
      "“running command 'timedatectl' had status 1”\n",
      "── \u001b[1mAttaching packages\u001b[22m ─────────────────────────────────────── tidyverse 1.3.2 ──\n",
      "\u001b[32m✔\u001b[39m \u001b[34mggplot2\u001b[39m 3.4.0      \u001b[32m✔\u001b[39m \u001b[34mpurrr  \u001b[39m 1.0.0 \n",
      "\u001b[32m✔\u001b[39m \u001b[34mtibble \u001b[39m 3.1.8      \u001b[32m✔\u001b[39m \u001b[34mdplyr  \u001b[39m 1.0.10\n",
      "\u001b[32m✔\u001b[39m \u001b[34mtidyr  \u001b[39m 1.2.1      \u001b[32m✔\u001b[39m \u001b[34mstringr\u001b[39m 1.5.0 \n",
      "\u001b[32m✔\u001b[39m \u001b[34mreadr  \u001b[39m 2.1.3      \u001b[32m✔\u001b[39m \u001b[34mforcats\u001b[39m 0.5.2 \n",
      "── \u001b[1mConflicts\u001b[22m ────────────────────────────────────────── tidyverse_conflicts() ──\n",
      "\u001b[31m✖\u001b[39m \u001b[34mdplyr\u001b[39m::\u001b[32mfilter()\u001b[39m masks \u001b[34mstats\u001b[39m::filter()\n",
      "\u001b[31m✖\u001b[39m \u001b[34mdplyr\u001b[39m::\u001b[32mlag()\u001b[39m    masks \u001b[34mstats\u001b[39m::lag()\n",
      "\n",
      "Attaching package: ‘gridExtra’\n",
      "\n",
      "\n",
      "The following object is masked from ‘package:dplyr’:\n",
      "\n",
      "    combine\n",
      "\n",
      "\n"
     ]
    }
   ],
   "source": [
    "library(tidyverse)\n",
    "# install.packages(\"infer\")\n",
    "library(infer)\n",
    "library(repr)\n",
    "library(ggplot2)\n",
    "library(gridExtra)\n",
    "# library(tidyverse)\n",
    "# library(datateachr)\n",
    "# library(digest)\n",
    "# library(infer)\n",
    "# library(repr)\n",
    "# library(taxyvr)\n",
    "# library(tidyverse)\n",
    "# library(broom)\n",
    "# library(digest)\n",
    "library(GGally)\n",
    "# library(scales)\n",
    "# library(gridExtra)\n",
    "\n",
    "set.seed(4204)\n",
    "\n",
    "# load the url where the dataset is at \n",
    "url <- \"https://raw.githubusercontent.com/vindennt/stat-201-project-group-10/main/ds_salaries.csv\"\n",
    "\n",
    "#use suppressMessages() to avoid the warning message when it automatically gives a\n",
    "#name to the first column, which is just indecies\n",
    "salaries <- suppressMessages(\n",
    "read_delim(url, delim = \",\") %>%\n",
    "select(!...1))\n",
    "\n",
    "# get a preview of the dataset\n",
    "head(salaries)"
   ]
  },
  {
   "cell_type": "code",
   "execution_count": null,
   "metadata": {
    "vscode": {
     "languageId": "r"
    }
   },
   "outputs": [],
   "source": [
    "# As the salaries of part-time positions can vary due to various factors, we exclude them from our analysis \n",
    "# and focus solely on the salaries for full-time positions.\n",
    "\n",
    "# In preparation for potential hypothesis testing using the Central Limit Theorem, we need to identify which \n",
    "# job titles have a sample size that is sufficiently large (we consider n > 30 to be a large sample size, \n",
    "# as discussed in class).\n",
    "salaries <- salaries %>%\n",
    "    filter(employment_type == \"FT\") %>%\n",
    "    group_by(job_title) %>%\n",
    "    mutate(n = n()) %>%\n",
    "    filter(n > 30)\n",
    "\n",
    "# Output the list of job titles that we are considering working with.\n",
    "large_job_groups <- as.list(unique(salaries$job_title))\n",
    "large_job_groups\n",
    "\n",
    "# Now let's only gather the information that we are interested in about these four titles:\n",
    "# 1. salaries in usd (to enable salary comparison)\n",
    "# 2. remote ratio, change the numerical values into categorical values for ease of visualization \n",
    "inperson <- salaries %>%\n",
    "    filter(remote_ratio == 0) %>%\n",
    "    mutate(remote_ratio = \"in person\")\n",
    "hybrid <- salaries %>%\n",
    "    filter(remote_ratio == 50) %>%\n",
    "    mutate(remote_ratio = \"hybrid\")\n",
    "remote <- salaries %>%\n",
    "    filter(remote_ratio == 100) %>%\n",
    "    mutate(remote_ratio = \"remote\")\n",
    "salaries_new <- rbind(inperson, hybrid, remote) %>%\n",
    "    select(-salary_currency, -salary, -employee_residence, -company_location, -employment_type)\n",
    "\n",
    "head(salaries_new)"
   ]
  },
  {
   "cell_type": "code",
   "execution_count": null,
   "metadata": {
    "vscode": {
     "languageId": "r"
    }
   },
   "outputs": [],
   "source": [
    "\n",
    "options(repr.plot.width = 10, repr.plot.height = 4)\n",
    "\n",
    "salaries_ds_large <- salaries_new %>%\n",
    "    filter(company_size == \"L\") %>%\n",
    "    filter(job_title == \"Data Scientist\")\n",
    "\n",
    "ds_salary_dist <- salaries_ds_large %>% # data scientist salary distribution for large companies\n",
    "    ggplot(aes(x = salary_in_usd, y = after_stat(density))) +\n",
    "    geom_histogram(binwidth = 20000) +\n",
    "    geom_vline(xintercept = mean(salaries_ds_large$salary_in_usd),\n",
    "              color = \"blue\") +\n",
    "    labs(x = \"Salary (USD)\", title = \"Data scientist salary\") +\n",
    "    scale_x_continuous(labels = scales::dollar_format()) + # so salaries aren't in scientific notation\n",
    "    coord_cartesian(xlim = c(0, 300000), ylim = c(0, 1e-05)) # same width x-axes\n",
    "\n",
    "salaries_pda_large <- salaries_new %>%\n",
    "    filter(company_size == \"L\") %>%\n",
    "    filter(job_title == \"Data Analyst\")\n",
    "\n",
    "pda_salary_dist <- salaries_pda_large %>% # data analyst salary distribution for large companies\n",
    "    ggplot(aes(x = salary_in_usd, y = ..density..)) +\n",
    "    geom_histogram(binwidth = 20000) +\n",
    "    geom_vline(xintercept = mean(salaries_pda_large$salary_in_usd),\n",
    "              color = \"blue\") +\n",
    "    labs(x = \"Salary (USD)\", title = \"Data analyst salary\") +\n",
    "    scale_x_continuous(labels = scales::dollar_format()) + # so salaries aren't in scientific notation\n",
    "    coord_cartesian(xlim = c(0, 300000), ylim = c(0, 1e-05)) # same width x-axes\n",
    "\n",
    "grid.arrange(ds_salary_dist, pda_salary_dist, ncol = 2, top = \"Salary differences of large company sizes\")\n",
    "\n",
    "#======#======#======#======#======#======#======#======#======#======#======#======#======#======#======#======\n",
    "\n",
    "salaries_ds_medium <- salaries_new %>%\n",
    "    filter(company_size == \"M\") %>%\n",
    "    filter(job_title == \"Data Scientist\")\n",
    "\n",
    "ds_salary_dist <- salaries_ds_medium %>% # data analyst distribution\n",
    "    ggplot(aes(x = salary_in_usd, y = ..density..)) +\n",
    "    geom_histogram(binwidth = 20000) +\n",
    "    geom_vline(xintercept = mean(salaries_ds_medium$salary_in_usd),\n",
    "              color = \"blue\") +\n",
    "    labs(x = \"Salary (USD)\", title = \"Salary for data scientist\") +\n",
    "    scale_x_continuous(labels = scales::dollar_format()) + # so salaries aren't in scientific notation\n",
    "    coord_cartesian(xlim = c(0, 300000), ylim = c(0, 1e-05)) # same width x-axes\n",
    "\n",
    "salaries_pda_medium <- salaries_new %>%\n",
    "    filter(company_size == \"M\") %>%\n",
    "    filter(job_title == \"Data Analyst\")\n",
    "\n",
    "pda_salary_dist <- salaries_pda_medium %>% # data analyst distribution\n",
    "    ggplot(aes(x = salary_in_usd, y = ..density..)) +\n",
    "    geom_histogram(binwidth = 20000) +\n",
    "    geom_vline(xintercept = mean(salaries_pda_medium$salary_in_usd),\n",
    "              color = \"blue\") +\n",
    "    labs(x = \"Salary (USD)\", title = \"Salary for data analyst\") +\n",
    "    scale_x_continuous(labels = scales::dollar_format()) + # so salaries aren't in scientific notation\n",
    "    coord_cartesian(xlim = c(0, 300000), ylim = c(0, 1e-05)) # same width x-axes\n",
    "\n",
    "grid.arrange(ds_salary_dist, pda_salary_dist, ncol = 2, top = \"Salary differences of medium company sizes\")\n",
    "\n",
    "#======#======#======#======#======#======#======#======#======#======#======#======#======#======#======#======\n",
    "\n",
    "salaries_ds_small <- salaries_new %>%\n",
    "    filter(company_size == \"S\") %>%\n",
    "    filter(job_title == \"Data Scientist\")\n",
    "\n",
    "ds_salary_dist <- salaries_ds_small %>% # data analyst distribution\n",
    "    ggplot(aes(x = salary_in_usd, y = ..density..)) +\n",
    "    geom_histogram(binwidth = 20000) +\n",
    "    geom_vline(xintercept = mean(salaries_ds_small$salary_in_usd),\n",
    "              color = \"blue\") +\n",
    "    labs(x = \"Salary (USD)\", title = \"Salary for data scientist\") +\n",
    "    scale_x_continuous(labels = scales::dollar_format()) + # so salaries aren't in scientific notation\n",
    "    coord_cartesian(xlim = c(0, 300000), ylim = c(0, 1e-05)) # same width x-axes\n",
    "\n",
    "salaries_pda_small <- salaries_new %>%\n",
    "    filter(company_size == \"S\") %>%\n",
    "    filter(job_title == \"Data Analyst\")\n",
    "\n",
    "pda_salary_dist <- salaries_pda_small %>% # data analyst distribution\n",
    "    ggplot(aes(x = salary_in_usd, y = ..density..)) +\n",
    "    geom_histogram(binwidth = 20000) +\n",
    "    geom_vline(xintercept = mean(salaries_pda_small$salary_in_usd),\n",
    "              color = \"blue\") +\n",
    "    labs(x = \"Salary (USD)\", title = \"Salary for data analyst\") +\n",
    "    scale_x_continuous(labels = scales::dollar_format()) + # so salaries aren't in scientific notation\n",
    "    coord_cartesian(xlim = c(0, 300000), ylim = c(0, 1e-05)) # same width x-axes\n",
    "\n",
    "grid.arrange(ds_salary_dist, pda_salary_dist, ncol = 2, top = \"Salary differences of small company sizes\")\n",
    "\n",
    "#======#======#======#======#======#======#======#======#======#======#======#======#======#======#======#======\n",
    "# since we can see that \n",
    "\n",
    "\n",
    "ds_salary_dist <- salaries_new %>% # data analyst distribution\n",
    "    filter(job_title == \"Data Scientist\") %>%\n",
    "    ggplot(aes(x = salary_in_usd, y = ..density..)) +\n",
    "    geom_histogram(binwidth = 20000) +\n",
    "    geom_vline(xintercept = mean(filter(salaries_new, job_title == \"Data Scientist\")$salary_in_usd),\n",
    "              color = \"blue\") +\n",
    "    labs(x = \"Salary (USD)\", title = \"Salary for data scientist\") +\n",
    "    scale_x_continuous(labels = scales::dollar_format()) + # so salaries aren't in scientific notation\n",
    "    coord_cartesian(xlim = c(0, 300000), ylim = c(0, 1e-05)) # same width x-axes\n",
    "\n",
    "pda_salary_dist <- salaries_new %>% # data analyst distribution\n",
    "    filter(job_title == \"Data Analyst\") %>%\n",
    "    ggplot(aes(x = salary_in_usd, y = ..density..)) +\n",
    "    geom_histogram(binwidth = 20000) +\n",
    "    geom_vline(xintercept = mean(filter(salaries_new, job_title == \"Data Analyst\")$salary_in_usd),\n",
    "              color = \"blue\") +\n",
    "    labs(x = \"Salary (USD)\", title = \"Salary for data analyst\") +\n",
    "    scale_x_continuous(labels = scales::dollar_format()) + # so salaries aren't in scientific notation\n",
    "    coord_cartesian(xlim = c(0, 300000), ylim = c(0, 1e-05)) # same width x-axes\n",
    "\n",
    "grid.arrange(ds_salary_dist, pda_salary_dist, ncol = 2, top = \"Salary differences of all company sizes\")"
   ]
  },
  {
   "cell_type": "code",
   "execution_count": null,
   "metadata": {
    "vscode": {
     "languageId": "r"
    }
   },
   "outputs": [],
   "source": [
    "# We also want to visualize data for the proportions of remote work employees, and we only consider remote workers as those who work fully remotely \n",
    "\n",
    "options(repr.plot.width = 7, repr.plot.height = 4)\n",
    "\n",
    "remote_prop_visual <- salaries_new %>%\n",
    "    filter(job_title == \"Data Analyst\" || job_title == \"Data Scientist\") %>%\n",
    "    ggplot(aes(x = job_title, fill = remote_ratio == \"remote\")) +\n",
    "    geom_bar(position = \"fill\", width = 0.7) +\n",
    "    xlab(\"Job title\") +\n",
    "    ylab(\"Proportion\") +\n",
    "    ggtitle(\"Proportions of data science jobs working remotely\") +\n",
    "    labs(fill = \"Fully remote\")\n",
    "\n",
    "remote_prop_visual"
   ]
  },
  {
   "cell_type": "markdown",
   "metadata": {},
   "source": [
    "# Estimates"
   ]
  },
  {
   "cell_type": "code",
   "execution_count": null,
   "metadata": {
    "vscode": {
     "languageId": "r"
    }
   },
   "outputs": [],
   "source": [
    "# Here, we will calcualte basic point estimate statistics for future inferences.\n",
    "\n",
    "data_estimates <- salaries_new %>%\n",
    "    group_by(job_title) %>%\n",
    "    summarize(n = n(),\n",
    "              salary_mean = mean(salary_in_usd), \n",
    "              salary_sd = sd(salary_in_usd), \n",
    "              remote_prop = mean(remote_ratio == \"remote\"), \n",
    "              remote_sd = sqrt(remote_prop * (1 - remote_prop)))\n",
    "\n",
    "head(data_estimates)"
   ]
  },
  {
   "cell_type": "markdown",
   "metadata": {
    "tags": []
   },
   "source": [
    "# Methods"
   ]
  },
  {
   "cell_type": "markdown",
   "metadata": {},
   "source": [
    "Up till now, the report has demonstrated differences in mean salaries and proportions of remote work among Data Scientists and Data Analysts. To ensure randomness, representative samples of full-time employees with sample sizes greater than 30 were used.\n",
    "However, relying on point estimates and plots alone is not enough to establish these differences. Therefore, to address this issue, the report proposes using the Central Limit Theorem, as the samples are roughly normally distributed and less computationally intensive than resampling methods.\n",
    "By letting Data Scientists be population 1, and Data Analysts as population 2, we aim to test the following hypothesis for the mean salary:\n",
    "$$H_0 : \\mu_2 - \\mu_1 = 0$$\n",
    "$$H_1 : \\mu_2 - \\mu_1 \\neq 0$$\n",
    "\n",
    "for the proportion of remote work:\n",
    "$$H_0 : p_2 - p_1 = 0$$\n",
    "$$H_1 : p_2 - p_1 \\neq 0$$\n",
    "\n",
    "where $\\mu$ is the population's mean salary and $p$ is its proportion of employees working remotely. \n",
    "\n",
    "We expect to reject both null hypotheses, and will include a 90% confidence interval in our final report.\n",
    "\n",
    "### Impact\n",
    "\n",
    "The outcomes of these findings could affect the decisions of newly graduated data scientists in terms of which job positions to seek and which career paths to focus on during their undergraduate studies.\n",
    "\n",
    "### Future\n",
    "\n",
    "This prompts further questions about how differences in experience, company location, and company size may affect the comparison of job titles in the field of Data Science. Additionally, with more data, these issues can be explored for the other professions that were not thoroughly examined due to limitations in sample size and distribution."
   ]
  },
  {
   "cell_type": "markdown",
   "metadata": {},
   "source": [
    "# References"
   ]
  },
  {
   "cell_type": "markdown",
   "metadata": {},
   "source": [
    "Bhatia, R. (2022). *Data science job salaries*. https://www.kaggle.com/datasets/ruchi798/data-science-job-salaries\n",
    "\n",
    "Card, D., Mas, A., Moretti, E., & Saez, E. (2012). Inequality at work: The effect of peer salaries on job satisfaction. *American Economic Review*, 102(6), 2981–3003. https://doi.org/10.1257/aer.102.6.2981\n",
    "\n",
    "Galanti, T., Guidetti, G., Mazzei, E., Zappalà, S., & Toscano, F. (2021). Work from home during the COVID-19 outbreak: the impact on employees' remote work productivity, engagement, and stress. *Journal of Occupational and Environmental Medicine*, 63(7), e426–e432. https://doi.org/10.1097/JOM.0000000000002236"
   ]
  }
 ],
 "metadata": {
  "kernelspec": {
   "display_name": "R",
   "language": "R",
   "name": "ir"
  },
  "language_info": {
   "codemirror_mode": "r",
   "file_extension": ".r",
   "mimetype": "text/x-r-source",
   "name": "R",
   "pygments_lexer": "r",
   "version": "4.2.2"
  }
 },
 "nbformat": 4,
 "nbformat_minor": 4
}
