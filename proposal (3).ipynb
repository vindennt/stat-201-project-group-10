{
 "cells": [
  {
   "cell_type": "markdown",
   "metadata": {},
   "source": [
    "# **STAT-201 Project Proposal**\n",
    "## Analysis of data science salaries\n",
    "\n",
    "Prabh Sehgal, Rainie Fu, Rishabh Mathur, Dennis Truong"
   ]
  },
  {
   "cell_type": "markdown",
   "metadata": {},
   "source": [
    "## Introduction\n",
    "A key factor in employee happiness is financial compensation, and past work during the COVID-19 pandemic have shown that working remotely can also have a positive impact on happiness thanks to increased employee autonomy. (Card et al., 2012; Galanti et al., 2021). Our analysis aims to explore the relationships between different data science jobs, their salaries, and their proportions doing remote work. Our analyses can inform prospective emplyees about each position's remote work flexibility and typical salary. Employees may use these inferences to discover new data science occupations that better align with their work-life goals."
   ]
  },
  {
   "cell_type": "markdown",
   "metadata": {},
   "source": [
    "### Research Question\n",
    "\n",
    "If full-time Data Scientists and Data Analysts were compared, is there a difference in the means of salaries and difference in proportions of remote work?\n"
   ]
  },
  {
   "cell_type": "markdown",
   "metadata": {},
   "source": [
    "### Dataset\n",
    "\n",
    "Our research utilizes the dataset \"Data Science Job Salaries\" by Ruchi Bhatia (2022) from [Kaggle](https://www.kaggle.com/datasets/ruchi798/data-science-job-salaries). Observations include the year the salary was paid, experience level, work kind, title, salary, remote ratio, firm size, and company location. The main observations we aim to use are the ```job_title``` to tell us the job type, the ```salary_in_USD``` to inform us about each role's salary, and the ```remote_ratio``` to give us the proportion of poeple working remotely in that respective role.\n"
   ]
  },
  {
   "cell_type": "markdown",
   "metadata": {},
   "source": [
    "## Preliminary Results"
   ]
  },
  {
   "cell_type": "markdown",
   "metadata": {},
   "source": [
    "### Exploring our Data\n",
    "\n",
    "We downloaded the data to our repository and read it from there since Kaggle does not let datasets to be read straight from the website."
   ]
  },
  {
   "cell_type": "code",
   "execution_count": 6,
   "metadata": {
    "vscode": {
     "languageId": "r"
    }
   },
   "outputs": [
    {
     "data": {
      "text/html": [
       "<table class=\"dataframe\">\n",
       "<caption>A tibble: 6 × 11</caption>\n",
       "<thead>\n",
       "\t<tr><th scope=col>work_year</th><th scope=col>experience_level</th><th scope=col>employment_type</th><th scope=col>job_title</th><th scope=col>salary</th><th scope=col>salary_currency</th><th scope=col>salary_in_usd</th><th scope=col>employee_residence</th><th scope=col>remote_ratio</th><th scope=col>company_location</th><th scope=col>company_size</th></tr>\n",
       "\t<tr><th scope=col>&lt;dbl&gt;</th><th scope=col>&lt;chr&gt;</th><th scope=col>&lt;chr&gt;</th><th scope=col>&lt;chr&gt;</th><th scope=col>&lt;dbl&gt;</th><th scope=col>&lt;chr&gt;</th><th scope=col>&lt;dbl&gt;</th><th scope=col>&lt;chr&gt;</th><th scope=col>&lt;dbl&gt;</th><th scope=col>&lt;chr&gt;</th><th scope=col>&lt;chr&gt;</th></tr>\n",
       "</thead>\n",
       "<tbody>\n",
       "\t<tr><td>2020</td><td>MI</td><td>FT</td><td>Data Scientist            </td><td> 70000</td><td>EUR</td><td> 79833</td><td>DE</td><td>  0</td><td>DE</td><td>L</td></tr>\n",
       "\t<tr><td>2020</td><td>SE</td><td>FT</td><td>Machine Learning Scientist</td><td>260000</td><td>USD</td><td>260000</td><td>JP</td><td>  0</td><td>JP</td><td>S</td></tr>\n",
       "\t<tr><td>2020</td><td>SE</td><td>FT</td><td>Big Data Engineer         </td><td> 85000</td><td>GBP</td><td>109024</td><td>GB</td><td> 50</td><td>GB</td><td>M</td></tr>\n",
       "\t<tr><td>2020</td><td>MI</td><td>FT</td><td>Product Data Analyst      </td><td> 20000</td><td>USD</td><td> 20000</td><td>HN</td><td>  0</td><td>HN</td><td>S</td></tr>\n",
       "\t<tr><td>2020</td><td>SE</td><td>FT</td><td>Machine Learning Engineer </td><td>150000</td><td>USD</td><td>150000</td><td>US</td><td> 50</td><td>US</td><td>L</td></tr>\n",
       "\t<tr><td>2020</td><td>EN</td><td>FT</td><td>Data Analyst              </td><td> 72000</td><td>USD</td><td> 72000</td><td>US</td><td>100</td><td>US</td><td>L</td></tr>\n",
       "</tbody>\n",
       "</table>\n"
      ],
      "text/latex": [
       "A tibble: 6 × 11\n",
       "\\begin{tabular}{lllllllllll}\n",
       " work\\_year & experience\\_level & employment\\_type & job\\_title & salary & salary\\_currency & salary\\_in\\_usd & employee\\_residence & remote\\_ratio & company\\_location & company\\_size\\\\\n",
       " <dbl> & <chr> & <chr> & <chr> & <dbl> & <chr> & <dbl> & <chr> & <dbl> & <chr> & <chr>\\\\\n",
       "\\hline\n",
       "\t 2020 & MI & FT & Data Scientist             &  70000 & EUR &  79833 & DE &   0 & DE & L\\\\\n",
       "\t 2020 & SE & FT & Machine Learning Scientist & 260000 & USD & 260000 & JP &   0 & JP & S\\\\\n",
       "\t 2020 & SE & FT & Big Data Engineer          &  85000 & GBP & 109024 & GB &  50 & GB & M\\\\\n",
       "\t 2020 & MI & FT & Product Data Analyst       &  20000 & USD &  20000 & HN &   0 & HN & S\\\\\n",
       "\t 2020 & SE & FT & Machine Learning Engineer  & 150000 & USD & 150000 & US &  50 & US & L\\\\\n",
       "\t 2020 & EN & FT & Data Analyst               &  72000 & USD &  72000 & US & 100 & US & L\\\\\n",
       "\\end{tabular}\n"
      ],
      "text/markdown": [
       "\n",
       "A tibble: 6 × 11\n",
       "\n",
       "| work_year &lt;dbl&gt; | experience_level &lt;chr&gt; | employment_type &lt;chr&gt; | job_title &lt;chr&gt; | salary &lt;dbl&gt; | salary_currency &lt;chr&gt; | salary_in_usd &lt;dbl&gt; | employee_residence &lt;chr&gt; | remote_ratio &lt;dbl&gt; | company_location &lt;chr&gt; | company_size &lt;chr&gt; |\n",
       "|---|---|---|---|---|---|---|---|---|---|---|\n",
       "| 2020 | MI | FT | Data Scientist             |  70000 | EUR |  79833 | DE |   0 | DE | L |\n",
       "| 2020 | SE | FT | Machine Learning Scientist | 260000 | USD | 260000 | JP |   0 | JP | S |\n",
       "| 2020 | SE | FT | Big Data Engineer          |  85000 | GBP | 109024 | GB |  50 | GB | M |\n",
       "| 2020 | MI | FT | Product Data Analyst       |  20000 | USD |  20000 | HN |   0 | HN | S |\n",
       "| 2020 | SE | FT | Machine Learning Engineer  | 150000 | USD | 150000 | US |  50 | US | L |\n",
       "| 2020 | EN | FT | Data Analyst               |  72000 | USD |  72000 | US | 100 | US | L |\n",
       "\n"
      ],
      "text/plain": [
       "  work_year experience_level employment_type job_title                  salary\n",
       "1 2020      MI               FT              Data Scientist              70000\n",
       "2 2020      SE               FT              Machine Learning Scientist 260000\n",
       "3 2020      SE               FT              Big Data Engineer           85000\n",
       "4 2020      MI               FT              Product Data Analyst        20000\n",
       "5 2020      SE               FT              Machine Learning Engineer  150000\n",
       "6 2020      EN               FT              Data Analyst                72000\n",
       "  salary_currency salary_in_usd employee_residence remote_ratio\n",
       "1 EUR              79833        DE                   0         \n",
       "2 USD             260000        JP                   0         \n",
       "3 GBP             109024        GB                  50         \n",
       "4 USD              20000        HN                   0         \n",
       "5 USD             150000        US                  50         \n",
       "6 USD              72000        US                 100         \n",
       "  company_location company_size\n",
       "1 DE               L           \n",
       "2 JP               S           \n",
       "3 GB               M           \n",
       "4 HN               S           \n",
       "5 US               L           \n",
       "6 US               L           "
      ]
     },
     "metadata": {},
     "output_type": "display_data"
    }
   ],
   "source": [
    "library(tidyverse)\n",
    "# install.packages(\"infer\")\n",
    "library(infer)\n",
    "library(repr)\n",
    "library(ggplot2)\n",
    "\n",
    "# library(tidyverse)\n",
    "# library(datateachr)\n",
    "# library(digest)\n",
    "# library(infer)\n",
    "# library(repr)\n",
    "# library(taxyvr)\n",
    "# library(tidyverse)\n",
    "# library(broom)\n",
    "# library(digest)\n",
    "# library(GGally)\n",
    "# library(scales)\n",
    "# library(gridExtra)\n",
    "\n",
    "set.seed(4204)\n",
    "\n",
    "# load the url where the dataset is at \n",
    "url <- \"https://raw.githubusercontent.com/vindennt/stat-201-project-group-10/main/ds_salaries.csv\"\n",
    "\n",
    "#use suppressMessages() to avoid the warning message when it automatically gives a\n",
    "#name to the first column, which is just indecies\n",
    "salaries <- suppressMessages(\n",
    "read_delim(url, delim = \",\") %>%\n",
    "select(!...1))\n",
    "\n",
    "# get a preview of the dataset\n",
    "head(salaries)"
   ]
  },
  {
   "cell_type": "code",
   "execution_count": 7,
   "metadata": {
    "vscode": {
     "languageId": "r"
    }
   },
   "outputs": [
    {
     "data": {
      "text/html": [
       "<ol>\n",
       "\t<li>'Data Scientist'</li>\n",
       "\t<li>'Machine Learning Engineer'</li>\n",
       "\t<li>'Data Analyst'</li>\n",
       "\t<li>'Data Engineer'</li>\n",
       "</ol>\n"
      ],
      "text/latex": [
       "\\begin{enumerate}\n",
       "\\item 'Data Scientist'\n",
       "\\item 'Machine Learning Engineer'\n",
       "\\item 'Data Analyst'\n",
       "\\item 'Data Engineer'\n",
       "\\end{enumerate}\n"
      ],
      "text/markdown": [
       "1. 'Data Scientist'\n",
       "2. 'Machine Learning Engineer'\n",
       "3. 'Data Analyst'\n",
       "4. 'Data Engineer'\n",
       "\n",
       "\n"
      ],
      "text/plain": [
       "[[1]]\n",
       "[1] \"Data Scientist\"\n",
       "\n",
       "[[2]]\n",
       "[1] \"Machine Learning Engineer\"\n",
       "\n",
       "[[3]]\n",
       "[1] \"Data Analyst\"\n",
       "\n",
       "[[4]]\n",
       "[1] \"Data Engineer\"\n"
      ]
     },
     "metadata": {},
     "output_type": "display_data"
    },
    {
     "data": {
      "text/html": [
       "<table class=\"dataframe\">\n",
       "<caption>A grouped_df: 6 × 7</caption>\n",
       "<thead>\n",
       "\t<tr><th scope=col>work_year</th><th scope=col>experience_level</th><th scope=col>job_title</th><th scope=col>salary_in_usd</th><th scope=col>remote_ratio</th><th scope=col>company_size</th><th scope=col>n</th></tr>\n",
       "\t<tr><th scope=col>&lt;dbl&gt;</th><th scope=col>&lt;chr&gt;</th><th scope=col>&lt;chr&gt;</th><th scope=col>&lt;dbl&gt;</th><th scope=col>&lt;chr&gt;</th><th scope=col>&lt;chr&gt;</th><th scope=col>&lt;int&gt;</th></tr>\n",
       "</thead>\n",
       "<tbody>\n",
       "\t<tr><td>2020</td><td>MI</td><td>Data Scientist           </td><td>79833</td><td>in person</td><td>L</td><td>140</td></tr>\n",
       "\t<tr><td>2020</td><td>EN</td><td>Data Scientist           </td><td>51321</td><td>in person</td><td>S</td><td>140</td></tr>\n",
       "\t<tr><td>2020</td><td>MI</td><td>Data Scientist           </td><td>40481</td><td>in person</td><td>L</td><td>140</td></tr>\n",
       "\t<tr><td>2020</td><td>EN</td><td>Data Scientist           </td><td>39916</td><td>in person</td><td>M</td><td>140</td></tr>\n",
       "\t<tr><td>2020</td><td>MI</td><td>Machine Learning Engineer</td><td>43331</td><td>in person</td><td>M</td><td> 41</td></tr>\n",
       "\t<tr><td>2020</td><td>SE</td><td>Data Engineer            </td><td>33511</td><td>in person</td><td>S</td><td>129</td></tr>\n",
       "</tbody>\n",
       "</table>\n"
      ],
      "text/latex": [
       "A grouped\\_df: 6 × 7\n",
       "\\begin{tabular}{lllllll}\n",
       " work\\_year & experience\\_level & job\\_title & salary\\_in\\_usd & remote\\_ratio & company\\_size & n\\\\\n",
       " <dbl> & <chr> & <chr> & <dbl> & <chr> & <chr> & <int>\\\\\n",
       "\\hline\n",
       "\t 2020 & MI & Data Scientist            & 79833 & in person & L & 140\\\\\n",
       "\t 2020 & EN & Data Scientist            & 51321 & in person & S & 140\\\\\n",
       "\t 2020 & MI & Data Scientist            & 40481 & in person & L & 140\\\\\n",
       "\t 2020 & EN & Data Scientist            & 39916 & in person & M & 140\\\\\n",
       "\t 2020 & MI & Machine Learning Engineer & 43331 & in person & M &  41\\\\\n",
       "\t 2020 & SE & Data Engineer             & 33511 & in person & S & 129\\\\\n",
       "\\end{tabular}\n"
      ],
      "text/markdown": [
       "\n",
       "A grouped_df: 6 × 7\n",
       "\n",
       "| work_year &lt;dbl&gt; | experience_level &lt;chr&gt; | job_title &lt;chr&gt; | salary_in_usd &lt;dbl&gt; | remote_ratio &lt;chr&gt; | company_size &lt;chr&gt; | n &lt;int&gt; |\n",
       "|---|---|---|---|---|---|---|\n",
       "| 2020 | MI | Data Scientist            | 79833 | in person | L | 140 |\n",
       "| 2020 | EN | Data Scientist            | 51321 | in person | S | 140 |\n",
       "| 2020 | MI | Data Scientist            | 40481 | in person | L | 140 |\n",
       "| 2020 | EN | Data Scientist            | 39916 | in person | M | 140 |\n",
       "| 2020 | MI | Machine Learning Engineer | 43331 | in person | M |  41 |\n",
       "| 2020 | SE | Data Engineer             | 33511 | in person | S | 129 |\n",
       "\n"
      ],
      "text/plain": [
       "  work_year experience_level job_title                 salary_in_usd\n",
       "1 2020      MI               Data Scientist            79833        \n",
       "2 2020      EN               Data Scientist            51321        \n",
       "3 2020      MI               Data Scientist            40481        \n",
       "4 2020      EN               Data Scientist            39916        \n",
       "5 2020      MI               Machine Learning Engineer 43331        \n",
       "6 2020      SE               Data Engineer             33511        \n",
       "  remote_ratio company_size n  \n",
       "1 in person    L            140\n",
       "2 in person    S            140\n",
       "3 in person    L            140\n",
       "4 in person    M            140\n",
       "5 in person    M             41\n",
       "6 in person    S            129"
      ]
     },
     "metadata": {},
     "output_type": "display_data"
    }
   ],
   "source": [
    "# As the salaries of part-time positions can vary due to various factors, we exclude them from our analysis \n",
    "# and focus solely on the salaries for full-time positions.\n",
    "\n",
    "# In preparation for potential hypothesis testing using the Central Limit Theorem, we need to identify which \n",
    "# job titles have a sample size that is sufficiently large (we consider n > 30 to be a large sample size, \n",
    "# as discussed in class).\n",
    "salaries <- salaries %>%\n",
    "    filter(employment_type == \"FT\") %>%\n",
    "    group_by(job_title) %>%\n",
    "    mutate(n = n()) %>%\n",
    "    filter(n > 30)\n",
    "\n",
    "# Output the list of job titles that we are considering working with.\n",
    "large_job_groups <- as.list(unique(salaries$job_title))\n",
    "large_job_groups\n",
    "\n",
    "# Now let's only gather the information that we are interested in about these four titles:\n",
    "# 1. salaries in usd (to enable salary comparison)\n",
    "# 2. remote ratio, change the numerical values into categorical values for ease of visualization \n",
    "inperson <- salaries %>%\n",
    "    filter(remote_ratio == 0) %>%\n",
    "    mutate(remote_ratio = \"in person\")\n",
    "hybrid <- salaries %>%\n",
    "    filter(remote_ratio == 50) %>%\n",
    "    mutate(remote_ratio = \"hybrid\")\n",
    "remote <- salaries %>%\n",
    "    filter(remote_ratio == 100) %>%\n",
    "    mutate(remote_ratio = \"remote\")\n",
    "salaries_new <- rbind(inperson, hybrid, remote) %>%\n",
    "    select(-salary_currency, -salary, -employee_residence, -company_location, -employment_type)\n",
    "\n",
    "head(salaries_new)"
   ]
  },
  {
   "cell_type": "code",
   "execution_count": 8,
   "metadata": {
    "vscode": {
     "languageId": "r"
    }
   },
   "outputs": [
    {
     "ename": "ERROR",
     "evalue": "Error in check_breaks_labels(breaks, labels): object 'dollar' not found\n",
     "output_type": "error",
     "traceback": [
      "Error in check_breaks_labels(breaks, labels): object 'dollar' not found\nTraceback:\n",
      "1. scale_x_continuous(labels = dollar)",
      "2. continuous_scale(ggplot_global$x_aes, \"position_c\", identity, \n .     name = name, breaks = breaks, n.breaks = n.breaks, minor_breaks = minor_breaks, \n .     labels = labels, limits = limits, expand = expand, oob = oob, \n .     na.value = na.value, trans = trans, guide = guide, position = position, \n .     super = ScaleContinuousPosition)",
      "3. check_breaks_labels(breaks, labels)"
     ]
    }
   ],
   "source": [
    "\n",
    "options(repr.plot.width = 10, repr.plot.height = 4)\n",
    "\n",
    "salaries_ds_large <- salaries_new %>%\n",
    "    filter(company_size == \"L\") %>%\n",
    "    filter(job_title == \"Data Scientist\")\n",
    "\n",
    "ds_salary_dist <- salaries_ds_large %>% # data scientist salary distribution for large companies\n",
    "    ggplot(aes(x = salary_in_usd, y = ..density..)) +\n",
    "    geom_histogram(binwidth = 20000) +\n",
    "    geom_vline(xintercept = mean(salaries_ds_large$salary_in_usd),\n",
    "              color = \"blue\") +\n",
    "    labs(x = \"Salary (USD)\", title = \"Data scientist salary\") +\n",
    "    scale_x_continuous(labels = dollar) + # so salaries aren't in scientific notation\n",
    "    coord_cartesian(xlim = c(0, 300000), ylim = c(0, 1e-05)) # same width x-axes\n",
    "\n",
    "salaries_pda_large <- salaries_new %>%\n",
    "    filter(company_size == \"L\") %>%\n",
    "    filter(job_title == \"Data Analyst\")\n",
    "\n",
    "pda_salary_dist <- salaries_pda_large %>% # data analyst salary distribution for large companies\n",
    "    ggplot(aes(x = salary_in_usd, y = ..density..)) +\n",
    "    geom_histogram(binwidth = 20000) +\n",
    "    geom_vline(xintercept = mean(salaries_pda_large$salary_in_usd),\n",
    "              color = \"blue\") +\n",
    "    labs(x = \"Salary (USD)\", title = \"Data analyst salary\") +\n",
    "    scale_x_continuous(labels = comma) + # so salaries aren't in scientific notation\n",
    "    coord_cartesian(xlim = c(0, 300000), ylim = c(0, 1e-05)) # same width x-axes\n",
    "\n",
    "grid.arrange(ds_salary_dist, pda_salary_dist, ncol = 2, top = \"Salary differences of large company sizes\")\n",
    "\n",
    "#======#======#======#======#======#======#======#======#======#======#======#======#======#======#======#======\n",
    "\n",
    "salaries_ds_medium <- salaries_new %>%\n",
    "    filter(company_size == \"M\") %>%\n",
    "    filter(job_title == \"Data Scientist\")\n",
    "\n",
    "ds_salary_dist <- salaries_ds_medium %>% # data analyst distribution\n",
    "    ggplot(aes(x = salary_in_usd, y = ..density..)) +\n",
    "    geom_histogram(binwidth = 20000) +\n",
    "    geom_vline(xintercept = mean(salaries_ds_medium$salary_in_usd),\n",
    "              color = \"blue\") +\n",
    "    labs(x = \"Salary (USD)\", title = \"Salary for data scientist\") +\n",
    "    scale_x_continuous(labels = comma) + # so salaries aren't in scientific notation\n",
    "    coord_cartesian(xlim = c(0, 300000), ylim = c(0, 1e-05)) # same width x-axes\n",
    "\n",
    "salaries_pda_medium <- salaries_new %>%\n",
    "    filter(company_size == \"M\") %>%\n",
    "    filter(job_title == \"Data Analyst\")\n",
    "\n",
    "pda_salary_dist <- salaries_pda_medium %>% # data analyst distribution\n",
    "    ggplot(aes(x = salary_in_usd, y = ..density..)) +\n",
    "    geom_histogram(binwidth = 20000) +\n",
    "    geom_vline(xintercept = mean(salaries_pda_medium$salary_in_usd),\n",
    "              color = \"blue\") +\n",
    "    labs(x = \"Salary (USD)\", title = \"Salary for data analyst\") +\n",
    "    scale_x_continuous(labels = comma) + # so salaries aren't in scientific notation\n",
    "    coord_cartesian(xlim = c(0, 300000), ylim = c(0, 1e-05)) # same width x-axes\n",
    "\n",
    "grid.arrange(ds_salary_dist, pda_salary_dist, ncol = 2, top = \"Salary differences of medium company sizes\")\n",
    "\n",
    "#======#======#======#======#======#======#======#======#======#======#======#======#======#======#======#======\n",
    "\n",
    "salaries_ds_small <- salaries_new %>%\n",
    "    filter(company_size == \"S\") %>%\n",
    "    filter(job_title == \"Data Scientist\")\n",
    "\n",
    "ds_salary_dist <- salaries_ds_small %>% # data analyst distribution\n",
    "    ggplot(aes(x = salary_in_usd, y = ..density..)) +\n",
    "    geom_histogram(binwidth = 20000) +\n",
    "    geom_vline(xintercept = mean(salaries_pda_small$salary_in_usd),\n",
    "              color = \"blue\") +\n",
    "    labs(x = \"Salary (USD)\", title = \"Salary for data scientist\") +\n",
    "    scale_x_continuous(labels = comma) + # so salaries aren't in scientific notation\n",
    "    coord_cartesian(xlim = c(0, 300000), ylim = c(0, 1e-05)) # same width x-axes\n",
    "\n",
    "salaries_pda_small <- salaries_new %>%\n",
    "    filter(company_size == \"S\") %>%\n",
    "    filter(job_title == \"Data Analyst\")\n",
    "\n",
    "pda_salary_dist <- salaries_pda_small %>% # data analyst distribution\n",
    "    ggplot(aes(x = salary_in_usd, y = ..density..)) +\n",
    "    geom_histogram(binwidth = 20000) +\n",
    "    geom_vline(xintercept = mean(salaries_pda_small$salary_in_usd),\n",
    "              color = \"blue\") +\n",
    "    labs(x = \"Salary (USD)\", title = \"Salary for data analyst\") +\n",
    "    scale_x_continuous(labels = comma) + # so salaries aren't in scientific notation\n",
    "    coord_cartesian(xlim = c(0, 300000), ylim = c(0, 1e-05)) # same width x-axes\n",
    "\n",
    "grid.arrange(ds_salary_dist, pda_salary_dist, ncol = 2, top = \"Salary differences of small company sizes\")\n",
    "\n",
    "#======#======#======#======#======#======#======#======#======#======#======#======#======#======#======#======\n",
    "# since we can see that \n",
    "\n",
    "\n",
    "ds_salary_dist <- salaries_new %>% # data analyst distribution\n",
    "    filter(job_title == \"Data Scientist\") %>%\n",
    "    ggplot(aes(x = salary_in_usd, y = ..density..)) +\n",
    "    geom_histogram(binwidth = 20000) +\n",
    "    geom_vline(xintercept = mean(filter(salaries_new, job_title == \"Data Scientist\")$salary_in_usd),\n",
    "              color = \"blue\") +\n",
    "    labs(x = \"Salary (USD)\", title = \"Salary for data scientist\") +\n",
    "    scale_x_continuous(labels = comma) + # so salaries aren't in scientific notation\n",
    "    coord_cartesian(xlim = c(0, 300000), ylim = c(0, 1e-05)) # same width x-axes\n",
    "\n",
    "pda_salary_dist <- salaries_new %>% # data analyst distribution\n",
    "    filter(job_title == \"Data Analyst\") %>%\n",
    "    ggplot(aes(x = salary_in_usd, y = ..density..)) +\n",
    "    geom_histogram(binwidth = 20000) +\n",
    "    geom_vline(xintercept = mean(filter(salaries_new, job_title == \"Data Analyst\")$salary_in_usd),\n",
    "              color = \"blue\") +\n",
    "    labs(x = \"Salary (USD)\", title = \"Salary for data analyst\") +\n",
    "    scale_x_continuous(labels = comma) + # so salaries aren't in scientific notation\n",
    "    coord_cartesian(xlim = c(0, 300000), ylim = c(0, 1e-05)) # same width x-axes\n",
    "\n",
    "grid.arrange(ds_salary_dist, pda_salary_dist, ncol = 2, top = \"Salary differences of all company sizes\")"
   ]
  },
  {
   "cell_type": "code",
   "execution_count": null,
   "metadata": {
    "vscode": {
     "languageId": "r"
    }
   },
   "outputs": [],
   "source": [
    "# We also want to visualize data for the proportions of remote work employees, and we only consider remote workers as those who work fully remotely \n",
    "\n",
    "options(repr.plot.width = 7, repr.plot.height = 4)\n",
    "\n",
    "remote_prop_visual <- salaries_new %>%\n",
    "    filter(job_title == \"Data Analyst\" || job_title = \"Data Scientist\") %>%\n",
    "    ggplot(aes(x = job_title, fill = remote_ratio == \"remote\")) +\n",
    "    geom_bar(position = \"fill\", width = 0.7) +\n",
    "    xlab(\"Job title\") +\n",
    "    ylab(\"Proportion\") +\n",
    "    ggtitle(\"Proportions of data science jobs working remotely\") +\n",
    "    labs(fill = \"Fully remote\")\n",
    "\n",
    "remote_prop_visual"
   ]
  },
  {
   "cell_type": "markdown",
   "metadata": {},
   "source": [
    "# Estimates"
   ]
  },
  {
   "cell_type": "code",
   "execution_count": null,
   "metadata": {
    "vscode": {
     "languageId": "r"
    }
   },
   "outputs": [],
   "source": [
    "# Here, we will calcualte basic point estimate statistics for future inferences.\n",
    "\n",
    "data_estimates <- salaries_new %>%\n",
    "    group_by(job_title) %>%\n",
    "    summarize(n = n(),\n",
    "              salary_mean = mean(salary_in_usd), \n",
    "              salary_sd = sd(salary_in_usd), \n",
    "              remote_prop = mean(remote_ratio == \"remote\"), \n",
    "              remote_sd = sqrt(remote_prop * (1 - remote_prop)))\n",
    "\n",
    "head(data_estimates)"
   ]
  },
  {
   "cell_type": "markdown",
   "metadata": {
    "tags": []
   },
   "source": [
    "# Methods"
   ]
  },
  {
   "cell_type": "markdown",
   "metadata": {},
   "source": [
    "Up till now, the report has demonstrated differences in mean salaries and proportions of remote work among Data Scientists and Data Analysts. To ensure randomness, representative samples of full-time employees with sample sizes greater than 30 were used.\n",
    "However, relying on point estimates and plots alone is not enough to establish these differences. Therefore, to address this issue, the report proposes using the Central Limit Theorem, as the samples are roughly normally distributed and less computationally intensive than resampling methods.\n",
    "By letting Data Scientists be population 1, and Data Analysts as population 2, we aim to test the following hypothesis for the mean salary:\n",
    "$$H_0 : \\mu_2 - \\mu_1 = 0$$\n",
    "$$H_1 : \\mu_2 - \\mu_1 \\neq 0$$\n",
    "\n",
    "for the proportion of remote work:\n",
    "$$H_0 : p_2 - p_1 = 0$$\n",
    "$$H_1 : p_2 - p_1 \\neq 0$$\n",
    "\n",
    "where $\\mu$ is the population's mean salary and $p$ is its proportion of employees working remotely. \n",
    "\n",
    "We expect to reject both null hypotheses, and will include a 90% confidence interval in our final report.\n",
    "\n",
    "### Impact\n",
    "\n",
    "The outcomes of these findings could affect the decisions of newly graduated data scientists in terms of which job positions to seek and which career paths to focus on during their undergraduate studies.\n",
    "\n",
    "### Future\n",
    "\n",
    "This prompts further questions about how differences in experience, company location, and company size may affect the comparison of job titles in the field of Data Science. Additionally, with more data, these issues can be explored for the other professions that were not thoroughly examined due to limitations in sample size and distribution."
   ]
  },
  {
   "cell_type": "markdown",
   "metadata": {},
   "source": [
    "# References"
   ]
  },
  {
   "cell_type": "markdown",
   "metadata": {},
   "source": [
    "Bhatia, R. (2022). *Data science job salaries*. https://www.kaggle.com/datasets/ruchi798/data-science-job-salaries\n",
    "\n",
    "Card, D., Mas, A., Moretti, E., & Saez, E. (2012). Inequality at work: The effect of peer salaries on job satisfaction. *American Economic Review*, 102(6), 2981–3003. https://doi.org/10.1257/aer.102.6.2981\n",
    "\n",
    "Galanti, T., Guidetti, G., Mazzei, E., Zappalà, S., & Toscano, F. (2021). Work from home during the COVID-19 outbreak: the impact on employees' remote work productivity, engagement, and stress. *Journal of Occupational and Environmental Medicine*, 63(7), e426–e432. https://doi.org/10.1097/JOM.0000000000002236"
   ]
  }
 ],
 "metadata": {
  "kernelspec": {
   "display_name": "R",
   "language": "R",
   "name": "ir"
  },
  "language_info": {
   "codemirror_mode": "r",
   "file_extension": ".r",
   "mimetype": "text/x-r-source",
   "name": "R",
   "pygments_lexer": "r",
   "version": "4.2.2"
  }
 },
 "nbformat": 4,
 "nbformat_minor": 4
}
