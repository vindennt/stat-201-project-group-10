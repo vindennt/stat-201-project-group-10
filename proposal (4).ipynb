{
 "cells": [
  {
   "cell_type": "markdown",
   "metadata": {},
   "source": [
    "# **STAT-201 Project Proposal**\n",
    "## Do data analysts and data scientists differ in salaries and work flexibility? \n",
    "\n",
    "Prabh Sehgal, Rainie Fu, Rishabh Mathur, Dennis Truong"
   ]
  },
  {
   "cell_type": "markdown",
   "metadata": {},
   "source": [
    "## Introduction\n",
    "A key factor in employee happiness is financial compensation, and past work during the COVID-19 pandemic have shown that working remotely can also have a positive impact on happiness thanks to increased employee autonomy (Card et al., 2012; Galanti et al., 2021). Our of data science salaries analysis aims to explore the relationships between different data science jobs, their salaries, and their proportions doing remote work. Our analyses can inform prospective emplyees about each position's remote work flexibility and typical salary. Employees may use these inferences to discover new data science occupations that better align with their work-life goals."
   ]
  },
  {
   "cell_type": "markdown",
   "metadata": {},
   "source": [
    "### Research Question\n",
    "\n",
    "If full-time Data Scientists and Data Analysts were compared, is there a difference in the means of salaries and difference in proportions of remote work?\n"
   ]
  },
  {
   "cell_type": "markdown",
   "metadata": {},
   "source": [
    "### Dataset\n",
    "\n",
    "Our research utilizes the dataset \"Data Science Job Salaries\" by Ruchi Bhatia (2022) from [Kaggle](https://www.kaggle.com/datasets/ruchi798/data-science-job-salaries). Observations include the year the salary was paid, experience level, work kind, title, salary, remote ratio, firm size, and company location. The main observations we aim to use are the ```job_title``` to tell us the job type, the ```salary_in_USD``` to inform us about each role's salary, and the ```remote_ratio``` to give us the proportion of poeple working remotely in that respective role.\n"
   ]
  },
  {
   "cell_type": "markdown",
   "metadata": {},
   "source": [
    "## Methods and Results"
   ]
  },
  {
   "cell_type": "markdown",
   "metadata": {},
   "source": [
    "### Reading and cleaning\n",
    "We downloaded the data to our repository and read it from there since Kaggle does not let datasets to be read straight from the website."
   ]
  },
  {
   "cell_type": "code",
   "execution_count": 1,
   "metadata": {
    "vscode": {
     "languageId": "r"
    }
   },
   "outputs": [
    {
     "name": "stderr",
     "output_type": "stream",
     "text": [
      "Installing package into ‘/home/jupyter/R/x86_64-pc-linux-gnu-library/4.2’\n",
      "(as ‘lib’ is unspecified)\n",
      "\n",
      "Warning message in system(\"timedatectl\", intern = TRUE):\n",
      "“running command 'timedatectl' had status 1”\n",
      "── \u001b[1mAttaching core tidyverse packages\u001b[22m ──────────────────────── tidyverse 2.0.0 ──\n",
      "\u001b[32m✔\u001b[39m \u001b[34mdplyr    \u001b[39m 1.1.0     \u001b[32m✔\u001b[39m \u001b[34mreadr    \u001b[39m 2.1.4\n",
      "\u001b[32m✔\u001b[39m \u001b[34mforcats  \u001b[39m 1.0.0     \u001b[32m✔\u001b[39m \u001b[34mstringr  \u001b[39m 1.5.0\n",
      "\u001b[32m✔\u001b[39m \u001b[34mggplot2  \u001b[39m 3.4.1     \u001b[32m✔\u001b[39m \u001b[34mtibble   \u001b[39m 3.2.1\n",
      "\u001b[32m✔\u001b[39m \u001b[34mlubridate\u001b[39m 1.9.2     \u001b[32m✔\u001b[39m \u001b[34mtidyr    \u001b[39m 1.3.0\n",
      "\u001b[32m✔\u001b[39m \u001b[34mpurrr    \u001b[39m 1.0.1     \n",
      "── \u001b[1mConflicts\u001b[22m ────────────────────────────────────────── tidyverse_conflicts() ──\n",
      "\u001b[31m✖\u001b[39m \u001b[34mdplyr\u001b[39m::\u001b[32mfilter()\u001b[39m masks \u001b[34mstats\u001b[39m::filter()\n",
      "\u001b[31m✖\u001b[39m \u001b[34mdplyr\u001b[39m::\u001b[32mlag()\u001b[39m    masks \u001b[34mstats\u001b[39m::lag()\n",
      "\u001b[36mℹ\u001b[39m Use the conflicted package (\u001b[3m\u001b[34m<http://conflicted.r-lib.org/>\u001b[39m\u001b[23m) to force all conflicts to become errors\n",
      "\n",
      "Attaching package: ‘gridExtra’\n",
      "\n",
      "\n",
      "The following object is masked from ‘package:dplyr’:\n",
      "\n",
      "    combine\n",
      "\n",
      "\n",
      "Registered S3 method overwritten by 'GGally':\n",
      "  method from   \n",
      "  +.gg   ggplot2\n",
      "\n",
      "\n",
      "Attaching package: ‘scales’\n",
      "\n",
      "\n",
      "The following object is masked from ‘package:purrr’:\n",
      "\n",
      "    discard\n",
      "\n",
      "\n",
      "The following object is masked from ‘package:readr’:\n",
      "\n",
      "    col_factor\n",
      "\n",
      "\n"
     ]
    },
    {
     "data": {
      "text/html": [
       "<table class=\"dataframe\">\n",
       "<caption>A tibble: 6 × 11</caption>\n",
       "<thead>\n",
       "\t<tr><th scope=col>work_year</th><th scope=col>experience_level</th><th scope=col>employment_type</th><th scope=col>job_title</th><th scope=col>salary</th><th scope=col>salary_currency</th><th scope=col>salary_in_usd</th><th scope=col>employee_residence</th><th scope=col>remote_ratio</th><th scope=col>company_location</th><th scope=col>company_size</th></tr>\n",
       "\t<tr><th scope=col>&lt;dbl&gt;</th><th scope=col>&lt;chr&gt;</th><th scope=col>&lt;chr&gt;</th><th scope=col>&lt;chr&gt;</th><th scope=col>&lt;dbl&gt;</th><th scope=col>&lt;chr&gt;</th><th scope=col>&lt;dbl&gt;</th><th scope=col>&lt;chr&gt;</th><th scope=col>&lt;dbl&gt;</th><th scope=col>&lt;chr&gt;</th><th scope=col>&lt;chr&gt;</th></tr>\n",
       "</thead>\n",
       "<tbody>\n",
       "\t<tr><td>2020</td><td>MI</td><td>FT</td><td>Data Scientist            </td><td> 70000</td><td>EUR</td><td> 79833</td><td>DE</td><td>  0</td><td>DE</td><td>L</td></tr>\n",
       "\t<tr><td>2020</td><td>SE</td><td>FT</td><td>Machine Learning Scientist</td><td>260000</td><td>USD</td><td>260000</td><td>JP</td><td>  0</td><td>JP</td><td>S</td></tr>\n",
       "\t<tr><td>2020</td><td>SE</td><td>FT</td><td>Big Data Engineer         </td><td> 85000</td><td>GBP</td><td>109024</td><td>GB</td><td> 50</td><td>GB</td><td>M</td></tr>\n",
       "\t<tr><td>2020</td><td>MI</td><td>FT</td><td>Product Data Analyst      </td><td> 20000</td><td>USD</td><td> 20000</td><td>HN</td><td>  0</td><td>HN</td><td>S</td></tr>\n",
       "\t<tr><td>2020</td><td>SE</td><td>FT</td><td>Machine Learning Engineer </td><td>150000</td><td>USD</td><td>150000</td><td>US</td><td> 50</td><td>US</td><td>L</td></tr>\n",
       "\t<tr><td>2020</td><td>EN</td><td>FT</td><td>Data Analyst              </td><td> 72000</td><td>USD</td><td> 72000</td><td>US</td><td>100</td><td>US</td><td>L</td></tr>\n",
       "</tbody>\n",
       "</table>\n"
      ],
      "text/latex": [
       "A tibble: 6 × 11\n",
       "\\begin{tabular}{lllllllllll}\n",
       " work\\_year & experience\\_level & employment\\_type & job\\_title & salary & salary\\_currency & salary\\_in\\_usd & employee\\_residence & remote\\_ratio & company\\_location & company\\_size\\\\\n",
       " <dbl> & <chr> & <chr> & <chr> & <dbl> & <chr> & <dbl> & <chr> & <dbl> & <chr> & <chr>\\\\\n",
       "\\hline\n",
       "\t 2020 & MI & FT & Data Scientist             &  70000 & EUR &  79833 & DE &   0 & DE & L\\\\\n",
       "\t 2020 & SE & FT & Machine Learning Scientist & 260000 & USD & 260000 & JP &   0 & JP & S\\\\\n",
       "\t 2020 & SE & FT & Big Data Engineer          &  85000 & GBP & 109024 & GB &  50 & GB & M\\\\\n",
       "\t 2020 & MI & FT & Product Data Analyst       &  20000 & USD &  20000 & HN &   0 & HN & S\\\\\n",
       "\t 2020 & SE & FT & Machine Learning Engineer  & 150000 & USD & 150000 & US &  50 & US & L\\\\\n",
       "\t 2020 & EN & FT & Data Analyst               &  72000 & USD &  72000 & US & 100 & US & L\\\\\n",
       "\\end{tabular}\n"
      ],
      "text/markdown": [
       "\n",
       "A tibble: 6 × 11\n",
       "\n",
       "| work_year &lt;dbl&gt; | experience_level &lt;chr&gt; | employment_type &lt;chr&gt; | job_title &lt;chr&gt; | salary &lt;dbl&gt; | salary_currency &lt;chr&gt; | salary_in_usd &lt;dbl&gt; | employee_residence &lt;chr&gt; | remote_ratio &lt;dbl&gt; | company_location &lt;chr&gt; | company_size &lt;chr&gt; |\n",
       "|---|---|---|---|---|---|---|---|---|---|---|\n",
       "| 2020 | MI | FT | Data Scientist             |  70000 | EUR |  79833 | DE |   0 | DE | L |\n",
       "| 2020 | SE | FT | Machine Learning Scientist | 260000 | USD | 260000 | JP |   0 | JP | S |\n",
       "| 2020 | SE | FT | Big Data Engineer          |  85000 | GBP | 109024 | GB |  50 | GB | M |\n",
       "| 2020 | MI | FT | Product Data Analyst       |  20000 | USD |  20000 | HN |   0 | HN | S |\n",
       "| 2020 | SE | FT | Machine Learning Engineer  | 150000 | USD | 150000 | US |  50 | US | L |\n",
       "| 2020 | EN | FT | Data Analyst               |  72000 | USD |  72000 | US | 100 | US | L |\n",
       "\n"
      ],
      "text/plain": [
       "  work_year experience_level employment_type job_title                  salary\n",
       "1 2020      MI               FT              Data Scientist              70000\n",
       "2 2020      SE               FT              Machine Learning Scientist 260000\n",
       "3 2020      SE               FT              Big Data Engineer           85000\n",
       "4 2020      MI               FT              Product Data Analyst        20000\n",
       "5 2020      SE               FT              Machine Learning Engineer  150000\n",
       "6 2020      EN               FT              Data Analyst                72000\n",
       "  salary_currency salary_in_usd employee_residence remote_ratio\n",
       "1 EUR              79833        DE                   0         \n",
       "2 USD             260000        JP                   0         \n",
       "3 GBP             109024        GB                  50         \n",
       "4 USD              20000        HN                   0         \n",
       "5 USD             150000        US                  50         \n",
       "6 USD              72000        US                 100         \n",
       "  company_location company_size\n",
       "1 DE               L           \n",
       "2 JP               S           \n",
       "3 GB               M           \n",
       "4 HN               S           \n",
       "5 US               L           \n",
       "6 US               L           "
      ]
     },
     "metadata": {},
     "output_type": "display_data"
    }
   ],
   "source": [
    "# Load libraries\n",
    "install.packages(\"infer\")\n",
    "library(tidyverse)\n",
    "library(infer)\n",
    "library(repr)\n",
    "library(ggplot2)\n",
    "library(gridExtra)\n",
    "library(RColorBrewer)\n",
    "library(GGally)\n",
    "library(scales)\n",
    "\n",
    "#library(tidyverse)\n",
    "library(broom)\n",
    "#library(repr)\n",
    "library(digest)\n",
    "# library(infer)\n",
    "# library(gridExtra)\n",
    "\n",
    "# Set seed\n",
    "set.seed(4204)\n",
    "\n",
    "# Get url of dataset from the web|\n",
    "url <- \"https://raw.githubusercontent.com/vindennt/stat-201-project-group-10/main/ds_salaries.csv\"\n",
    "\n",
    "# Use suppressMessages() to avoid the warning message when it automatically gives a\n",
    "# name to the first column, which are just indecies\n",
    "salaries <- suppressMessages(\n",
    "read_delim(url, delim = \",\") %>%\n",
    "select(!...1))\n",
    "\n",
    "# Preview data\n",
    "head(salaries)"
   ]
  },
  {
   "cell_type": "markdown",
   "metadata": {},
   "source": [
    "**Table 1:** Preview of the data science salary dataset to be analyzed."
   ]
  },
  {
   "cell_type": "markdown",
   "metadata": {},
   "source": [
    "As the salaries of part-time positions can vary due to various factors, we exclude them from our analysis \n",
    "and focus solely on the salaries for full-time positions.\n",
    "\n",
    "In preparation for potential hypothesis testing using the Central Limit Theorem, we need to identify which \n",
    "job titles have a sample size that is sufficiently large (we consider n > 30 to be a large sample size, \n",
    "as discussed in class)."
   ]
  },
  {
   "cell_type": "code",
   "execution_count": 2,
   "metadata": {
    "vscode": {
     "languageId": "r"
    }
   },
   "outputs": [
    {
     "data": {
      "text/html": [
       "<ol>\n",
       "\t<li>'Data Scientist'</li>\n",
       "\t<li>'Machine Learning Engineer'</li>\n",
       "\t<li>'Data Analyst'</li>\n",
       "\t<li>'Data Engineer'</li>\n",
       "</ol>\n"
      ],
      "text/latex": [
       "\\begin{enumerate}\n",
       "\\item 'Data Scientist'\n",
       "\\item 'Machine Learning Engineer'\n",
       "\\item 'Data Analyst'\n",
       "\\item 'Data Engineer'\n",
       "\\end{enumerate}\n"
      ],
      "text/markdown": [
       "1. 'Data Scientist'\n",
       "2. 'Machine Learning Engineer'\n",
       "3. 'Data Analyst'\n",
       "4. 'Data Engineer'\n",
       "\n",
       "\n"
      ],
      "text/plain": [
       "[[1]]\n",
       "[1] \"Data Scientist\"\n",
       "\n",
       "[[2]]\n",
       "[1] \"Machine Learning Engineer\"\n",
       "\n",
       "[[3]]\n",
       "[1] \"Data Analyst\"\n",
       "\n",
       "[[4]]\n",
       "[1] \"Data Engineer\"\n"
      ]
     },
     "metadata": {},
     "output_type": "display_data"
    }
   ],
   "source": [
    "# Filter for sample size > 30 and full time workers\n",
    "salaries <- salaries %>%\n",
    "    filter(employment_type == \"FT\") %>%\n",
    "    group_by(job_title) %>%\n",
    "    mutate(n = n()) %>%\n",
    "    filter(n > 30)\n",
    "\n",
    "# Preview the remaining job titles\n",
    "large_job_groups <- as.list(unique(salaries$job_title))\n",
    "large_job_groups"
   ]
  },
  {
   "cell_type": "markdown",
   "metadata": {},
   "source": [
    "Now let's only gather the information that we are interested in about these four titles:\n",
    "1. salaries in usd (to enable salary comparison)\n",
    "2. remote ratio, change the numerical values into categorical values for ease of visualization \n"
   ]
  },
  {
   "cell_type": "code",
   "execution_count": 3,
   "metadata": {
    "vscode": {
     "languageId": "r"
    }
   },
   "outputs": [
    {
     "data": {
      "text/html": [
       "<table class=\"dataframe\">\n",
       "<caption>A grouped_df: 6 × 7</caption>\n",
       "<thead>\n",
       "\t<tr><th scope=col>work_year</th><th scope=col>experience_level</th><th scope=col>job_title</th><th scope=col>salary_in_usd</th><th scope=col>remote_ratio</th><th scope=col>company_size</th><th scope=col>n</th></tr>\n",
       "\t<tr><th scope=col>&lt;dbl&gt;</th><th scope=col>&lt;chr&gt;</th><th scope=col>&lt;chr&gt;</th><th scope=col>&lt;dbl&gt;</th><th scope=col>&lt;chr&gt;</th><th scope=col>&lt;chr&gt;</th><th scope=col>&lt;int&gt;</th></tr>\n",
       "</thead>\n",
       "<tbody>\n",
       "\t<tr><td>2020</td><td>MI</td><td>Data Scientist           </td><td>79833</td><td>in person</td><td>L</td><td>140</td></tr>\n",
       "\t<tr><td>2020</td><td>EN</td><td>Data Scientist           </td><td>51321</td><td>in person</td><td>S</td><td>140</td></tr>\n",
       "\t<tr><td>2020</td><td>MI</td><td>Data Scientist           </td><td>40481</td><td>in person</td><td>L</td><td>140</td></tr>\n",
       "\t<tr><td>2020</td><td>EN</td><td>Data Scientist           </td><td>39916</td><td>in person</td><td>M</td><td>140</td></tr>\n",
       "\t<tr><td>2020</td><td>MI</td><td>Machine Learning Engineer</td><td>43331</td><td>in person</td><td>M</td><td> 41</td></tr>\n",
       "\t<tr><td>2020</td><td>SE</td><td>Data Engineer            </td><td>33511</td><td>in person</td><td>S</td><td>129</td></tr>\n",
       "</tbody>\n",
       "</table>\n"
      ],
      "text/latex": [
       "A grouped\\_df: 6 × 7\n",
       "\\begin{tabular}{lllllll}\n",
       " work\\_year & experience\\_level & job\\_title & salary\\_in\\_usd & remote\\_ratio & company\\_size & n\\\\\n",
       " <dbl> & <chr> & <chr> & <dbl> & <chr> & <chr> & <int>\\\\\n",
       "\\hline\n",
       "\t 2020 & MI & Data Scientist            & 79833 & in person & L & 140\\\\\n",
       "\t 2020 & EN & Data Scientist            & 51321 & in person & S & 140\\\\\n",
       "\t 2020 & MI & Data Scientist            & 40481 & in person & L & 140\\\\\n",
       "\t 2020 & EN & Data Scientist            & 39916 & in person & M & 140\\\\\n",
       "\t 2020 & MI & Machine Learning Engineer & 43331 & in person & M &  41\\\\\n",
       "\t 2020 & SE & Data Engineer             & 33511 & in person & S & 129\\\\\n",
       "\\end{tabular}\n"
      ],
      "text/markdown": [
       "\n",
       "A grouped_df: 6 × 7\n",
       "\n",
       "| work_year &lt;dbl&gt; | experience_level &lt;chr&gt; | job_title &lt;chr&gt; | salary_in_usd &lt;dbl&gt; | remote_ratio &lt;chr&gt; | company_size &lt;chr&gt; | n &lt;int&gt; |\n",
       "|---|---|---|---|---|---|---|\n",
       "| 2020 | MI | Data Scientist            | 79833 | in person | L | 140 |\n",
       "| 2020 | EN | Data Scientist            | 51321 | in person | S | 140 |\n",
       "| 2020 | MI | Data Scientist            | 40481 | in person | L | 140 |\n",
       "| 2020 | EN | Data Scientist            | 39916 | in person | M | 140 |\n",
       "| 2020 | MI | Machine Learning Engineer | 43331 | in person | M |  41 |\n",
       "| 2020 | SE | Data Engineer             | 33511 | in person | S | 129 |\n",
       "\n"
      ],
      "text/plain": [
       "  work_year experience_level job_title                 salary_in_usd\n",
       "1 2020      MI               Data Scientist            79833        \n",
       "2 2020      EN               Data Scientist            51321        \n",
       "3 2020      MI               Data Scientist            40481        \n",
       "4 2020      EN               Data Scientist            39916        \n",
       "5 2020      MI               Machine Learning Engineer 43331        \n",
       "6 2020      SE               Data Engineer             33511        \n",
       "  remote_ratio company_size n  \n",
       "1 in person    L            140\n",
       "2 in person    S            140\n",
       "3 in person    L            140\n",
       "4 in person    M            140\n",
       "5 in person    M             41\n",
       "6 in person    S            129"
      ]
     },
     "metadata": {},
     "output_type": "display_data"
    }
   ],
   "source": [
    "inperson <- salaries %>% # Classify no remote work as being in person work\n",
    "    filter(remote_ratio == 0) %>%\n",
    "    mutate(remote_ratio = \"in person\")\n",
    "hybrid <- salaries %>%\n",
    "    filter(remote_ratio == 50) %>% # Classify partial remote work as a hybrid format\n",
    "    mutate(remote_ratio = \"hybrid\")\n",
    "remote <- salaries %>%\n",
    "    filter(remote_ratio == 100) %>%\n",
    "    mutate(remote_ratio = \"remote\") # Classify 100% remote work as full remote work\n",
    "# Remove unecessary columns\n",
    "salaries_new <- rbind(inperson, hybrid, remote) %>%\n",
    "    select(-salary_currency, -salary, -employee_residence, -company_location, -employment_type) \n",
    "\n",
    "# Preview resulting data\n",
    "head(salaries_new)"
   ]
  },
  {
   "cell_type": "markdown",
   "metadata": {},
   "source": [
    "**Table 2:** Preview of the cleaned and filtered data science salary dataset to be analyzed."
   ]
  },
  {
   "cell_type": "markdown",
   "metadata": {},
   "source": [
    "At this point, we think company size may also play a role in salary amounts and their ability to support more remote work. So, we will plot salary comparisons between Data Scientists and Data Analysts within each respective company size. "
   ]
  },
  {
   "cell_type": "code",
   "execution_count": 4,
   "metadata": {
    "vscode": {
     "languageId": "r"
    }
   },
   "outputs": [
    {
     "data": {
      "image/png": "[encoded data removed]",
      "text/plain": [
       "plot without title"
      ]
     },
     "metadata": {
      "image/png": {
       "height": 240,
       "width": 600
      }
     },
     "output_type": "display_data"
    }
   ],
   "source": [
    "# Set graph sizes to be readable\n",
    "options(repr.plot.width = 10, repr.plot.height = 4)\n",
    "\n",
    "# # Filter for data scientists of large company sizes\n",
    "# salaries_ds_large <- salaries_new %>%\n",
    "#     filter(company_size == \"L\") %>%\n",
    "#     filter(job_title == \"Data Scientist\")\n",
    "\n",
    "# # Plot data scientist distribution after filtering\n",
    "# ds_salary_dist <- salaries_ds_large %>%\n",
    "#     ggplot(aes(x = salary_in_usd, y = after_stat(density))) +\n",
    "#     geom_histogram(binwidth = 20000) +\n",
    "#     labs(x = \"Salary (USD)\", title = \"Data analyst salary\") +\n",
    "#     geom_vline(xintercept = mean(salaries_ds_large$salary_in_usd),color = \"blue\") + # mark the mean to make it easier to see\n",
    "#     scale_x_continuous(labels = scales::dollar_format()) +  # put money in the human-readable unit of USD\n",
    "#     coord_cartesian(xlim = c(0, 300000), ylim = c(0, 1e-05)) + # set x axis to readable scale\n",
    "#     theme(text = element_text(size = 20)) # Set text size to easily readable size\n",
    "    \n",
    "# # Filter for data analysts of large company sizes\n",
    "# salaries_pda_large <- salaries_new %>%\n",
    "#     filter(company_size == \"L\") %>%\n",
    "#     filter(job_title == \"Data Analyst\")\n",
    "\n",
    "# #Plot data analyst  distribution after filtering\n",
    "# pda_salary_dist <- salaries_pda_large %>%\n",
    "#     ggplot(aes(x = salary_in_usd, y = after_stat(density))) +\n",
    "#     geom_histogram(binwidth = 20000) +\n",
    "#     labs(x = \"Salary (USD)\", title = \"Data analyst salary\") +\n",
    "#     geom_vline(xintercept = mean(salaries_pda_large$salary_in_usd),color = \"blue\") +\n",
    "#     scale_x_continuous(labels = scales::dollar_format()) +\n",
    "#     coord_cartesian(xlim = c(0, 300000), ylim = c(0, 1e-05)) +\n",
    "#     theme(text = element_text(size = 20))\n",
    "\n",
    "# # Plot side by side comparison of the two graphs of each job role\n",
    "# grid.arrange(ds_salary_dist, pda_salary_dist, ncol = 2, top = \"Salary distribution for large companies\")\n",
    "\n",
    "# #======#======#======#======#======#======#======#======#======#======#======#======#======#======#======#======\n",
    "# # Repeat above for medium company size\n",
    "# salaries_ds_medium <- salaries_new %>%\n",
    "#     filter(company_size == \"M\") %>%\n",
    "#     filter(job_title == \"Data Scientist\")\n",
    "\n",
    "# ds_salary_dist <- salaries_ds_medium %>% \n",
    "#     ggplot(aes(x = salary_in_usd, y = after_stat(density))) +\n",
    "#     geom_histogram(binwidth = 20000) +\n",
    "#     labs(x = \"Salary (USD)\", title = \"Data scientist salary\") +\n",
    "#     geom_vline(xintercept = mean(salaries_ds_medium$salary_in_usd), color = \"blue\") +\n",
    "#     scale_x_continuous(labels = scales::dollar_format()) +\n",
    "#     coord_cartesian(xlim = c(0, 300000), ylim = c(0, 1e-05)) +\n",
    "#     theme(text = element_text(size = 20))\n",
    "\n",
    "# salaries_pda_medium <- salaries_new %>%\n",
    "#     filter(company_size == \"M\") %>%\n",
    "#     filter(job_title == \"Data Analyst\")\n",
    "\n",
    "# pda_salary_dist <- salaries_pda_medium %>%\n",
    "#     ggplot(aes(x = salary_in_usd, y = after_stat(density))) +\n",
    "#     geom_histogram(binwidth = 20000) +\n",
    "#     labs(x = \"Salary (USD)\", title = \"Data analyst salary\") +\n",
    "#     geom_vline(xintercept = mean(salaries_pda_medium$salary_in_usd), color = \"blue\") +\n",
    "#     scale_x_continuous(labels = scales::dollar_format()) +\n",
    "#     coord_cartesian(xlim = c(0, 300000), ylim = c(0, 1e-05)) +\n",
    "#     theme(text = element_text(size = 20))\n",
    "\n",
    "# grid.arrange(ds_salary_dist, pda_salary_dist, ncol = 2, top = \"Salary distribution for medium companies\")\n",
    "\n",
    "# #======#======#======#======#======#======#======#======#======#======#======#======#======#======#======#======\n",
    "# # Repeat above for small company size\n",
    "# salaries_ds_small <- salaries_new %>%\n",
    "#     filter(company_size == \"S\") %>%\n",
    "#     filter(job_title == \"Data Scientist\")\n",
    "\n",
    "# ds_salary_dist <- salaries_ds_small %>% \n",
    "#     ggplot(aes(x = salary_in_usd, y = after_stat(density))) +\n",
    "#     geom_histogram(binwidth = 20000) +\n",
    "#     labs(x = \"Salary (USD)\", title = \"Data scientist salary\") +\n",
    "#     geom_vline(xintercept = mean(salaries_ds_small$salary_in_usd), color = \"blue\") +\n",
    "#     scale_x_continuous(labels = scales::dollar_format()) + \n",
    "#     coord_cartesian(xlim = c(0, 300000), ylim = c(0, 1e-05)) +\n",
    "#     theme(text = element_text(size = 20))\n",
    "\n",
    "# salaries_pda_small <- salaries_new %>%\n",
    "#     filter(company_size == \"S\") %>%\n",
    "#     filter(job_title == \"Data Analyst\")\n",
    "\n",
    "# pda_salary_dist <- salaries_pda_small %>% \n",
    "#     ggplot(aes(x = salary_in_usd, y = after_stat(density))) +\n",
    "#     geom_histogram(binwidth = 20000) +\n",
    "#     labs(x = \"Salary (USD)\", title = \"Data analyst salary\") +\n",
    "#     geom_vline(xintercept = mean(salaries_pda_small$salary_in_usd), color = \"blue\") +\n",
    "#     scale_x_continuous(labels = scales::dollar_format()) +\n",
    "#     coord_cartesian(xlim = c(0, 300000), ylim = c(0, 1e-05)) +\n",
    "#     theme(text = element_text(size = 20))\n",
    "\n",
    "# grid.arrange(ds_salary_dist, pda_salary_dist, ncol = 2, top = \"Salary distribution for small companies\")\n",
    "\n",
    "#======#======#======#======#======#======#======#======#======#======#======#======#======#======#======#======\n",
    "# Repeat above without filtering for company size\n",
    "\n",
    "ds_salary_dist <- salaries_new %>%\n",
    "    filter(job_title == \"Data Scientist\") %>%\n",
    "    ggplot(aes(x = salary_in_usd, y = after_stat(density))) +\n",
    "    geom_histogram(binwidth = 20000) +\n",
    "    labs(x = \"Salary (USD)\", title = \"Data scientist salary\") +\n",
    "    geom_vline(xintercept = mean(filter(salaries_new, job_title == \"Data Scientist\")$salary_in_usd), color = \"blue\") +\n",
    "    scale_x_continuous(labels = scales::dollar_format()) +\n",
    "    coord_cartesian(xlim = c(0, 300000), ylim = c(0, 1e-05)) +\n",
    "    theme(text = element_text(size = 20))\n",
    "\n",
    "pda_salary_dist <- salaries_new %>% \n",
    "    filter(job_title == \"Data Analyst\") %>%\n",
    "    ggplot(aes(x = salary_in_usd, y = after_stat(density))) +\n",
    "    geom_histogram(binwidth = 20000) +\n",
    "    labs(x = \"Salary (USD)\", title = \"Data analyst salary\") +\n",
    "    geom_vline(xintercept = mean(filter(salaries_new, job_title == \"Data Analyst\")$salary_in_usd), color = \"blue\") +\n",
    "    scale_x_continuous(labels = scales::dollar_format()) +\n",
    "    coord_cartesian(xlim = c(0, 300000), ylim = c(0, 1e-05)) +\n",
    "    theme(text = element_text(size = 20))\n",
    "\n",
    "grid.arrange(ds_salary_dist, pda_salary_dist, ncol = 2, top = \"Salary distribution\")"
   ]
  },
  {
   "cell_type": "markdown",
   "metadata": {},
   "source": [
    "**Figure 1:** Salary distributions for data scientists and data analysts in USD from companies of all sizes."
   ]
  },
  {
   "cell_type": "markdown",
   "metadata": {},
   "source": [
    "We want to visualize data for the proportions of remote work employees, and we only consider remote workers as those who work fully remotely\n",
    "We also onl|y consider the job titles we are analyzing\n"
   ]
  },
  {
   "cell_type": "code",
   "execution_count": 5,
   "metadata": {
    "vscode": {
     "languageId": "r"
    }
   },
   "outputs": [
    {
     "data": {
      "image/png": "[encoded data removed]",
      "text/plain": [
       "plot without title"
      ]
     },
     "metadata": {
      "image/png": {
       "height": 240,
       "width": 420
      }
     },
     "output_type": "display_data"
    }
   ],
   "source": [
    "options(repr.plot.width = 7, repr.plot.height = 4)\n",
    "\n",
    "# Create a bar graph with proportions represented by proprtions of the bar occupied by correspdoning coloer\n",
    "remote_prop_visual <- salaries_new %>%\n",
    "    filter(job_title == \"Data Analyst\" | job_title == \"Data Scientist\") %>%\n",
    "    ggplot(aes(x = job_title, fill = remote_ratio == \"remote\")) +\n",
    "    geom_bar(position = \"fill\", width = 0.7) +\n",
    "    xlab(\"Job title\") +\n",
    "    ylab(\"Proportion\") +\n",
    "    ggtitle(\"Proportions of data science jobs working remotely\") +\n",
    "    labs(fill = \"Fully remote\") +\n",
    "    scale_fill_brewer(palette = \"Paired\") +\n",
    "    theme(text = element_text(size = 14))\n",
    "\n",
    "remote_prop_visual"
   ]
  },
  {
   "cell_type": "markdown",
   "metadata": {},
   "source": [
    "**Figure 2:** Proportion of dat ascience jobs working remotely."
   ]
  },
  {
   "cell_type": "markdown",
   "metadata": {},
   "source": [
    "# Estimates"
   ]
  },
  {
   "cell_type": "markdown",
   "metadata": {},
   "source": [
    "Because we are interested in comparing salaries and remote work proportions , will gather point estimates. We excluded the analysis of company size because the distributions of salaries for some compnay sizes seemed too irregular to infer reliably from."
   ]
  },
  {
   "cell_type": "code",
   "execution_count": 6,
   "metadata": {
    "vscode": {
     "languageId": "r"
    }
   },
   "outputs": [
    {
     "data": {
      "text/html": [
       "<table class=\"dataframe\">\n",
       "<caption>A grouped_df: 6 × 7</caption>\n",
       "<thead>\n",
       "\t<tr><th scope=col>work_year</th><th scope=col>experience_level</th><th scope=col>job_title</th><th scope=col>salary_in_usd</th><th scope=col>remote_ratio</th><th scope=col>company_size</th><th scope=col>n</th></tr>\n",
       "\t<tr><th scope=col>&lt;dbl&gt;</th><th scope=col>&lt;chr&gt;</th><th scope=col>&lt;chr&gt;</th><th scope=col>&lt;dbl&gt;</th><th scope=col>&lt;chr&gt;</th><th scope=col>&lt;chr&gt;</th><th scope=col>&lt;int&gt;</th></tr>\n",
       "</thead>\n",
       "<tbody>\n",
       "\t<tr><td>2020</td><td>MI</td><td>Data Scientist</td><td>79833</td><td>in person</td><td>L</td><td>140</td></tr>\n",
       "\t<tr><td>2020</td><td>EN</td><td>Data Scientist</td><td>51321</td><td>in person</td><td>S</td><td>140</td></tr>\n",
       "\t<tr><td>2020</td><td>MI</td><td>Data Scientist</td><td>40481</td><td>in person</td><td>L</td><td>140</td></tr>\n",
       "\t<tr><td>2020</td><td>EN</td><td>Data Scientist</td><td>39916</td><td>in person</td><td>M</td><td>140</td></tr>\n",
       "\t<tr><td>2020</td><td>EN</td><td>Data Analyst  </td><td> 6072</td><td>in person</td><td>S</td><td> 96</td></tr>\n",
       "\t<tr><td>2020</td><td>EN</td><td>Data Scientist</td><td>49268</td><td>in person</td><td>S</td><td>140</td></tr>\n",
       "</tbody>\n",
       "</table>\n"
      ],
      "text/latex": [
       "A grouped\\_df: 6 × 7\n",
       "\\begin{tabular}{lllllll}\n",
       " work\\_year & experience\\_level & job\\_title & salary\\_in\\_usd & remote\\_ratio & company\\_size & n\\\\\n",
       " <dbl> & <chr> & <chr> & <dbl> & <chr> & <chr> & <int>\\\\\n",
       "\\hline\n",
       "\t 2020 & MI & Data Scientist & 79833 & in person & L & 140\\\\\n",
       "\t 2020 & EN & Data Scientist & 51321 & in person & S & 140\\\\\n",
       "\t 2020 & MI & Data Scientist & 40481 & in person & L & 140\\\\\n",
       "\t 2020 & EN & Data Scientist & 39916 & in person & M & 140\\\\\n",
       "\t 2020 & EN & Data Analyst   &  6072 & in person & S &  96\\\\\n",
       "\t 2020 & EN & Data Scientist & 49268 & in person & S & 140\\\\\n",
       "\\end{tabular}\n"
      ],
      "text/markdown": [
       "\n",
       "A grouped_df: 6 × 7\n",
       "\n",
       "| work_year &lt;dbl&gt; | experience_level &lt;chr&gt; | job_title &lt;chr&gt; | salary_in_usd &lt;dbl&gt; | remote_ratio &lt;chr&gt; | company_size &lt;chr&gt; | n &lt;int&gt; |\n",
       "|---|---|---|---|---|---|---|\n",
       "| 2020 | MI | Data Scientist | 79833 | in person | L | 140 |\n",
       "| 2020 | EN | Data Scientist | 51321 | in person | S | 140 |\n",
       "| 2020 | MI | Data Scientist | 40481 | in person | L | 140 |\n",
       "| 2020 | EN | Data Scientist | 39916 | in person | M | 140 |\n",
       "| 2020 | EN | Data Analyst   |  6072 | in person | S |  96 |\n",
       "| 2020 | EN | Data Scientist | 49268 | in person | S | 140 |\n",
       "\n"
      ],
      "text/plain": [
       "  work_year experience_level job_title      salary_in_usd remote_ratio\n",
       "1 2020      MI               Data Scientist 79833         in person   \n",
       "2 2020      EN               Data Scientist 51321         in person   \n",
       "3 2020      MI               Data Scientist 40481         in person   \n",
       "4 2020      EN               Data Scientist 39916         in person   \n",
       "5 2020      EN               Data Analyst    6072         in person   \n",
       "6 2020      EN               Data Scientist 49268         in person   \n",
       "  company_size n  \n",
       "1 L            140\n",
       "2 S            140\n",
       "3 L            140\n",
       "4 M            140\n",
       "5 S             96\n",
       "6 S            140"
      ]
     },
     "metadata": {},
     "output_type": "display_data"
    },
    {
     "data": {
      "text/html": [
       "<table class=\"dataframe\">\n",
       "<caption>A tibble: 2 × 6</caption>\n",
       "<thead>\n",
       "\t<tr><th scope=col>job_title</th><th scope=col>n</th><th scope=col>salary_mean</th><th scope=col>salary_sd</th><th scope=col>remote_prop</th><th scope=col>remote_sd</th></tr>\n",
       "\t<tr><th scope=col>&lt;chr&gt;</th><th scope=col>&lt;int&gt;</th><th scope=col>&lt;dbl&gt;</th><th scope=col>&lt;dbl&gt;</th><th scope=col>&lt;dbl&gt;</th><th scope=col>&lt;dbl&gt;</th></tr>\n",
       "</thead>\n",
       "<tbody>\n",
       "\t<tr><td>Data Analyst  </td><td> 96</td><td> 93752.84</td><td>39258.60</td><td>0.7291667</td><td>0.4443902</td></tr>\n",
       "\t<tr><td>Data Scientist</td><td>140</td><td>108922.79</td><td>64372.43</td><td>0.5571429</td><td>0.4967240</td></tr>\n",
       "</tbody>\n",
       "</table>\n"
      ],
      "text/latex": [
       "A tibble: 2 × 6\n",
       "\\begin{tabular}{llllll}\n",
       " job\\_title & n & salary\\_mean & salary\\_sd & remote\\_prop & remote\\_sd\\\\\n",
       " <chr> & <int> & <dbl> & <dbl> & <dbl> & <dbl>\\\\\n",
       "\\hline\n",
       "\t Data Analyst   &  96 &  93752.84 & 39258.60 & 0.7291667 & 0.4443902\\\\\n",
       "\t Data Scientist & 140 & 108922.79 & 64372.43 & 0.5571429 & 0.4967240\\\\\n",
       "\\end{tabular}\n"
      ],
      "text/markdown": [
       "\n",
       "A tibble: 2 × 6\n",
       "\n",
       "| job_title &lt;chr&gt; | n &lt;int&gt; | salary_mean &lt;dbl&gt; | salary_sd &lt;dbl&gt; | remote_prop &lt;dbl&gt; | remote_sd &lt;dbl&gt; |\n",
       "|---|---|---|---|---|---|\n",
       "| Data Analyst   |  96 |  93752.84 | 39258.60 | 0.7291667 | 0.4443902 |\n",
       "| Data Scientist | 140 | 108922.79 | 64372.43 | 0.5571429 | 0.4967240 |\n",
       "\n"
      ],
      "text/plain": [
       "  job_title      n   salary_mean salary_sd remote_prop remote_sd\n",
       "1 Data Analyst    96  93752.84   39258.60  0.7291667   0.4443902\n",
       "2 Data Scientist 140 108922.79   64372.43  0.5571429   0.4967240"
      ]
     },
     "metadata": {},
     "output_type": "display_data"
    }
   ],
   "source": [
    "# We are only interested in data analyst and data scientist, so we filter these to job_titles out\n",
    "salaries_new <- salaries_new %>%\n",
    "        filter(job_title == \"Data Analyst\" | job_title == \"Data Scientist\")\n",
    "head(salaries_new)\n",
    "# Here, we will calculate basic point estimate statistics for future inferences.\n",
    "data_estimates <- salaries_new %>%\n",
    "    group_by(job_title) %>%\n",
    "    summarize(n = n(),\n",
    "              salary_mean = mean(salary_in_usd), \n",
    "              salary_sd = sd(salary_in_usd), \n",
    "              remote_prop = mean(remote_ratio == \"remote\"), \n",
    "              remote_sd = sqrt(remote_prop * (1 - remote_prop)))\n",
    "    \n",
    "\n",
    "# Preview point estimates\n",
    "head(data_estimates)"
   ]
  },
  {
   "cell_type": "markdown",
   "metadata": {
    "tags": []
   },
   "source": [
    "# Methods"
   ]
  },
  {
   "cell_type": "markdown",
   "metadata": {},
   "source": [
    "Up till now, the report has demonstrated differences in mean salaries and proportions of remote work among Data Scientists and Data Analysts. To ensure randomness, representative samples of full-time employees with sample sizes greater than 30 were used.\n",
    "However, relying on point estimates and plots alone is not enough to establish these differences. Therefore, to address this issue, the report proposes using the Central Limit Theorem, as the samples are roughly normally distributed and less computationally intensive than resampling methods.\n",
    "By letting Data Scientists be population 1, and Data Analysts as population 2, we aim to test the following hypothesis for the mean salary:\n",
    "$$H_0 : \\mu_2 - \\mu_1 = 0$$\n",
    "$$H_1 : \\mu_2 - \\mu_1 \\neq 0$$\n",
    "\n",
    "for the proportion of remote work:\n",
    "$$H_0 : p_2 - p_1 = 0$$\n",
    "$$H_1 : p_2 - p_1 \\neq 0$$\n",
    "\n",
    "where $\\mu$ is the population's mean salary and $p$ is its proportion of employees working remotely. \n",
    "\n",
    "We expect to reject both null hypotheses, and will include a 90% confidence interval in our final report.\n",
    "\n",
    "### Impact\n",
    "\n",
    "The outcomes of these findings could affect the decisions of newly graduated data scientists in terms of which job positions to seek and which career paths to focus on during their undergraduate studies.\n",
    "\n",
    "### Future\n",
    "\n",
    "This prompts further questions about how differences in experience, company location, and company size may affect the comparison of job titles in the field of Data Science. Additionally, with more data, these issues can be explored for the other professions that were not thoroughly examined due to limitations in sample size and distribution."
   ]
  },
  {
   "cell_type": "markdown",
   "metadata": {},
   "source": [
    "# Result"
   ]
  },
  {
   "cell_type": "code",
   "execution_count": 7,
   "metadata": {
    "tags": [],
    "vscode": {
     "languageId": "r"
    }
   },
   "outputs": [
    {
     "data": {
      "text/html": [
       "<table class=\"dataframe\">\n",
       "<caption>A tibble: 1 × 1</caption>\n",
       "<thead>\n",
       "\t<tr><th scope=col>sd(stat)</th></tr>\n",
       "\t<tr><th scope=col>&lt;dbl&gt;</th></tr>\n",
       "</thead>\n",
       "<tbody>\n",
       "\t<tr><td>2688.478</td></tr>\n",
       "</tbody>\n",
       "</table>\n"
      ],
      "text/latex": [
       "A tibble: 1 × 1\n",
       "\\begin{tabular}{l}\n",
       " sd(stat)\\\\\n",
       " <dbl>\\\\\n",
       "\\hline\n",
       "\t 2688.478\\\\\n",
       "\\end{tabular}\n"
      ],
      "text/markdown": [
       "\n",
       "A tibble: 1 × 1\n",
       "\n",
       "| sd(stat) &lt;dbl&gt; |\n",
       "|---|\n",
       "| 2688.478 |\n",
       "\n"
      ],
      "text/plain": [
       "  sd(stat)\n",
       "1 2688.478"
      ]
     },
     "metadata": {},
     "output_type": "display_data"
    },
    {
     "data": {
      "text/html": [
       "<table class=\"dataframe\">\n",
       "<caption>A tibble: 1 × 1</caption>\n",
       "<thead>\n",
       "\t<tr><th scope=col>sd(stat)</th></tr>\n",
       "\t<tr><th scope=col>&lt;dbl&gt;</th></tr>\n",
       "</thead>\n",
       "<tbody>\n",
       "\t<tr><td>5645.545</td></tr>\n",
       "</tbody>\n",
       "</table>\n"
      ],
      "text/latex": [
       "A tibble: 1 × 1\n",
       "\\begin{tabular}{l}\n",
       " sd(stat)\\\\\n",
       " <dbl>\\\\\n",
       "\\hline\n",
       "\t 5645.545\\\\\n",
       "\\end{tabular}\n"
      ],
      "text/markdown": [
       "\n",
       "A tibble: 1 × 1\n",
       "\n",
       "| sd(stat) &lt;dbl&gt; |\n",
       "|---|\n",
       "| 5645.545 |\n",
       "\n"
      ],
      "text/plain": [
       "  sd(stat)\n",
       "1 5645.545"
      ]
     },
     "metadata": {},
     "output_type": "display_data"
    },
    {
     "name": "stderr",
     "output_type": "stream",
     "text": [
      "\u001b[1m\u001b[22m`summarise()` has grouped output by 'replicate'. You can override using the\n",
      "`.groups` argument.\n"
     ]
    }
   ],
   "source": [
    "# Seed set at initiation\n",
    "\n",
    "# Using infer\n",
    "analyst_bootstrapped_salary_sd <- salaries_new %>% \n",
    "    filter(job_title == \"Data Analyst\") %>%\n",
    "    specify(response = salary_in_usd) %>% \n",
    "    generate(type = \"bootstrap\", reps = 1000) %>% \n",
    "    calculate(stat = \"sd\") %>%\n",
    "    summarise(sd(stat))\n",
    "\n",
    "scientist_bootstrapped_salary_sd <- salaries_new %>% \n",
    "    filter(job_title == \"Data Scientist\") %>%\n",
    "    specify(response = salary_in_usd) %>% \n",
    "    generate(type = \"bootstrap\", reps = 1000) %>% \n",
    "    calculate(stat = \"sd\") %>%\n",
    "    summarise(sd(stat))\n",
    "\n",
    "head(analyst_bootstrapped_salary_sd)    \n",
    "head(scientist_bootstrapped_salary_sd)    \n",
    "\n",
    "\n",
    "# using traditional method\n",
    "bootstrapped_samples <- salaries_new %>%\n",
    "        ungroup() %>%\n",
    "        rep_sample_n(size = nrow(salaries_new), reps = 1000, replace = TRUE) %>%\n",
    "        group_by(replicate, job_title) %>% \n",
    "        summarise(salary_sd = sd(salary_in_usd),\n",
    "                  ratio_sd = sqrt((mean(remote_ratio == \"remote\") * (1-mean(remote_ratio == \"remote\")))/n())) # standard deviation of sample proportion                                                       "
   ]
  },
  {
   "cell_type": "markdown",
   "metadata": {},
   "source": [
    "**Table 3:** Bootstrap distribution based on 1000 replicates"
   ]
  },
  {
   "cell_type": "code",
   "execution_count": 8,
   "metadata": {
    "vscode": {
     "languageId": "r"
    }
   },
   "outputs": [
    {
     "data": {
      "text/html": [
       "<table class=\"dataframe\">\n",
       "<caption>A tibble: 2 × 2</caption>\n",
       "<thead>\n",
       "\t<tr><th scope=col>lower_ci</th><th scope=col>upper_ci</th></tr>\n",
       "\t<tr><th scope=col>&lt;dbl&gt;</th><th scope=col>&lt;dbl&gt;</th></tr>\n",
       "</thead>\n",
       "<tbody>\n",
       "\t<tr><td>2688.478</td><td>2688.478</td></tr>\n",
       "\t<tr><td>5645.545</td><td>5645.545</td></tr>\n",
       "</tbody>\n",
       "</table>\n"
      ],
      "text/latex": [
       "A tibble: 2 × 2\n",
       "\\begin{tabular}{ll}\n",
       " lower\\_ci & upper\\_ci\\\\\n",
       " <dbl> & <dbl>\\\\\n",
       "\\hline\n",
       "\t 2688.478 & 2688.478\\\\\n",
       "\t 5645.545 & 5645.545\\\\\n",
       "\\end{tabular}\n"
      ],
      "text/markdown": [
       "\n",
       "A tibble: 2 × 2\n",
       "\n",
       "| lower_ci &lt;dbl&gt; | upper_ci &lt;dbl&gt; |\n",
       "|---|---|\n",
       "| 2688.478 | 2688.478 |\n",
       "| 5645.545 | 5645.545 |\n",
       "\n"
      ],
      "text/plain": [
       "  lower_ci upper_ci\n",
       "1 2688.478 2688.478\n",
       "2 5645.545 5645.545"
      ]
     },
     "metadata": {},
     "output_type": "display_data"
    },
    {
     "data": {
      "text/html": [
       "<table class=\"dataframe\">\n",
       "<caption>A tibble: 2 × 3</caption>\n",
       "<thead>\n",
       "\t<tr><th scope=col>job_title</th><th scope=col>lower_ci</th><th scope=col>upper_ci</th></tr>\n",
       "\t<tr><th scope=col>&lt;chr&gt;</th><th scope=col>&lt;dbl&gt;</th><th scope=col>&lt;dbl&gt;</th></tr>\n",
       "</thead>\n",
       "<tbody>\n",
       "\t<tr><td>Data Analyst  </td><td>34440.32</td><td>43570.98</td></tr>\n",
       "\t<tr><td>Data Scientist</td><td>55515.65</td><td>72896.53</td></tr>\n",
       "</tbody>\n",
       "</table>\n"
      ],
      "text/latex": [
       "A tibble: 2 × 3\n",
       "\\begin{tabular}{lll}\n",
       " job\\_title & lower\\_ci & upper\\_ci\\\\\n",
       " <chr> & <dbl> & <dbl>\\\\\n",
       "\\hline\n",
       "\t Data Analyst   & 34440.32 & 43570.98\\\\\n",
       "\t Data Scientist & 55515.65 & 72896.53\\\\\n",
       "\\end{tabular}\n"
      ],
      "text/markdown": [
       "\n",
       "A tibble: 2 × 3\n",
       "\n",
       "| job_title &lt;chr&gt; | lower_ci &lt;dbl&gt; | upper_ci &lt;dbl&gt; |\n",
       "|---|---|---|\n",
       "| Data Analyst   | 34440.32 | 43570.98 |\n",
       "| Data Scientist | 55515.65 | 72896.53 |\n",
       "\n"
      ],
      "text/plain": [
       "  job_title      lower_ci upper_ci\n",
       "1 Data Analyst   34440.32 43570.98\n",
       "2 Data Scientist 55515.65 72896.53"
      ]
     },
     "metadata": {},
     "output_type": "display_data"
    },
    {
     "data": {
      "text/html": [
       "<table class=\"dataframe\">\n",
       "<caption>A tibble: 2 × 3</caption>\n",
       "<thead>\n",
       "\t<tr><th scope=col>job_title</th><th scope=col>lower_ci</th><th scope=col>upper_ci</th></tr>\n",
       "\t<tr><th scope=col>&lt;chr&gt;</th><th scope=col>&lt;dbl&gt;</th><th scope=col>&lt;dbl&gt;</th></tr>\n",
       "</thead>\n",
       "<tbody>\n",
       "\t<tr><td>Data Analyst  </td><td>0.04002052</td><td>0.04997917</td></tr>\n",
       "\t<tr><td>Data Scientist</td><td>0.03997828</td><td>0.04375575</td></tr>\n",
       "</tbody>\n",
       "</table>\n"
      ],
      "text/latex": [
       "A tibble: 2 × 3\n",
       "\\begin{tabular}{lll}\n",
       " job\\_title & lower\\_ci & upper\\_ci\\\\\n",
       " <chr> & <dbl> & <dbl>\\\\\n",
       "\\hline\n",
       "\t Data Analyst   & 0.04002052 & 0.04997917\\\\\n",
       "\t Data Scientist & 0.03997828 & 0.04375575\\\\\n",
       "\\end{tabular}\n"
      ],
      "text/markdown": [
       "\n",
       "A tibble: 2 × 3\n",
       "\n",
       "| job_title &lt;chr&gt; | lower_ci &lt;dbl&gt; | upper_ci &lt;dbl&gt; |\n",
       "|---|---|---|\n",
       "| Data Analyst   | 0.04002052 | 0.04997917 |\n",
       "| Data Scientist | 0.03997828 | 0.04375575 |\n",
       "\n"
      ],
      "text/plain": [
       "  job_title      lower_ci   upper_ci  \n",
       "1 Data Analyst   0.04002052 0.04997917\n",
       "2 Data Scientist 0.03997828 0.04375575"
      ]
     },
     "metadata": {},
     "output_type": "display_data"
    }
   ],
   "source": [
    "#  infer method\n",
    "analyst_salary_ci <- analyst_bootstrapped_salary_sd %>% \n",
    "    get_ci(level = 0.9, type = \"percentile\")\n",
    "scientist_salary_ci <- scientist_bootstrapped_salary_sd %>% \n",
    "    get_ci(level = 0.9, type = \"percentile\")\n",
    "bind_rows(analyst_salary_ci, scientist_salary_ci)\n",
    "\n",
    "# quantiles method\n",
    "salary_sd_ci <- bootstrapped_samples %>%\n",
    "        group_by(job_title) %>%\n",
    "        summarise(lower_ci = quantile(salary_sd, 0.05),\n",
    "                  upper_ci = quantile(salary_sd, 0.95))\n",
    "salary_sd_ci\n",
    "\n",
    "ratio_sd_ci <- bootstrapped_samples %>%\n",
    "        group_by(job_title) %>%\n",
    "        summarise(lower_ci = quantile(ratio_sd, 0.05),\n",
    "                  upper_ci = quantile(ratio_sd, 0.95))\n",
    "ratio_sd_ci"
   ]
  },
  {
   "cell_type": "markdown",
   "metadata": {},
   "source": [
    "**Table 4.** Confidence intervals of salary distributions and remote ratios."
   ]
  },
  {
   "cell_type": "code",
   "execution_count": 9,
   "metadata": {
    "vscode": {
     "languageId": "r"
    }
   },
   "outputs": [
    {
     "name": "stderr",
     "output_type": "stream",
     "text": [
      "Warning message:\n",
      "“\u001b[1m\u001b[22mThe dot-dot notation (`..density..`) was deprecated in ggplot2 3.4.0.\n",
      "\u001b[36mℹ\u001b[39m Please use `after_stat(density)` instead.”\n"
     ]
    },
    {
     "data": {
      "image/png": "[encoded data removed]",
      "text/plain": [
       "plot without title"
      ]
     },
     "metadata": {
      "image/png": {
       "height": 480,
       "width": 600
      }
     },
     "output_type": "display_data"
    }
   ],
   "source": [
    "options(repr.plot.width = 10, repr.plot.height = 8) # setting dimensions\n",
    "\n",
    "bootstrap_dist_salary_sd <- bootstrapped_samples %>%\n",
    "    ggplot(aes(x = salary_sd, y = ..density.., fill = job_title)) +\n",
    "    geom_histogram(binwidth = 1000, position = \"identity\", alpha = 0.7) +\n",
    "    xlab(\"Standard deviation\") +\n",
    "    ggtitle(\"Standard deviation of salaries\") +\n",
    "    labs(fill = \"Position\") +\n",
    "    theme(text = element_text(size = 20))\n",
    "\n",
    "bootstrap_dist_ratio_sd <- bootstrapped_samples %>%\n",
    "    ggplot(aes(x = ratio_sd, y = ..density.., fill = job_title)) +\n",
    "    geom_histogram(bins = 100, position = \"identity\", alpha = 0.7) +\n",
    "    xlab(\"Standard deviation\") +\n",
    "    ggtitle(\"Standard deviation of remote ratio\") +\n",
    "    labs(fill = \"Position\") +\n",
    "    theme(text = element_text(size = 20))\n",
    "\n",
    "grid.arrange(bootstrap_dist_salary_sd, bootstrap_dist_ratio_sd, top = \"Bootstrapped distribution comparison (n = 1000)\")"
   ]
  },
  {
   "cell_type": "markdown",
   "metadata": {},
   "source": [
    "**Figure 3.** Bootstrap distributions of standard deviation of salaries and remote work ratios for Data Analysts and Data Scientists."
   ]
  },
  {
   "cell_type": "markdown",
   "metadata": {},
   "source": [
    "\n",
    "Data scientist salaries are less stable than Data analyst salaries because its dsitribution is higher, with the data scientists salary's 90% confidence interval being nearly two times wider at around 18019.46 USD wide compared to the 9255.88 USD wide 90% confidence interval of data analyst salaries (Table 3). The standard deviations of the salaries does not overlap, highlighting the how data scientist salaries vary with a higher and wider magnitude (Figure 3).\n",
    "\n",
    "The distributions of remote ratios of data scientists was also less stable than data analysts, with data scientists having a 90% confidence interval that was 10.10825% wide, while data analysts had a 90% confidence interval that was 2.5 times smaller at 3.9321% wide (Table 3). We can also see that the standard deviation for data scientists' remote work is much more stable because it has a narrower distribution that the standard deviation of data analysts' remote work ratio (Figure 3)."
   ]
  },
  {
   "cell_type": "markdown",
   "metadata": {},
   "source": [
    "## Hypothesis testings"
   ]
  },
  {
   "cell_type": "code",
   "execution_count": 10,
   "metadata": {
    "tags": [],
    "vscode": {
     "languageId": "r"
    }
   },
   "outputs": [
    {
     "data": {
      "text/html": [
       "<table class=\"dataframe\">\n",
       "<caption>A tibble: 2 × 6</caption>\n",
       "<thead>\n",
       "\t<tr><th scope=col>job_title</th><th scope=col>n</th><th scope=col>salary_mean</th><th scope=col>salary_sd</th><th scope=col>remote_prop</th><th scope=col>remote_sd</th></tr>\n",
       "\t<tr><th scope=col>&lt;chr&gt;</th><th scope=col>&lt;int&gt;</th><th scope=col>&lt;dbl&gt;</th><th scope=col>&lt;dbl&gt;</th><th scope=col>&lt;dbl&gt;</th><th scope=col>&lt;dbl&gt;</th></tr>\n",
       "</thead>\n",
       "<tbody>\n",
       "\t<tr><td>Data Analyst  </td><td> 96</td><td> 93752.84</td><td>39258.60</td><td>0.7291667</td><td>0.4443902</td></tr>\n",
       "\t<tr><td>Data Scientist</td><td>140</td><td>108922.79</td><td>64372.43</td><td>0.5571429</td><td>0.4967240</td></tr>\n",
       "</tbody>\n",
       "</table>\n"
      ],
      "text/latex": [
       "A tibble: 2 × 6\n",
       "\\begin{tabular}{llllll}\n",
       " job\\_title & n & salary\\_mean & salary\\_sd & remote\\_prop & remote\\_sd\\\\\n",
       " <chr> & <int> & <dbl> & <dbl> & <dbl> & <dbl>\\\\\n",
       "\\hline\n",
       "\t Data Analyst   &  96 &  93752.84 & 39258.60 & 0.7291667 & 0.4443902\\\\\n",
       "\t Data Scientist & 140 & 108922.79 & 64372.43 & 0.5571429 & 0.4967240\\\\\n",
       "\\end{tabular}\n"
      ],
      "text/markdown": [
       "\n",
       "A tibble: 2 × 6\n",
       "\n",
       "| job_title &lt;chr&gt; | n &lt;int&gt; | salary_mean &lt;dbl&gt; | salary_sd &lt;dbl&gt; | remote_prop &lt;dbl&gt; | remote_sd &lt;dbl&gt; |\n",
       "|---|---|---|---|---|---|\n",
       "| Data Analyst   |  96 |  93752.84 | 39258.60 | 0.7291667 | 0.4443902 |\n",
       "| Data Scientist | 140 | 108922.79 | 64372.43 | 0.5571429 | 0.4967240 |\n",
       "\n"
      ],
      "text/plain": [
       "  job_title      n   salary_mean salary_sd remote_prop remote_sd\n",
       "1 Data Analyst    96  93752.84   39258.60  0.7291667   0.4443902\n",
       "2 Data Scientist 140 108922.79   64372.43  0.5571429   0.4967240"
      ]
     },
     "metadata": {},
     "output_type": "display_data"
    }
   ],
   "source": [
    "data_estimates"
   ]
  },
  {
   "cell_type": "code",
   "execution_count": 11,
   "metadata": {
    "tags": [],
    "vscode": {
     "languageId": "r"
    }
   },
   "outputs": [
    {
     "name": "stderr",
     "output_type": "stream",
     "text": [
      "\u001b[1m\u001b[22mAdding missing grouping variables: `job_title`\n",
      "\u001b[1m\u001b[22mAdding missing grouping variables: `job_title`\n"
     ]
    },
    {
     "data": {
      "text/html": [
       "<table class=\"dataframe\">\n",
       "<caption>A tibble: 1 × 10</caption>\n",
       "<thead>\n",
       "\t<tr><th scope=col>estimate</th><th scope=col>estimate1</th><th scope=col>estimate2</th><th scope=col>statistic</th><th scope=col>p.value</th><th scope=col>parameter</th><th scope=col>conf.low</th><th scope=col>conf.high</th><th scope=col>method</th><th scope=col>alternative</th></tr>\n",
       "\t<tr><th scope=col>&lt;dbl&gt;</th><th scope=col>&lt;dbl&gt;</th><th scope=col>&lt;dbl&gt;</th><th scope=col>&lt;dbl&gt;</th><th scope=col>&lt;dbl&gt;</th><th scope=col>&lt;dbl&gt;</th><th scope=col>&lt;dbl&gt;</th><th scope=col>&lt;dbl&gt;</th><th scope=col>&lt;chr&gt;</th><th scope=col>&lt;chr&gt;</th></tr>\n",
       "</thead>\n",
       "<tbody>\n",
       "\t<tr><td>15169.95</td><td>108922.8</td><td>93752.84</td><td>2.245166</td><td>0.02570363</td><td>231.1716</td><td>1857.336</td><td>28482.56</td><td>Welch Two Sample t-test</td><td>two.sided</td></tr>\n",
       "</tbody>\n",
       "</table>\n"
      ],
      "text/latex": [
       "A tibble: 1 × 10\n",
       "\\begin{tabular}{llllllllll}\n",
       " estimate & estimate1 & estimate2 & statistic & p.value & parameter & conf.low & conf.high & method & alternative\\\\\n",
       " <dbl> & <dbl> & <dbl> & <dbl> & <dbl> & <dbl> & <dbl> & <dbl> & <chr> & <chr>\\\\\n",
       "\\hline\n",
       "\t 15169.95 & 108922.8 & 93752.84 & 2.245166 & 0.02570363 & 231.1716 & 1857.336 & 28482.56 & Welch Two Sample t-test & two.sided\\\\\n",
       "\\end{tabular}\n"
      ],
      "text/markdown": [
       "\n",
       "A tibble: 1 × 10\n",
       "\n",
       "| estimate &lt;dbl&gt; | estimate1 &lt;dbl&gt; | estimate2 &lt;dbl&gt; | statistic &lt;dbl&gt; | p.value &lt;dbl&gt; | parameter &lt;dbl&gt; | conf.low &lt;dbl&gt; | conf.high &lt;dbl&gt; | method &lt;chr&gt; | alternative &lt;chr&gt; |\n",
       "|---|---|---|---|---|---|---|---|---|---|\n",
       "| 15169.95 | 108922.8 | 93752.84 | 2.245166 | 0.02570363 | 231.1716 | 1857.336 | 28482.56 | Welch Two Sample t-test | two.sided |\n",
       "\n"
      ],
      "text/plain": [
       "  estimate estimate1 estimate2 statistic p.value    parameter conf.low\n",
       "1 15169.95 108922.8  93752.84  2.245166  0.02570363 231.1716  1857.336\n",
       "  conf.high method                  alternative\n",
       "1 28482.56  Welch Two Sample t-test two.sided  "
      ]
     },
     "metadata": {},
     "output_type": "display_data"
    }
   ],
   "source": [
    "# for difference in salary means\n",
    "analyst <- salaries_new %>%\n",
    "        filter(job_title == \"Data Analyst\") %>%\n",
    "        select(salary_in_usd)\n",
    "scientist <- salaries_new %>%\n",
    "        filter(job_title == \"Data Scientist\") %>%\n",
    "        select(salary_in_usd)\n",
    "t_test_diff_mean <- \n",
    "    tidy(\n",
    "        t.test(x = scientist$salary_in_usd,\n",
    "               y = analyst$salary_in_usd,\n",
    "               alternative = \"two.sided\"))\n",
    "t_test_diff_mean"
   ]
  },
  {
   "cell_type": "code",
   "execution_count": 12,
   "metadata": {
    "tags": [],
    "vscode": {
     "languageId": "r"
    }
   },
   "outputs": [
    {
     "data": {
      "text/html": [
       "<table class=\"dataframe\">\n",
       "<caption>A tibble: 1 × 9</caption>\n",
       "<thead>\n",
       "\t<tr><th scope=col>estimate1</th><th scope=col>estimate2</th><th scope=col>statistic</th><th scope=col>p.value</th><th scope=col>parameter</th><th scope=col>conf.low</th><th scope=col>conf.high</th><th scope=col>method</th><th scope=col>alternative</th></tr>\n",
       "\t<tr><th scope=col>&lt;dbl&gt;</th><th scope=col>&lt;dbl&gt;</th><th scope=col>&lt;dbl&gt;</th><th scope=col>&lt;dbl&gt;</th><th scope=col>&lt;dbl&gt;</th><th scope=col>&lt;dbl&gt;</th><th scope=col>&lt;dbl&gt;</th><th scope=col>&lt;chr&gt;</th><th scope=col>&lt;chr&gt;</th></tr>\n",
       "</thead>\n",
       "<tbody>\n",
       "\t<tr><td>0.7291667</td><td>0.5571429</td><td>7.206825</td><td>0.007262684</td><td>1</td><td>0.05089389</td><td>0.2931537</td><td>2-sample test for equality of proportions without continuity correction</td><td>two.sided</td></tr>\n",
       "</tbody>\n",
       "</table>\n"
      ],
      "text/latex": [
       "A tibble: 1 × 9\n",
       "\\begin{tabular}{lllllllll}\n",
       " estimate1 & estimate2 & statistic & p.value & parameter & conf.low & conf.high & method & alternative\\\\\n",
       " <dbl> & <dbl> & <dbl> & <dbl> & <dbl> & <dbl> & <dbl> & <chr> & <chr>\\\\\n",
       "\\hline\n",
       "\t 0.7291667 & 0.5571429 & 7.206825 & 0.007262684 & 1 & 0.05089389 & 0.2931537 & 2-sample test for equality of proportions without continuity correction & two.sided\\\\\n",
       "\\end{tabular}\n"
      ],
      "text/markdown": [
       "\n",
       "A tibble: 1 × 9\n",
       "\n",
       "| estimate1 &lt;dbl&gt; | estimate2 &lt;dbl&gt; | statistic &lt;dbl&gt; | p.value &lt;dbl&gt; | parameter &lt;dbl&gt; | conf.low &lt;dbl&gt; | conf.high &lt;dbl&gt; | method &lt;chr&gt; | alternative &lt;chr&gt; |\n",
       "|---|---|---|---|---|---|---|---|---|\n",
       "| 0.7291667 | 0.5571429 | 7.206825 | 0.007262684 | 1 | 0.05089389 | 0.2931537 | 2-sample test for equality of proportions without continuity correction | two.sided |\n",
       "\n"
      ],
      "text/plain": [
       "  estimate1 estimate2 statistic p.value     parameter conf.low   conf.high\n",
       "1 0.7291667 0.5571429 7.206825  0.007262684 1         0.05089389 0.2931537\n",
       "  method                                                                 \n",
       "1 2-sample test for equality of proportions without continuity correction\n",
       "  alternative\n",
       "1 two.sided  "
      ]
     },
     "metadata": {},
     "output_type": "display_data"
    }
   ],
   "source": [
    "# for difference in proportions\n",
    "analyst_prop <- salaries_new %>%\n",
    "        filter(job_title == \"Data Analyst\") \n",
    "scientist_prop <- salaries_new %>%\n",
    "        filter(job_title == \"Data Scientist\") \n",
    "prop_test <- tidy(\n",
    "    prop.test(x = c(sum(analyst_prop$remote_ratio == \"remote\"), sum(scientist_prop$remote_ratio == \"remote\")),\n",
    "              n = c(nrow(analyst_prop), nrow(scientist_prop)),\n",
    "              correct = FALSE))\n",
    "prop_test"
   ]
  },
  {
   "cell_type": "markdown",
   "metadata": {},
   "source": [
    "# References"
   ]
  },
  {
   "cell_type": "markdown",
   "metadata": {},
   "source": [
    "Bhatia, R. (2022). *Data science job salaries*. https://www.kaggle.com/datasets/ruchi798/data-science-job-salaries\n",
    "\n",
    "Card, D., Mas, A., Moretti, E., & Saez, E. (2012). Inequality at work: The effect of peer salaries on job satisfaction. *American Economic Review*, 102(6), 2981–3003. https://doi.org/10.1257/aer.102.6.2981\n",
    "\n",
    "Galanti, T., Guidetti, G., Mazzei, E., Zappalà, S., & Toscano, F. (2021). Work from home during the COVID-19 outbreak: the impact on employees' remote work productivity, engagement, and stress. *Journal of Occupational and Environmental Medicine*, 63(7), e426–e432. https://doi.org/10.1097/JOM.0000000000002236"
   ]
  }
 ],
 "metadata": {
  "kernelspec": {
   "display_name": "R",
   "language": "R",
   "name": "ir"
  },
  "language_info": {
   "codemirror_mode": "r",
   "file_extension": ".r",
   "mimetype": "text/x-r-source",
   "name": "R",
   "pygments_lexer": "r",
   "version": "4.2.3"
  }
 },
 "nbformat": 4,
 "nbformat_minor": 4
}
