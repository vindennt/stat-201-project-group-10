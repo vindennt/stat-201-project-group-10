{
 "cells": [
  {
   "cell_type": "markdown",
   "metadata": {},
   "source": [
    "# **STAT-201 Project Proposal**\n",
    "## Analysis of data science salaries\n",
    "\n",
    "Prabh Sehgal, Rainie Fu, Rishabh Mathur, Dennis Truong"
   ]
  },
  {
   "cell_type": "markdown",
   "metadata": {},
   "source": [
    "## Introduction\n",
    "A key factor in employee happiness is financial compensation, and past work during the COVID-19 pandemic have shown that working remotely can also have a positive impact on happiness thanks to increased employee autonomy. (Card et al., 2012; Galanti et al., 2021). Our analysis aims to explore the relationships between different data science jobs, their salaries, and their proportions doing remote work. Our analyses can inform prospective emplyees about each position's remote work flexibility and typical salary. Employees may use these inferences to discover new data science occupations that better align with their work-life goals."
   ]
  },
  {
   "cell_type": "markdown",
   "metadata": {},
   "source": [
    "### Research Question\n",
    "\n",
    "If full-time Data Scientists and Data Analysts were compared, is there a *difference* in the means of salaries and *difference* in proportions of remote work?\n"
   ]
  },
  {
   "cell_type": "markdown",
   "metadata": {},
   "source": [
    "### Dataset\n",
    "\n",
    "Our research utilizes the dataset \"Data Science Job Salaries\" by Ruchi Bhatia (2022) from [Kaggle](https://www.kaggle.com/datasets/ruchi798/data-science-job-salaries). Observations include the year the salary was paid, experience level, work kind, title, salary, remote ratio, firm size, and company location. The main observations we aim to use are the ```job_title``` to tell us the job type, the ```salary_in_USD``` to inform us about each role's salary, and the ```remote_ratio``` to give us the proportion of poeple working remotely in that respective role.\n"
   ]
  },
  {
   "cell_type": "markdown",
   "metadata": {},
   "source": [
    "## Preliminary Results"
   ]
  },
  {
   "cell_type": "markdown",
   "metadata": {},
   "source": [
    "### Exploring our Data\n",
    "\n",
    "We downloaded the data to our repository and read it from there since Kaggle does not let datasets to be read straight from the website."
   ]
  },
  {
   "cell_type": "code",
   "execution_count": 1,
   "metadata": {},
   "outputs": [
    {
     "name": "stderr",
     "output_type": "stream",
     "text": [
      "── \u001b[1mAttaching packages\u001b[22m ─────────────────────────────────────── tidyverse 1.3.2 ──\n",
      "\u001b[32m✔\u001b[39m \u001b[34mggplot2\u001b[39m 3.3.6      \u001b[32m✔\u001b[39m \u001b[34mpurrr  \u001b[39m 0.3.4 \n",
      "\u001b[32m✔\u001b[39m \u001b[34mtibble \u001b[39m 3.1.8      \u001b[32m✔\u001b[39m \u001b[34mdplyr  \u001b[39m 1.0.10\n",
      "\u001b[32m✔\u001b[39m \u001b[34mtidyr  \u001b[39m 1.2.1      \u001b[32m✔\u001b[39m \u001b[34mstringr\u001b[39m 1.4.1 \n",
      "\u001b[32m✔\u001b[39m \u001b[34mreadr  \u001b[39m 2.1.2      \u001b[32m✔\u001b[39m \u001b[34mforcats\u001b[39m 0.5.2 \n",
      "── \u001b[1mConflicts\u001b[22m ────────────────────────────────────────── tidyverse_conflicts() ──\n",
      "\u001b[31m✖\u001b[39m \u001b[34mdplyr\u001b[39m::\u001b[32mfilter()\u001b[39m masks \u001b[34mstats\u001b[39m::filter()\n",
      "\u001b[31m✖\u001b[39m \u001b[34mdplyr\u001b[39m::\u001b[32mlag()\u001b[39m    masks \u001b[34mstats\u001b[39m::lag()\n"
     ]
    },
    {
     "data": {
      "text/html": [
       "<table class=\"dataframe\">\n",
       "<caption>A tibble: 6 × 11</caption>\n",
       "<thead>\n",
       "\t<tr><th scope=col>work_year</th><th scope=col>experience_level</th><th scope=col>employment_type</th><th scope=col>job_title</th><th scope=col>salary</th><th scope=col>salary_currency</th><th scope=col>salary_in_usd</th><th scope=col>employee_residence</th><th scope=col>remote_ratio</th><th scope=col>company_location</th><th scope=col>company_size</th></tr>\n",
       "\t<tr><th scope=col>&lt;dbl&gt;</th><th scope=col>&lt;chr&gt;</th><th scope=col>&lt;chr&gt;</th><th scope=col>&lt;chr&gt;</th><th scope=col>&lt;dbl&gt;</th><th scope=col>&lt;chr&gt;</th><th scope=col>&lt;dbl&gt;</th><th scope=col>&lt;chr&gt;</th><th scope=col>&lt;dbl&gt;</th><th scope=col>&lt;chr&gt;</th><th scope=col>&lt;chr&gt;</th></tr>\n",
       "</thead>\n",
       "<tbody>\n",
       "\t<tr><td>2020</td><td>MI</td><td>FT</td><td>Data Scientist            </td><td> 70000</td><td>EUR</td><td> 79833</td><td>DE</td><td>  0</td><td>DE</td><td>L</td></tr>\n",
       "\t<tr><td>2020</td><td>SE</td><td>FT</td><td>Machine Learning Scientist</td><td>260000</td><td>USD</td><td>260000</td><td>JP</td><td>  0</td><td>JP</td><td>S</td></tr>\n",
       "\t<tr><td>2020</td><td>SE</td><td>FT</td><td>Big Data Engineer         </td><td> 85000</td><td>GBP</td><td>109024</td><td>GB</td><td> 50</td><td>GB</td><td>M</td></tr>\n",
       "\t<tr><td>2020</td><td>MI</td><td>FT</td><td>Product Data Analyst      </td><td> 20000</td><td>USD</td><td> 20000</td><td>HN</td><td>  0</td><td>HN</td><td>S</td></tr>\n",
       "\t<tr><td>2020</td><td>SE</td><td>FT</td><td>Machine Learning Engineer </td><td>150000</td><td>USD</td><td>150000</td><td>US</td><td> 50</td><td>US</td><td>L</td></tr>\n",
       "\t<tr><td>2020</td><td>EN</td><td>FT</td><td>Data Analyst              </td><td> 72000</td><td>USD</td><td> 72000</td><td>US</td><td>100</td><td>US</td><td>L</td></tr>\n",
       "</tbody>\n",
       "</table>\n"
      ],
      "text/latex": [
       "A tibble: 6 × 11\n",
       "\\begin{tabular}{lllllllllll}\n",
       " work\\_year & experience\\_level & employment\\_type & job\\_title & salary & salary\\_currency & salary\\_in\\_usd & employee\\_residence & remote\\_ratio & company\\_location & company\\_size\\\\\n",
       " <dbl> & <chr> & <chr> & <chr> & <dbl> & <chr> & <dbl> & <chr> & <dbl> & <chr> & <chr>\\\\\n",
       "\\hline\n",
       "\t 2020 & MI & FT & Data Scientist             &  70000 & EUR &  79833 & DE &   0 & DE & L\\\\\n",
       "\t 2020 & SE & FT & Machine Learning Scientist & 260000 & USD & 260000 & JP &   0 & JP & S\\\\\n",
       "\t 2020 & SE & FT & Big Data Engineer          &  85000 & GBP & 109024 & GB &  50 & GB & M\\\\\n",
       "\t 2020 & MI & FT & Product Data Analyst       &  20000 & USD &  20000 & HN &   0 & HN & S\\\\\n",
       "\t 2020 & SE & FT & Machine Learning Engineer  & 150000 & USD & 150000 & US &  50 & US & L\\\\\n",
       "\t 2020 & EN & FT & Data Analyst               &  72000 & USD &  72000 & US & 100 & US & L\\\\\n",
       "\\end{tabular}\n"
      ],
      "text/markdown": [
       "\n",
       "A tibble: 6 × 11\n",
       "\n",
       "| work_year &lt;dbl&gt; | experience_level &lt;chr&gt; | employment_type &lt;chr&gt; | job_title &lt;chr&gt; | salary &lt;dbl&gt; | salary_currency &lt;chr&gt; | salary_in_usd &lt;dbl&gt; | employee_residence &lt;chr&gt; | remote_ratio &lt;dbl&gt; | company_location &lt;chr&gt; | company_size &lt;chr&gt; |\n",
       "|---|---|---|---|---|---|---|---|---|---|---|\n",
       "| 2020 | MI | FT | Data Scientist             |  70000 | EUR |  79833 | DE |   0 | DE | L |\n",
       "| 2020 | SE | FT | Machine Learning Scientist | 260000 | USD | 260000 | JP |   0 | JP | S |\n",
       "| 2020 | SE | FT | Big Data Engineer          |  85000 | GBP | 109024 | GB |  50 | GB | M |\n",
       "| 2020 | MI | FT | Product Data Analyst       |  20000 | USD |  20000 | HN |   0 | HN | S |\n",
       "| 2020 | SE | FT | Machine Learning Engineer  | 150000 | USD | 150000 | US |  50 | US | L |\n",
       "| 2020 | EN | FT | Data Analyst               |  72000 | USD |  72000 | US | 100 | US | L |\n",
       "\n"
      ],
      "text/plain": [
       "  work_year experience_level employment_type job_title                  salary\n",
       "1 2020      MI               FT              Data Scientist              70000\n",
       "2 2020      SE               FT              Machine Learning Scientist 260000\n",
       "3 2020      SE               FT              Big Data Engineer           85000\n",
       "4 2020      MI               FT              Product Data Analyst        20000\n",
       "5 2020      SE               FT              Machine Learning Engineer  150000\n",
       "6 2020      EN               FT              Data Analyst                72000\n",
       "  salary_currency salary_in_usd employee_residence remote_ratio\n",
       "1 EUR              79833        DE                   0         \n",
       "2 USD             260000        JP                   0         \n",
       "3 GBP             109024        GB                  50         \n",
       "4 USD              20000        HN                   0         \n",
       "5 USD             150000        US                  50         \n",
       "6 USD              72000        US                 100         \n",
       "  company_location company_size\n",
       "1 DE               L           \n",
       "2 JP               S           \n",
       "3 GB               M           \n",
       "4 HN               S           \n",
       "5 US               L           \n",
       "6 US               L           "
      ]
     },
     "metadata": {},
     "output_type": "display_data"
    }
   ],
   "source": [
    "library(tidyverse)\n",
    "\n",
    "# load the address of the data set\n",
    "\n",
    "url <- \"https://raw.githubusercontent.com/vindennt/stat-201-project-group-10/main/ds_salaries.csv\"\n",
    "\n",
    "#use suppressMessages() to avoid the warning message when it automatically gives a\n",
    "#name to the first column, which is just indecies\n",
    "salaries <- suppressMessages(\n",
    "read_delim(url, delim = \",\") %>%\n",
    "select(!...1))\n",
    "\n",
    "head(salaries)"
   ]
  },
  {
   "cell_type": "code",
   "execution_count": 2,
   "metadata": {},
   "outputs": [
    {
     "data": {
      "text/html": [
       "<table class=\"dataframe\">\n",
       "<caption>A tibble: 6 × 11</caption>\n",
       "<thead>\n",
       "\t<tr><th scope=col>work_year</th><th scope=col>experience_level</th><th scope=col>employment_type</th><th scope=col>job_title</th><th scope=col>salary</th><th scope=col>salary_currency</th><th scope=col>salary_in_usd</th><th scope=col>employee_residence</th><th scope=col>remote_ratio</th><th scope=col>company_location</th><th scope=col>company_size</th></tr>\n",
       "\t<tr><th scope=col>&lt;dbl&gt;</th><th scope=col>&lt;chr&gt;</th><th scope=col>&lt;chr&gt;</th><th scope=col>&lt;chr&gt;</th><th scope=col>&lt;dbl&gt;</th><th scope=col>&lt;chr&gt;</th><th scope=col>&lt;dbl&gt;</th><th scope=col>&lt;chr&gt;</th><th scope=col>&lt;chr&gt;</th><th scope=col>&lt;chr&gt;</th><th scope=col>&lt;chr&gt;</th></tr>\n",
       "</thead>\n",
       "<tbody>\n",
       "\t<tr><td>2020</td><td>MI</td><td>FT</td><td>Data Scientist            </td><td>  70000</td><td>EUR</td><td> 79833</td><td>DE</td><td>in person</td><td>DE</td><td>L</td></tr>\n",
       "\t<tr><td>2020</td><td>SE</td><td>FT</td><td>Machine Learning Scientist</td><td> 260000</td><td>USD</td><td>260000</td><td>JP</td><td>in person</td><td>JP</td><td>S</td></tr>\n",
       "\t<tr><td>2020</td><td>MI</td><td>FT</td><td>Product Data Analyst      </td><td>  20000</td><td>USD</td><td> 20000</td><td>HN</td><td>in person</td><td>HN</td><td>S</td></tr>\n",
       "\t<tr><td>2020</td><td>EN</td><td>FT</td><td>Data Scientist            </td><td>  45000</td><td>EUR</td><td> 51321</td><td>FR</td><td>in person</td><td>FR</td><td>S</td></tr>\n",
       "\t<tr><td>2020</td><td>MI</td><td>FT</td><td>Data Scientist            </td><td>3000000</td><td>INR</td><td> 40481</td><td>IN</td><td>in person</td><td>IN</td><td>L</td></tr>\n",
       "\t<tr><td>2020</td><td>EN</td><td>FT</td><td>Data Scientist            </td><td>  35000</td><td>EUR</td><td> 39916</td><td>FR</td><td>in person</td><td>FR</td><td>M</td></tr>\n",
       "</tbody>\n",
       "</table>\n"
      ],
      "text/latex": [
       "A tibble: 6 × 11\n",
       "\\begin{tabular}{lllllllllll}\n",
       " work\\_year & experience\\_level & employment\\_type & job\\_title & salary & salary\\_currency & salary\\_in\\_usd & employee\\_residence & remote\\_ratio & company\\_location & company\\_size\\\\\n",
       " <dbl> & <chr> & <chr> & <chr> & <dbl> & <chr> & <dbl> & <chr> & <chr> & <chr> & <chr>\\\\\n",
       "\\hline\n",
       "\t 2020 & MI & FT & Data Scientist             &   70000 & EUR &  79833 & DE & in person & DE & L\\\\\n",
       "\t 2020 & SE & FT & Machine Learning Scientist &  260000 & USD & 260000 & JP & in person & JP & S\\\\\n",
       "\t 2020 & MI & FT & Product Data Analyst       &   20000 & USD &  20000 & HN & in person & HN & S\\\\\n",
       "\t 2020 & EN & FT & Data Scientist             &   45000 & EUR &  51321 & FR & in person & FR & S\\\\\n",
       "\t 2020 & MI & FT & Data Scientist             & 3000000 & INR &  40481 & IN & in person & IN & L\\\\\n",
       "\t 2020 & EN & FT & Data Scientist             &   35000 & EUR &  39916 & FR & in person & FR & M\\\\\n",
       "\\end{tabular}\n"
      ],
      "text/markdown": [
       "\n",
       "A tibble: 6 × 11\n",
       "\n",
       "| work_year &lt;dbl&gt; | experience_level &lt;chr&gt; | employment_type &lt;chr&gt; | job_title &lt;chr&gt; | salary &lt;dbl&gt; | salary_currency &lt;chr&gt; | salary_in_usd &lt;dbl&gt; | employee_residence &lt;chr&gt; | remote_ratio &lt;chr&gt; | company_location &lt;chr&gt; | company_size &lt;chr&gt; |\n",
       "|---|---|---|---|---|---|---|---|---|---|---|\n",
       "| 2020 | MI | FT | Data Scientist             |   70000 | EUR |  79833 | DE | in person | DE | L |\n",
       "| 2020 | SE | FT | Machine Learning Scientist |  260000 | USD | 260000 | JP | in person | JP | S |\n",
       "| 2020 | MI | FT | Product Data Analyst       |   20000 | USD |  20000 | HN | in person | HN | S |\n",
       "| 2020 | EN | FT | Data Scientist             |   45000 | EUR |  51321 | FR | in person | FR | S |\n",
       "| 2020 | MI | FT | Data Scientist             | 3000000 | INR |  40481 | IN | in person | IN | L |\n",
       "| 2020 | EN | FT | Data Scientist             |   35000 | EUR |  39916 | FR | in person | FR | M |\n",
       "\n"
      ],
      "text/plain": [
       "  work_year experience_level employment_type job_title                  salary \n",
       "1 2020      MI               FT              Data Scientist               70000\n",
       "2 2020      SE               FT              Machine Learning Scientist  260000\n",
       "3 2020      MI               FT              Product Data Analyst         20000\n",
       "4 2020      EN               FT              Data Scientist               45000\n",
       "5 2020      MI               FT              Data Scientist             3000000\n",
       "6 2020      EN               FT              Data Scientist               35000\n",
       "  salary_currency salary_in_usd employee_residence remote_ratio\n",
       "1 EUR              79833        DE                 in person   \n",
       "2 USD             260000        JP                 in person   \n",
       "3 USD              20000        HN                 in person   \n",
       "4 EUR              51321        FR                 in person   \n",
       "5 INR              40481        IN                 in person   \n",
       "6 EUR              39916        FR                 in person   \n",
       "  company_location company_size\n",
       "1 DE               L           \n",
       "2 JP               S           \n",
       "3 HN               S           \n",
       "4 FR               S           \n",
       "5 IN               L           \n",
       "6 FR               M           "
      ]
     },
     "metadata": {},
     "output_type": "display_data"
    }
   ],
   "source": [
    "# Since we are only interested in the salaries for full time positions as that\n",
    "# of part time positions can vary from various factors. We filter them out.\n",
    "salaries <- salaries %>%\n",
    "    filter(employment_type == \"FT\")\n",
    "\n",
    "# We might be using CLT for our hypothesis testing later, so let's see which job title\n",
    "# contains large enough sample size (we use n > 30 as large as discussed in class).\n",
    "large_sample_size_salaries <- salaries %>%\n",
    "    group_by(job_title) %>%\n",
    "    summarise(n = n()) %>%\n",
    "    filter(n > 30)\n",
    "\n",
    "# Now that we have potential job titles to work with, let's only gather the information\n",
    "# we are interested in about these four titles:\n",
    "# 1. salaries in usd (so that the salaries are compareable)\n",
    "# 2. remote ratio, change the numerical values into \"in person\" (if 0), \"hybrid\" (if 50), \"remote\" (if 100)\n",
    "inperson <- salaries %>%\n",
    "    filter(remote_ratio == 0) %>%\n",
    "    mutate(remote_ratio = \"in person\")\n",
    "hybrid <- salaries %>%\n",
    "    filter(remote_ratio == 50) %>%\n",
    "    mutate(remote_ratio = \"hybrid\")\n",
    "remote <- salaries %>%\n",
    "    filter(remote_ratio == 100) %>%\n",
    "    mutate(remote_ratio = \"remote\")\n",
    "salaries_new <- rbind(inperson, hybrid, remote)\n",
    "\n",
    "head(salaries_new)"
   ]
  },
  {
   "cell_type": "markdown",
   "metadata": {},
   "source": [
    "# Methods"
   ]
  },
  {
   "cell_type": "markdown",
   "metadata": {},
   "source": [
    "Up till now, the report has demonstrated differences in mean salaries and proportions of remote work among Data Scientists and Data Analysts. To ensure randomness, representative samples of full-time employees with sample sizes greater than 30 were used.\n",
    "However, relying on point estimates and plots alone is not enough to establish these differences. Therefore, to address this issue, the report proposes using the Central Limit Theorem, as the samples are roughly normally distributed and less computationally intensive than resampling methods.\n",
    "By letting Data Scientists be population 1, and Data Analysts as population 2, we aim to test the following hypothesis for the mean salary:\n",
    "$$H_0 : \\mu_2 - \\mu_1 = 0$$\n",
    "$$H_1 : \\mu_2 - \\mu_1 \\neq 0$$\n",
    "\n",
    "for the proportion of remote work:\n",
    "$$H_0 : p_2 - p_1 = 0$$\n",
    "$$H_1 : p_2 - p_1 \\neq 0$$\n",
    "\n",
    "where $\\mu$ is the population's mean salary and $p$ is its proportion of employees working remotely. \n",
    "\n",
    "We expect to reject both null hypotheses, and will include a 90% confidence interval in our final report.\n",
    "\n",
    "\n"
   ]
  },
  {
   "cell_type": "markdown",
   "metadata": {},
   "source": [
    "### Impact\n",
    "\n",
    "The outcomes of these findings could affect the decisions of newly graduated data scientists in terms of which job positions to seek and which career paths to focus on during their undergraduate studies."
   ]
  },
  {
   "cell_type": "markdown",
   "metadata": {},
   "source": [
    "### Future\n",
    "\n",
    "This prompts further questions about how differences in experience, company location, and company size may affect the comparison of job titles in the field of Data Science. Additionally, with more data, these issues can be explored for the other professions that were not thoroughly examined due to limitations in sample size and distribution."
   ]
  },
  {
   "cell_type": "markdown",
   "metadata": {},
   "source": [
    "# References"
   ]
  },
  {
   "cell_type": "markdown",
   "metadata": {},
   "source": [
    "Bhatia, Ruchi. “Data Science Job Salaries.” Kaggle, 15 June 2022, https://www.kaggle.com/datasets/ruchi798/data-science-job-salaries. \n",
    "\n",
    "Card, D., Mas, A., Moretti, E., & Saez, E. (2012). Inequality at work: The effect of peer salaries on job satisfaction. *American Economic Review*, 102(6), 2981–3003. https://doi.org/10.1257/aer.102.6.2981\n",
    "\n",
    "Galanti, T., Guidetti, G., Mazzei, E., Zappalà, S., & Toscano, F. (2021). Work from home during the COVID-19 outbreak: the impact on employees' remote work productivity, engagement, and stress. *Journal of Occupational and Environmental Medicine*, 63(7), e426–e432. https://doi.org/10.1097/JOM.0000000000002236"
   ]
  }
 ],
 "metadata": {
  "kernelspec": {
   "display_name": "R",
   "language": "R",
   "name": "ir"
  },
  "language_info": {
   "codemirror_mode": "r",
   "file_extension": ".r",
   "mimetype": "text/x-r-source",
   "name": "R",
   "pygments_lexer": "r",
   "version": "4.1.3"
  }
 },
 "nbformat": 4,
 "nbformat_minor": 4
}
