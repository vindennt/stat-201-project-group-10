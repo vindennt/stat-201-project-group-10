{
 "cells": [
  {
   "cell_type": "markdown",
   "id": "52d4d186-20a3-4bef-a9c7-07a2d15df350",
   "metadata": {},
   "source": [
    "# **STAT-201 Project Report**\n",
    "## Do data analysts and data scientists differ in salaries and work flexibility? \n",
    "\n",
    "Prabh Sehgal, Rainie Fu, Rishabh Mathur, Dennis Truong"
   ]
  },
  {
   "cell_type": "markdown",
   "id": "dee77e45-9e2b-4413-a578-d59a1c8a2391",
   "metadata": {},
   "source": [
    "## Introduction"
   ]
  },
  {
   "cell_type": "markdown",
   "id": "73d28c5f-7aa6-49d2-bc1f-b9d171f190c2",
   "metadata": {},
   "source": [
    "A key factor in employee happiness is financial compensation, and past work during the COVID-19 pandemic have shown that working remotely can also have a positive impact on happiness thanks to increased employee autonomy (Card et al., 2012; Galanti et al., 2021). Our of data science salaries analysis aims to explore the relationships between different data science jobs, their salaries, and their proportions doing remote work. Our analyses can inform prospective emplyees about each position's remote work flexibility and typical salary. Employees may use these inferences to discover new data science occupations that better align with their work-life goals."
   ]
  },
  {
   "cell_type": "markdown",
   "id": "d001d206-abea-4f41-9fc9-e9de284cc77e",
   "metadata": {},
   "source": [
    "### Research Question\n",
    "Which profession pays more, data scientists or analysts, and who works more remotely?"
   ]
  },
  {
   "cell_type": "markdown",
   "id": "e053d23d-5ef6-474d-84bf-957b202abb6c",
   "metadata": {},
   "source": [
    "### Dataset\n",
    "\n",
    "\n",
    "Our research utilizes the dataset \"Data Science Job Salaries\" by Ruchi Bhatia (2022) from [Kaggle](https://www.kaggle.com/datasets/ruchi798/data-science-job-salaries). Observations include the year the salary was paid, experience level, work kind, title, salary, remote ratio, firm size, and company location. The main observations we aim to use are the ```job_title``` to tell us the job type, the ```salary_in_USD``` to inform us about each role's salary, and the ```remote_ratio``` to give us the proportion of poeple working remotely in that respective role."
   ]
  },
  {
   "cell_type": "markdown",
   "id": "2cfd2d91-25f2-4ff2-8afd-2db7a03b57aa",
   "metadata": {},
   "source": [
    "## Preliminary Results"
   ]
  },
  {
   "cell_type": "markdown",
   "id": "5a51c09a-e367-4875-8d3f-b5daac9633c1",
   "metadata": {},
   "source": [
    "### Reading the Data\n",
    "\n",
    "We downloaded the data to our repository and read it from there since Kaggle does not let datasets to be read straight from the website."
   ]
  },
  {
   "cell_type": "code",
   "execution_count": 1,
   "id": "92a9a25d-baf9-4f29-bed2-96b0375d65eb",
   "metadata": {},
   "outputs": [
    {
     "name": "stderr",
     "output_type": "stream",
     "text": [
      "Installing package into ‘/home/jupyter/R/x86_64-pc-linux-gnu-library/4.2’\n",
      "(as ‘lib’ is unspecified)\n",
      "\n",
      "Warning message in system(\"timedatectl\", intern = TRUE):\n",
      "“running command 'timedatectl' had status 1”\n",
      "── \u001b[1mAttaching core tidyverse packages\u001b[22m ──────────────────────── tidyverse 2.0.0 ──\n",
      "\u001b[32m✔\u001b[39m \u001b[34mdplyr    \u001b[39m 1.1.0     \u001b[32m✔\u001b[39m \u001b[34mreadr    \u001b[39m 2.1.4\n",
      "\u001b[32m✔\u001b[39m \u001b[34mforcats  \u001b[39m 1.0.0     \u001b[32m✔\u001b[39m \u001b[34mstringr  \u001b[39m 1.5.0\n",
      "\u001b[32m✔\u001b[39m \u001b[34mggplot2  \u001b[39m 3.4.1     \u001b[32m✔\u001b[39m \u001b[34mtibble   \u001b[39m 3.2.1\n",
      "\u001b[32m✔\u001b[39m \u001b[34mlubridate\u001b[39m 1.9.2     \u001b[32m✔\u001b[39m \u001b[34mtidyr    \u001b[39m 1.3.0\n",
      "\u001b[32m✔\u001b[39m \u001b[34mpurrr    \u001b[39m 1.0.1     \n",
      "── \u001b[1mConflicts\u001b[22m ────────────────────────────────────────── tidyverse_conflicts() ──\n",
      "\u001b[31m✖\u001b[39m \u001b[34mdplyr\u001b[39m::\u001b[32mfilter()\u001b[39m masks \u001b[34mstats\u001b[39m::filter()\n",
      "\u001b[31m✖\u001b[39m \u001b[34mdplyr\u001b[39m::\u001b[32mlag()\u001b[39m    masks \u001b[34mstats\u001b[39m::lag()\n",
      "\u001b[36mℹ\u001b[39m Use the conflicted package (\u001b[3m\u001b[34m<http://conflicted.r-lib.org/>\u001b[39m\u001b[23m) to force all conflicts to become errors\n",
      "\n",
      "Attaching package: ‘gridExtra’\n",
      "\n",
      "\n",
      "The following object is masked from ‘package:dplyr’:\n",
      "\n",
      "    combine\n",
      "\n",
      "\n",
      "Registered S3 method overwritten by 'GGally':\n",
      "  method from   \n",
      "  +.gg   ggplot2\n",
      "\n",
      "\n",
      "Attaching package: ‘scales’\n",
      "\n",
      "\n",
      "The following object is masked from ‘package:purrr’:\n",
      "\n",
      "    discard\n",
      "\n",
      "\n",
      "The following object is masked from ‘package:readr’:\n",
      "\n",
      "    col_factor\n",
      "\n",
      "\n"
     ]
    },
    {
     "data": {
      "text/html": [
       "<table class=\"dataframe\">\n",
       "<caption>A tibble: 6 × 11</caption>\n",
       "<thead>\n",
       "\t<tr><th scope=col>work_year</th><th scope=col>experience_level</th><th scope=col>employment_type</th><th scope=col>job_title</th><th scope=col>salary</th><th scope=col>salary_currency</th><th scope=col>salary_in_usd</th><th scope=col>employee_residence</th><th scope=col>remote_ratio</th><th scope=col>company_location</th><th scope=col>company_size</th></tr>\n",
       "\t<tr><th scope=col>&lt;dbl&gt;</th><th scope=col>&lt;chr&gt;</th><th scope=col>&lt;chr&gt;</th><th scope=col>&lt;chr&gt;</th><th scope=col>&lt;dbl&gt;</th><th scope=col>&lt;chr&gt;</th><th scope=col>&lt;dbl&gt;</th><th scope=col>&lt;chr&gt;</th><th scope=col>&lt;dbl&gt;</th><th scope=col>&lt;chr&gt;</th><th scope=col>&lt;chr&gt;</th></tr>\n",
       "</thead>\n",
       "<tbody>\n",
       "\t<tr><td>2020</td><td>MI</td><td>FT</td><td>Data Scientist            </td><td> 70000</td><td>EUR</td><td> 79833</td><td>DE</td><td>  0</td><td>DE</td><td>L</td></tr>\n",
       "\t<tr><td>2020</td><td>SE</td><td>FT</td><td>Machine Learning Scientist</td><td>260000</td><td>USD</td><td>260000</td><td>JP</td><td>  0</td><td>JP</td><td>S</td></tr>\n",
       "\t<tr><td>2020</td><td>SE</td><td>FT</td><td>Big Data Engineer         </td><td> 85000</td><td>GBP</td><td>109024</td><td>GB</td><td> 50</td><td>GB</td><td>M</td></tr>\n",
       "\t<tr><td>2020</td><td>MI</td><td>FT</td><td>Product Data Analyst      </td><td> 20000</td><td>USD</td><td> 20000</td><td>HN</td><td>  0</td><td>HN</td><td>S</td></tr>\n",
       "\t<tr><td>2020</td><td>SE</td><td>FT</td><td>Machine Learning Engineer </td><td>150000</td><td>USD</td><td>150000</td><td>US</td><td> 50</td><td>US</td><td>L</td></tr>\n",
       "\t<tr><td>2020</td><td>EN</td><td>FT</td><td>Data Analyst              </td><td> 72000</td><td>USD</td><td> 72000</td><td>US</td><td>100</td><td>US</td><td>L</td></tr>\n",
       "</tbody>\n",
       "</table>\n"
      ],
      "text/latex": [
       "A tibble: 6 × 11\n",
       "\\begin{tabular}{lllllllllll}\n",
       " work\\_year & experience\\_level & employment\\_type & job\\_title & salary & salary\\_currency & salary\\_in\\_usd & employee\\_residence & remote\\_ratio & company\\_location & company\\_size\\\\\n",
       " <dbl> & <chr> & <chr> & <chr> & <dbl> & <chr> & <dbl> & <chr> & <dbl> & <chr> & <chr>\\\\\n",
       "\\hline\n",
       "\t 2020 & MI & FT & Data Scientist             &  70000 & EUR &  79833 & DE &   0 & DE & L\\\\\n",
       "\t 2020 & SE & FT & Machine Learning Scientist & 260000 & USD & 260000 & JP &   0 & JP & S\\\\\n",
       "\t 2020 & SE & FT & Big Data Engineer          &  85000 & GBP & 109024 & GB &  50 & GB & M\\\\\n",
       "\t 2020 & MI & FT & Product Data Analyst       &  20000 & USD &  20000 & HN &   0 & HN & S\\\\\n",
       "\t 2020 & SE & FT & Machine Learning Engineer  & 150000 & USD & 150000 & US &  50 & US & L\\\\\n",
       "\t 2020 & EN & FT & Data Analyst               &  72000 & USD &  72000 & US & 100 & US & L\\\\\n",
       "\\end{tabular}\n"
      ],
      "text/markdown": [
       "\n",
       "A tibble: 6 × 11\n",
       "\n",
       "| work_year &lt;dbl&gt; | experience_level &lt;chr&gt; | employment_type &lt;chr&gt; | job_title &lt;chr&gt; | salary &lt;dbl&gt; | salary_currency &lt;chr&gt; | salary_in_usd &lt;dbl&gt; | employee_residence &lt;chr&gt; | remote_ratio &lt;dbl&gt; | company_location &lt;chr&gt; | company_size &lt;chr&gt; |\n",
       "|---|---|---|---|---|---|---|---|---|---|---|\n",
       "| 2020 | MI | FT | Data Scientist             |  70000 | EUR |  79833 | DE |   0 | DE | L |\n",
       "| 2020 | SE | FT | Machine Learning Scientist | 260000 | USD | 260000 | JP |   0 | JP | S |\n",
       "| 2020 | SE | FT | Big Data Engineer          |  85000 | GBP | 109024 | GB |  50 | GB | M |\n",
       "| 2020 | MI | FT | Product Data Analyst       |  20000 | USD |  20000 | HN |   0 | HN | S |\n",
       "| 2020 | SE | FT | Machine Learning Engineer  | 150000 | USD | 150000 | US |  50 | US | L |\n",
       "| 2020 | EN | FT | Data Analyst               |  72000 | USD |  72000 | US | 100 | US | L |\n",
       "\n"
      ],
      "text/plain": [
       "  work_year experience_level employment_type job_title                  salary\n",
       "1 2020      MI               FT              Data Scientist              70000\n",
       "2 2020      SE               FT              Machine Learning Scientist 260000\n",
       "3 2020      SE               FT              Big Data Engineer           85000\n",
       "4 2020      MI               FT              Product Data Analyst        20000\n",
       "5 2020      SE               FT              Machine Learning Engineer  150000\n",
       "6 2020      EN               FT              Data Analyst                72000\n",
       "  salary_currency salary_in_usd employee_residence remote_ratio\n",
       "1 EUR              79833        DE                   0         \n",
       "2 USD             260000        JP                   0         \n",
       "3 GBP             109024        GB                  50         \n",
       "4 USD              20000        HN                   0         \n",
       "5 USD             150000        US                  50         \n",
       "6 USD              72000        US                 100         \n",
       "  company_location company_size\n",
       "1 DE               L           \n",
       "2 JP               S           \n",
       "3 GB               M           \n",
       "4 HN               S           \n",
       "5 US               L           \n",
       "6 US               L           "
      ]
     },
     "metadata": {},
     "output_type": "display_data"
    }
   ],
   "source": [
    "# Load libraries\n",
    "install.packages(\"infer\")\n",
    "library(tidyverse)\n",
    "library(infer)\n",
    "library(repr)\n",
    "library(ggplot2)\n",
    "library(gridExtra)\n",
    "library(RColorBrewer)\n",
    "library(GGally)\n",
    "library(scales)\n",
    "library(broom)\n",
    "library(digest)\n",
    "\n",
    "# Set seed\n",
    "set.seed(4204)\n",
    "\n",
    "# Get url of dataset from the web|\n",
    "url <- \"https://raw.githubusercontent.com/vindennt/stat-201-project-group-10/main/ds_salaries.csv\"\n",
    "\n",
    "# Use suppressMessages() to avoid the warning message when it automatically gives a\n",
    "# name to the first column, which are just indecies\n",
    "salaries <- suppressMessages(\n",
    "read_delim(url, delim = \",\") %>%\n",
    "select(!...1))\n",
    "\n",
    "# Preview data\n",
    "head(salaries)"
   ]
  },
  {
   "cell_type": "markdown",
   "id": "b90308c1-550f-49cf-8a3c-e5ebbbdb47aa",
   "metadata": {},
   "source": [
    "**Table 1:** Preview of the data science salary dataset to be analyzed."
   ]
  },
  {
   "cell_type": "markdown",
   "id": "15e15697-e535-4f81-9af8-f91bef4e870b",
   "metadata": {},
   "source": [
    "### Cleaning and Wrangling Data\n",
    "\n",
    "Let's look at which of the many ```job_title``` categories in this dataset we can use."
   ]
  },
  {
   "cell_type": "code",
   "execution_count": 2,
   "id": "9116aa30-7c13-4944-b3fa-535317c35941",
   "metadata": {},
   "outputs": [
    {
     "data": {
      "text/html": [
       "<ol>\n",
       "\t<li>'Data Scientist'</li>\n",
       "\t<li>'Machine Learning Engineer'</li>\n",
       "\t<li>'Data Analyst'</li>\n",
       "\t<li>'Data Engineer'</li>\n",
       "</ol>\n"
      ],
      "text/latex": [
       "\\begin{enumerate}\n",
       "\\item 'Data Scientist'\n",
       "\\item 'Machine Learning Engineer'\n",
       "\\item 'Data Analyst'\n",
       "\\item 'Data Engineer'\n",
       "\\end{enumerate}\n"
      ],
      "text/markdown": [
       "1. 'Data Scientist'\n",
       "2. 'Machine Learning Engineer'\n",
       "3. 'Data Analyst'\n",
       "4. 'Data Engineer'\n",
       "\n",
       "\n"
      ],
      "text/plain": [
       "[[1]]\n",
       "[1] \"Data Scientist\"\n",
       "\n",
       "[[2]]\n",
       "[1] \"Machine Learning Engineer\"\n",
       "\n",
       "[[3]]\n",
       "[1] \"Data Analyst\"\n",
       "\n",
       "[[4]]\n",
       "[1] \"Data Engineer\"\n"
      ]
     },
     "metadata": {},
     "output_type": "display_data"
    }
   ],
   "source": [
    "# Filter for sample size > 30 and full time workers\n",
    "salaries <- salaries %>%\n",
    "    filter(employment_type == \"FT\") %>%\n",
    "    group_by(job_title) %>%\n",
    "    mutate(n = n()) %>%\n",
    "    filter(n > 30)\n",
    "\n",
    "# Preview the remaining job titles\n",
    "large_job_groups <- as.list(unique(salaries$job_title))\n",
    "large_job_groups"
   ]
  },
  {
   "cell_type": "markdown",
   "id": "62848ed3-8b8b-4310-b936-4603842c1cbd",
   "metadata": {},
   "source": [
    "Here we can see that the first three categories each have more than 30 observations, meaning they are large enough, and are similar in size. Of those three, Data Scientist is a very broad job definition, so we will compare Data Scientists and Data Analysts.\n",
    "Let's grab only those categories and store them in a dataframe named ```top_jobs```."
   ]
  },
  {
   "cell_type": "code",
   "execution_count": 3,
   "id": "ac96d4f7-1212-4797-866e-a0b293e2a3e3",
   "metadata": {},
   "outputs": [
    {
     "data": {
      "text/html": [
       "<table class=\"dataframe\">\n",
       "<caption>A grouped_df: 6 × 7</caption>\n",
       "<thead>\n",
       "\t<tr><th scope=col>work_year</th><th scope=col>experience_level</th><th scope=col>job_title</th><th scope=col>salary_in_usd</th><th scope=col>remote_ratio</th><th scope=col>company_size</th><th scope=col>n</th></tr>\n",
       "\t<tr><th scope=col>&lt;dbl&gt;</th><th scope=col>&lt;chr&gt;</th><th scope=col>&lt;chr&gt;</th><th scope=col>&lt;dbl&gt;</th><th scope=col>&lt;chr&gt;</th><th scope=col>&lt;chr&gt;</th><th scope=col>&lt;int&gt;</th></tr>\n",
       "</thead>\n",
       "<tbody>\n",
       "\t<tr><td>2020</td><td>MI</td><td>Data Scientist           </td><td>79833</td><td>in person</td><td>L</td><td>140</td></tr>\n",
       "\t<tr><td>2020</td><td>EN</td><td>Data Scientist           </td><td>51321</td><td>in person</td><td>S</td><td>140</td></tr>\n",
       "\t<tr><td>2020</td><td>MI</td><td>Data Scientist           </td><td>40481</td><td>in person</td><td>L</td><td>140</td></tr>\n",
       "\t<tr><td>2020</td><td>EN</td><td>Data Scientist           </td><td>39916</td><td>in person</td><td>M</td><td>140</td></tr>\n",
       "\t<tr><td>2020</td><td>MI</td><td>Machine Learning Engineer</td><td>43331</td><td>in person</td><td>M</td><td> 41</td></tr>\n",
       "\t<tr><td>2020</td><td>SE</td><td>Data Engineer            </td><td>33511</td><td>in person</td><td>S</td><td>129</td></tr>\n",
       "</tbody>\n",
       "</table>\n"
      ],
      "text/latex": [
       "A grouped\\_df: 6 × 7\n",
       "\\begin{tabular}{lllllll}\n",
       " work\\_year & experience\\_level & job\\_title & salary\\_in\\_usd & remote\\_ratio & company\\_size & n\\\\\n",
       " <dbl> & <chr> & <chr> & <dbl> & <chr> & <chr> & <int>\\\\\n",
       "\\hline\n",
       "\t 2020 & MI & Data Scientist            & 79833 & in person & L & 140\\\\\n",
       "\t 2020 & EN & Data Scientist            & 51321 & in person & S & 140\\\\\n",
       "\t 2020 & MI & Data Scientist            & 40481 & in person & L & 140\\\\\n",
       "\t 2020 & EN & Data Scientist            & 39916 & in person & M & 140\\\\\n",
       "\t 2020 & MI & Machine Learning Engineer & 43331 & in person & M &  41\\\\\n",
       "\t 2020 & SE & Data Engineer             & 33511 & in person & S & 129\\\\\n",
       "\\end{tabular}\n"
      ],
      "text/markdown": [
       "\n",
       "A grouped_df: 6 × 7\n",
       "\n",
       "| work_year &lt;dbl&gt; | experience_level &lt;chr&gt; | job_title &lt;chr&gt; | salary_in_usd &lt;dbl&gt; | remote_ratio &lt;chr&gt; | company_size &lt;chr&gt; | n &lt;int&gt; |\n",
       "|---|---|---|---|---|---|---|\n",
       "| 2020 | MI | Data Scientist            | 79833 | in person | L | 140 |\n",
       "| 2020 | EN | Data Scientist            | 51321 | in person | S | 140 |\n",
       "| 2020 | MI | Data Scientist            | 40481 | in person | L | 140 |\n",
       "| 2020 | EN | Data Scientist            | 39916 | in person | M | 140 |\n",
       "| 2020 | MI | Machine Learning Engineer | 43331 | in person | M |  41 |\n",
       "| 2020 | SE | Data Engineer             | 33511 | in person | S | 129 |\n",
       "\n"
      ],
      "text/plain": [
       "  work_year experience_level job_title                 salary_in_usd\n",
       "1 2020      MI               Data Scientist            79833        \n",
       "2 2020      EN               Data Scientist            51321        \n",
       "3 2020      MI               Data Scientist            40481        \n",
       "4 2020      EN               Data Scientist            39916        \n",
       "5 2020      MI               Machine Learning Engineer 43331        \n",
       "6 2020      SE               Data Engineer             33511        \n",
       "  remote_ratio company_size n  \n",
       "1 in person    L            140\n",
       "2 in person    S            140\n",
       "3 in person    L            140\n",
       "4 in person    M            140\n",
       "5 in person    M             41\n",
       "6 in person    S            129"
      ]
     },
     "metadata": {},
     "output_type": "display_data"
    }
   ],
   "source": [
    "inperson <- salaries %>% # Classify no remote work as being in person work\n",
    "    filter(remote_ratio == 0) %>%\n",
    "    mutate(remote_ratio = \"in person\")\n",
    "hybrid <- salaries %>%\n",
    "    filter(remote_ratio == 50) %>% # Classify partial remote work as a hybrid format\n",
    "    mutate(remote_ratio = \"hybrid\")\n",
    "remote <- salaries %>%\n",
    "    filter(remote_ratio == 100) %>%\n",
    "    mutate(remote_ratio = \"remote\") # Classify 100% remote work as full remote work\n",
    "# Remove unecessary columns\n",
    "salaries_new <- rbind(inperson, hybrid, remote) %>%\n",
    "    select(-salary_currency, -salary, -employee_residence, -company_location, -employment_type) \n",
    "\n",
    "# Preview resulting data\n",
    "head(salaries_new)"
   ]
  },
  {
   "cell_type": "markdown",
   "id": "0d026363-cf53-4897-bdf5-71b44d22503b",
   "metadata": {},
   "source": [
    "**Table 2:** Preview of the cleaned and filtered data science salary dataset to be analyzed."
   ]
  },
  {
   "cell_type": "markdown",
   "id": "50212db6-a4a7-452a-876a-7e3e44492c6a",
   "metadata": {},
   "source": [
    "### Plots"
   ]
  },
  {
   "cell_type": "markdown",
   "id": "faa8f954-f58a-4eb1-82f4-fc4b0f27e4cb",
   "metadata": {},
   "source": [
    "#### Salary distributions\n",
    "\n",
    "Let's start by plotting the salary distributions for each of the categories side by side.\n",
    "Also, we'll include red vertical lines to display their mean incomes."
   ]
  },
  {
   "cell_type": "code",
   "execution_count": 4,
   "id": "b33f0508-ed04-47db-a546-19d5a7135e1e",
   "metadata": {},
   "outputs": [
    {
     "data": {
      "image/png": "[encoded data removed]",
      "text/plain": [
       "plot without title"
      ]
     },
     "metadata": {
      "image/png": {
       "height": 240,
       "width": 600
      }
     },
     "output_type": "display_data"
    }
   ],
   "source": [
    "options(repr.plot.width = 10, repr.plot.height = 4)\n",
    "\n",
    "# visualize distribution of data scientist salaries\n",
    "ds_salary_dist <- salaries_new %>%\n",
    "    filter(job_title == \"Data Scientist\") %>%\n",
    "    ggplot(aes(x = salary_in_usd, y = after_stat(density))) +\n",
    "    geom_histogram(binwidth = 20000) +\n",
    "    labs(x = \"Salary (USD)\", title = \"1) Data scientist salary\") +\n",
    "    geom_vline(xintercept = mean(filter(salaries_new, job_title == \"Data Scientist\")$salary_in_usd), color = \"blue\") + # mark mean to make easier to see\n",
    "    scale_x_continuous(labels = scales::dollar_format()) + # put money in the human-readable unit of USD\n",
    "    coord_cartesian(xlim = c(0, 300000), ylim = c(0, 1e-05)) + # set x axis to readable scale\n",
    "    theme(text = element_text(size = 17)) # Set text size to easily readable size\n",
    "\n",
    "    \n",
    "\n",
    "# visualize distribution of data analyst salaries\n",
    "pda_salary_dist <- salaries_new %>% \n",
    "    filter(job_title == \"Data Analyst\") %>%\n",
    "    ggplot(aes(x = salary_in_usd, y = after_stat(density))) +\n",
    "    geom_histogram(binwidth = 20000) +\n",
    "    labs(x = \"Salary (USD)\", title = \"2) Data analyst salary\") +\n",
    "    geom_vline(xintercept = mean(filter(salaries_new, job_title == \"Data Analyst\")$salary_in_usd), color = \"blue\") +\n",
    "    scale_x_continuous(labels = scales::dollar_format()) +\n",
    "    coord_cartesian(xlim = c(0, 300000), ylim = c(0, 1e-05)) +\n",
    "    theme(text = element_text(size = 17))\n",
    "\n",
    "grid.arrange(ds_salary_dist, pda_salary_dist, ncol = 2, top = \"Salary distribution\")"
   ]
  },
  {
   "cell_type": "markdown",
   "id": "ec0333e2-94aa-42bb-b42e-eac85ea0a681",
   "metadata": {},
   "source": [
    "**Figure 1 & 2:** Salary distributions for data scientists and data analysts in USD from companies of all sizes."
   ]
  },
  {
   "cell_type": "code",
   "execution_count": 5,
   "id": "a25aa5cd-480e-4c33-a054-da678a184c3e",
   "metadata": {},
   "outputs": [
    {
     "data": {
      "image/png": "[encoded data removed]",
      "text/plain": [
       "plot without title"
      ]
     },
     "metadata": {
      "image/png": {
       "height": 240,
       "width": 420
      }
     },
     "output_type": "display_data"
    }
   ],
   "source": [
    "options(repr.plot.width = 7, repr.plot.height = 4)\n",
    "\n",
    "# Create a bar graph with proportions represented by proprtions of the bar occupied by correspdoning coloer\n",
    "remote_prop_visual <- salaries_new %>%\n",
    "    filter(job_title == \"Data Analyst\" | job_title == \"Data Scientist\") %>%\n",
    "    ggplot(aes(x = job_title, fill = remote_ratio == \"remote\")) +\n",
    "    geom_bar(position = \"fill\", width = 0.7) +\n",
    "    xlab(\"Job title\") +\n",
    "    ylab(\"Proportion\") +\n",
    "    ggtitle(\"Proportions of data science jobs working remotely\") +\n",
    "    labs(fill = \"Fully remote\") +\n",
    "    scale_fill_brewer(palette = \"Paired\") +\n",
    "    theme(text = element_text(size = 14))\n",
    "\n",
    "remote_prop_visual"
   ]
  },
  {
   "cell_type": "markdown",
   "id": "7ca23566-f253-4d4a-ab6f-fd9b33bb31b6",
   "metadata": {},
   "source": [
    "**Figure 3:** Proportion of data science jobs working remotely."
   ]
  },
  {
   "cell_type": "markdown",
   "id": "12713078-7ecc-4e82-be0d-c3dbda972fef",
   "metadata": {},
   "source": [
    "### Estimates\n",
    "\n",
    "We require the right point estimates prior to testing our hypotheses."
   ]
  },
  {
   "cell_type": "code",
   "execution_count": 6,
   "id": "6c5e17e1-e9e1-45da-86da-7f69a282ed90",
   "metadata": {},
   "outputs": [
    {
     "data": {
      "text/html": [
       "<table class=\"dataframe\">\n",
       "<caption>A tibble: 2 × 6</caption>\n",
       "<thead>\n",
       "\t<tr><th scope=col>job_title</th><th scope=col>n</th><th scope=col>salary_mean</th><th scope=col>salary_sd</th><th scope=col>remote_prop</th><th scope=col>remote_sd</th></tr>\n",
       "\t<tr><th scope=col>&lt;chr&gt;</th><th scope=col>&lt;int&gt;</th><th scope=col>&lt;dbl&gt;</th><th scope=col>&lt;dbl&gt;</th><th scope=col>&lt;dbl&gt;</th><th scope=col>&lt;dbl&gt;</th></tr>\n",
       "</thead>\n",
       "<tbody>\n",
       "\t<tr><td>Data Analyst  </td><td> 96</td><td> 93752.84</td><td>39258.60</td><td>0.7291667</td><td>0.4443902</td></tr>\n",
       "\t<tr><td>Data Scientist</td><td>140</td><td>108922.79</td><td>64372.43</td><td>0.5571429</td><td>0.4967240</td></tr>\n",
       "</tbody>\n",
       "</table>\n"
      ],
      "text/latex": [
       "A tibble: 2 × 6\n",
       "\\begin{tabular}{llllll}\n",
       " job\\_title & n & salary\\_mean & salary\\_sd & remote\\_prop & remote\\_sd\\\\\n",
       " <chr> & <int> & <dbl> & <dbl> & <dbl> & <dbl>\\\\\n",
       "\\hline\n",
       "\t Data Analyst   &  96 &  93752.84 & 39258.60 & 0.7291667 & 0.4443902\\\\\n",
       "\t Data Scientist & 140 & 108922.79 & 64372.43 & 0.5571429 & 0.4967240\\\\\n",
       "\\end{tabular}\n"
      ],
      "text/markdown": [
       "\n",
       "A tibble: 2 × 6\n",
       "\n",
       "| job_title &lt;chr&gt; | n &lt;int&gt; | salary_mean &lt;dbl&gt; | salary_sd &lt;dbl&gt; | remote_prop &lt;dbl&gt; | remote_sd &lt;dbl&gt; |\n",
       "|---|---|---|---|---|---|\n",
       "| Data Analyst   |  96 |  93752.84 | 39258.60 | 0.7291667 | 0.4443902 |\n",
       "| Data Scientist | 140 | 108922.79 | 64372.43 | 0.5571429 | 0.4967240 |\n",
       "\n"
      ],
      "text/plain": [
       "  job_title      n   salary_mean salary_sd remote_prop remote_sd\n",
       "1 Data Analyst    96  93752.84   39258.60  0.7291667   0.4443902\n",
       "2 Data Scientist 140 108922.79   64372.43  0.5571429   0.4967240"
      ]
     },
     "metadata": {},
     "output_type": "display_data"
    }
   ],
   "source": [
    "# We are only interested in data analyst and data scientist, so we filter these to job_titles out\n",
    "salaries_new <- salaries_new %>%\n",
    "        filter(job_title == \"Data Analyst\" | job_title == \"Data Scientist\")\n",
    "\n",
    "# Here, we will calculate basic point estimate statistics for future inferences.\n",
    "data_estimates <- salaries_new %>%\n",
    "    group_by(job_title) %>%\n",
    "    summarize(n = n(),\n",
    "              salary_mean = mean(salary_in_usd), \n",
    "              salary_sd = sd(salary_in_usd), \n",
    "              remote_prop = mean(remote_ratio == \"remote\"), \n",
    "              remote_sd = sqrt(remote_prop * (1 - remote_prop)))\n",
    "    \n",
    "\n",
    "# Preview point estimates\n",
    "head(data_estimates)"
   ]
  },
  {
   "cell_type": "markdown",
   "id": "cc697d1b-9faf-4ac5-a06e-ca6eabd15275",
   "metadata": {},
   "source": [
    "**Table 3:** Point estimates of salary and remote ratio statistics"
   ]
  },
  {
   "cell_type": "markdown",
   "id": "9dabe599-52de-4af0-bb4b-70b61a0911d2",
   "metadata": {},
   "source": [
    "## Methods"
   ]
  },
  {
   "cell_type": "markdown",
   "id": "e27c7d15-bb77-47fe-be33-067a758bf6f1",
   "metadata": {},
   "source": [
    "### Plan"
   ]
  },
  {
   "cell_type": "markdown",
   "id": "488f9ebb-e5be-4fe7-b484-d679a8f308e7",
   "metadata": {},
   "source": [
    "This analysis has so far shown that the average salaries for data engineers and data analysts are different, as well as the percentage of those workers that work from home. Moreover, the sample standard deviation of pay is larger for data engineers, and both standard deviations for the proportion of remote work are similar. To ensure that the response variables are truly random and not based on job type, we selected representative samples (with n > 30) and focused on full-time employees.\n",
    "\n",
    "Sadly, our plots and point estimates are insufficient to support that. We will employ resampling and asymptotic approaches to describe the population distributions in order to address the fact that they use only one sample, making them more error-prone than a *sampling* distribution.\n",
    "\n",
    "In order to create a sampling distribution of the *salary standard deviations* and *percentage of remote work standard deviations* for each sample, we will do bootstrapping on both samples. This is to compare the range of incomes and the percentage of remote employment.\n",
    "\n",
    "We will employ an asymptotic strategy to account for differences in mean salaries and the fraction of remote employment. We will use the sample means  $\\bar{x}$, proportions $p$, and standard deviations $\\sigma$ because we lack the populations' means $\\mu$, proportions $\\hat{p}$, and sigma values $s$. We shall employ $t$-distributions because of their fatter tails and broader spread when compared to a standard distribution to take into consideration the possibility of error associated with this replacement.\n",
    "\n",
    "We want to test the following assumptions by making data scientists population 1 and data analysts population 2.\n",
    "\n",
    "for the mean salary:\n",
    "$$H_0 : \\mu_1 - \\mu_2 = 0$$\n",
    "$$H_1 : \\mu_1 - \\mu_2 \\neq 0$$\n",
    "\n",
    "for the proportion of remote work:\n",
    "$$H_0 : p_1 - p_2 = 0$$\n",
    "$$H_1 : p_1 - p_2 \\neq 0$$\n",
    "\n",
    "We want to test the following assumptions by making data scientists population 1 and data analysts population 2.\n",
    "\n",
    "where $p$ is the percentage of employees who work remotely and $mu$ is the population's mean annual wage. Hence, our $t$-distributions will be $t_{128}$ and $t_{95}$, respectively.\n",
    "\n",
    "With a 90% confidence level, we anticipate rejecting both null hypotheses at a significance level of 5%.\n"
   ]
  },
  {
   "cell_type": "markdown",
   "id": "2298b552-bea9-4330-917f-96cee4ed4e8c",
   "metadata": {},
   "source": [
    "## Results"
   ]
  },
  {
   "cell_type": "markdown",
   "id": "85461b2f-f13e-4e8f-99c1-29ad3faef76e",
   "metadata": {},
   "source": [
    "### Hypothesis Testing with Bootstrapping "
   ]
  },
  {
   "cell_type": "markdown",
   "id": "03d87a13-a7af-4140-b286-8c35f3b32d82",
   "metadata": {},
   "source": [
    "To determine whether to accept or reject our null hypothesis, we will utilize the bootstrapping method to produce 1000 replicates. This will allow us to obtain the confidence interval for both the mean salary difference between two job types and the proportion difference of remote jobs. If the confidence interval does not include 0, we will reject the null hypothesis."
   ]
  },
  {
   "cell_type": "code",
   "execution_count": 13,
   "id": "7eab2ecd-3614-4239-a2a5-d12bc593a7cf",
   "metadata": {},
   "outputs": [
    {
     "name": "stderr",
     "output_type": "stream",
     "text": [
      "Warning message:\n",
      "“The statistic is based on a difference or ratio; by default, for difference-based statistics, the explanatory variable is subtracted in the order \"Data Analyst\" - \"Data Scientist\", or divided in the order \"Data Analyst\" / \"Data Scientist\" for ratio-based statistics. To specify this order yourself, supply `order = c(\"Data Analyst\", \"Data Scientist\")` to the calculate() function.”\n",
      "Warning message:\n",
      "“The statistic is based on a difference or ratio; by default, for difference-based statistics, the explanatory variable is subtracted in the order \"Data Analyst\" - \"Data Scientist\", or divided in the order \"Data Analyst\" / \"Data Scientist\" for ratio-based statistics. To specify this order yourself, supply `order = c(\"Data Analyst\", \"Data Scientist\")` to the calculate() function.”\n"
     ]
    },
    {
     "data": {
      "text/html": [
       "<table class=\"dataframe\">\n",
       "<caption>A infer: 6 × 2</caption>\n",
       "<thead>\n",
       "\t<tr><th scope=col>replicate</th><th scope=col>stat</th></tr>\n",
       "\t<tr><th scope=col>&lt;int&gt;</th><th scope=col>&lt;dbl&gt;</th></tr>\n",
       "</thead>\n",
       "<tbody>\n",
       "\t<tr><td>1</td><td>-10610.02</td></tr>\n",
       "\t<tr><td>2</td><td>-17382.07</td></tr>\n",
       "\t<tr><td>3</td><td>-20916.12</td></tr>\n",
       "\t<tr><td>4</td><td>-21273.28</td></tr>\n",
       "\t<tr><td>5</td><td>-18450.81</td></tr>\n",
       "\t<tr><td>6</td><td>-23741.95</td></tr>\n",
       "</tbody>\n",
       "</table>\n"
      ],
      "text/latex": [
       "A infer: 6 × 2\n",
       "\\begin{tabular}{ll}\n",
       " replicate & stat\\\\\n",
       " <int> & <dbl>\\\\\n",
       "\\hline\n",
       "\t 1 & -10610.02\\\\\n",
       "\t 2 & -17382.07\\\\\n",
       "\t 3 & -20916.12\\\\\n",
       "\t 4 & -21273.28\\\\\n",
       "\t 5 & -18450.81\\\\\n",
       "\t 6 & -23741.95\\\\\n",
       "\\end{tabular}\n"
      ],
      "text/markdown": [
       "\n",
       "A infer: 6 × 2\n",
       "\n",
       "| replicate &lt;int&gt; | stat &lt;dbl&gt; |\n",
       "|---|---|\n",
       "| 1 | -10610.02 |\n",
       "| 2 | -17382.07 |\n",
       "| 3 | -20916.12 |\n",
       "| 4 | -21273.28 |\n",
       "| 5 | -18450.81 |\n",
       "| 6 | -23741.95 |\n",
       "\n"
      ],
      "text/plain": [
       "  replicate stat     \n",
       "1 1         -10610.02\n",
       "2 2         -17382.07\n",
       "3 3         -20916.12\n",
       "4 4         -21273.28\n",
       "5 5         -18450.81\n",
       "6 6         -23741.95"
      ]
     },
     "metadata": {},
     "output_type": "display_data"
    },
    {
     "name": "stderr",
     "output_type": "stream",
     "text": [
      "Warning message:\n",
      "“The statistic is based on a difference or ratio; by default, for difference-based statistics, the explanatory variable is subtracted in the order \"Data Analyst\" - \"Data Scientist\", or divided in the order \"Data Analyst\" / \"Data Scientist\" for ratio-based statistics. To specify this order yourself, supply `order = c(\"Data Analyst\", \"Data Scientist\")` to the calculate() function.”\n"
     ]
    },
    {
     "data": {
      "text/html": [
       "<table class=\"dataframe\">\n",
       "<caption>A infer: 6 × 2</caption>\n",
       "<thead>\n",
       "\t<tr><th scope=col>replicate</th><th scope=col>stat</th></tr>\n",
       "\t<tr><th scope=col>&lt;int&gt;</th><th scope=col>&lt;dbl&gt;</th></tr>\n",
       "</thead>\n",
       "<tbody>\n",
       "\t<tr><td>1</td><td>0.20862471</td></tr>\n",
       "\t<tr><td>2</td><td>0.08775194</td></tr>\n",
       "\t<tr><td>3</td><td>0.04702751</td></tr>\n",
       "\t<tr><td>4</td><td>0.22919000</td></tr>\n",
       "\t<tr><td>5</td><td>0.23613361</td></tr>\n",
       "\t<tr><td>6</td><td>0.12145157</td></tr>\n",
       "</tbody>\n",
       "</table>\n"
      ],
      "text/latex": [
       "A infer: 6 × 2\n",
       "\\begin{tabular}{ll}\n",
       " replicate & stat\\\\\n",
       " <int> & <dbl>\\\\\n",
       "\\hline\n",
       "\t 1 & 0.20862471\\\\\n",
       "\t 2 & 0.08775194\\\\\n",
       "\t 3 & 0.04702751\\\\\n",
       "\t 4 & 0.22919000\\\\\n",
       "\t 5 & 0.23613361\\\\\n",
       "\t 6 & 0.12145157\\\\\n",
       "\\end{tabular}\n"
      ],
      "text/markdown": [
       "\n",
       "A infer: 6 × 2\n",
       "\n",
       "| replicate &lt;int&gt; | stat &lt;dbl&gt; |\n",
       "|---|---|\n",
       "| 1 | 0.20862471 |\n",
       "| 2 | 0.08775194 |\n",
       "| 3 | 0.04702751 |\n",
       "| 4 | 0.22919000 |\n",
       "| 5 | 0.23613361 |\n",
       "| 6 | 0.12145157 |\n",
       "\n"
      ],
      "text/plain": [
       "  replicate stat      \n",
       "1 1         0.20862471\n",
       "2 2         0.08775194\n",
       "3 3         0.04702751\n",
       "4 4         0.22919000\n",
       "5 5         0.23613361\n",
       "6 6         0.12145157"
      ]
     },
     "metadata": {},
     "output_type": "display_data"
    }
   ],
   "source": [
    "# Seed set at initiation\n",
    "\n",
    "# Bootstrap hypothesis test for difference in salary means\n",
    "\n",
    "# Calculate the oberved test statistic \n",
    "obs_diff_in_means <- salaries_new %>%\n",
    "        specify(formula = salary_in_usd ~ job_title) %>%\n",
    "        calculate(stat = \"diff in means\")\n",
    "# Get 1000 bootstrap disitribution for difference in mean of salaries\n",
    "diff_in_mean_bootstrap_distribution <- salaries_new %>% \n",
    "    specify(formula = salary_in_usd ~ job_title) %>% \n",
    "    hypothesize(null = \"independence\") %>%\n",
    "    generate(type = \"bootstrap\", reps = 1000) %>% \n",
    "    calculate(stat = \"diff in means\")\n",
    "head(diff_in_mean_bootstrap_distribution)\n",
    "\n",
    "# Bootstrap hypothesis test for difference in proportions for remote ratios\n",
    "\n",
    "# In order to use stat = \"diff in props\", the response variable should only have 2 levels\n",
    "# So we clean the dataset again, with remote_ratio = \"remote\" or \"non-remote\"\n",
    "salaries_nonremote <- salaries_new %>%\n",
    "        filter(remote_ratio == \"in person\" | remote_ratio == \"hybrid\") %>%\n",
    "        mutate(remote_ratio = \"non-remote\")\n",
    "salaries_remote <- salaries_new %>%\n",
    "        filter(remote_ratio == \"remote\")\n",
    "salaries_remote_nonremote <- rbind(salaries_nonremote, salaries_remote)\n",
    "\n",
    "# Get 1000 bootstrap distribution for difference in proportions of remote\n",
    "diff_in_prop_bootstrap_distribution <- salaries_remote_nonremote %>%\n",
    "        specify(formula = remote_ratio ~ job_title, success = \"remote\") %>%\n",
    "        hypothesize(null = \"independence\") %>%\n",
    "        generate(type = \"bootstrap\", reps = 1000) %>%\n",
    "        calculate(stat = \"diff in props\") \n",
    "head(diff_in_prop_bootstrap_distribution)"
   ]
  },
  {
   "cell_type": "markdown",
   "id": "562f0f61-c38a-4224-beda-8fb0cc4505da",
   "metadata": {},
   "source": [
    "**Table 4:** Snippet of bootstrapped data based on 1000 replicates"
   ]
  },
  {
   "cell_type": "markdown",
   "id": "b0ad4e80-28ca-45c5-900f-29a2839d5b25",
   "metadata": {},
   "source": [
    "We need to get the 90% confidence intervals for each statistic"
   ]
  },
  {
   "cell_type": "code",
   "execution_count": 10,
   "id": "c209be0a-e999-47e0-b479-6eb9f55854e5",
   "metadata": {},
   "outputs": [
    {
     "data": {
      "text/html": [
       "<table class=\"dataframe\">\n",
       "<caption>A tibble: 1 × 2</caption>\n",
       "<thead>\n",
       "\t<tr><th scope=col>lower_ci</th><th scope=col>upper_ci</th></tr>\n",
       "\t<tr><th scope=col>&lt;dbl&gt;</th><th scope=col>&lt;dbl&gt;</th></tr>\n",
       "</thead>\n",
       "<tbody>\n",
       "\t<tr><td>-26162.16</td><td>-4441.121</td></tr>\n",
       "</tbody>\n",
       "</table>\n"
      ],
      "text/latex": [
       "A tibble: 1 × 2\n",
       "\\begin{tabular}{ll}\n",
       " lower\\_ci & upper\\_ci\\\\\n",
       " <dbl> & <dbl>\\\\\n",
       "\\hline\n",
       "\t -26162.16 & -4441.121\\\\\n",
       "\\end{tabular}\n"
      ],
      "text/markdown": [
       "\n",
       "A tibble: 1 × 2\n",
       "\n",
       "| lower_ci &lt;dbl&gt; | upper_ci &lt;dbl&gt; |\n",
       "|---|---|\n",
       "| -26162.16 | -4441.121 |\n",
       "\n"
      ],
      "text/plain": [
       "  lower_ci  upper_ci \n",
       "1 -26162.16 -4441.121"
      ]
     },
     "metadata": {},
     "output_type": "display_data"
    },
    {
     "data": {
      "text/html": [
       "<table class=\"dataframe\">\n",
       "<caption>A tibble: 1 × 2</caption>\n",
       "<thead>\n",
       "\t<tr><th scope=col>lower_ci</th><th scope=col>upper_ci</th></tr>\n",
       "\t<tr><th scope=col>&lt;dbl&gt;</th><th scope=col>&lt;dbl&gt;</th></tr>\n",
       "</thead>\n",
       "<tbody>\n",
       "\t<tr><td>0.08007766</td><td>0.2765841</td></tr>\n",
       "</tbody>\n",
       "</table>\n"
      ],
      "text/latex": [
       "A tibble: 1 × 2\n",
       "\\begin{tabular}{ll}\n",
       " lower\\_ci & upper\\_ci\\\\\n",
       " <dbl> & <dbl>\\\\\n",
       "\\hline\n",
       "\t 0.08007766 & 0.2765841\\\\\n",
       "\\end{tabular}\n"
      ],
      "text/markdown": [
       "\n",
       "A tibble: 1 × 2\n",
       "\n",
       "| lower_ci &lt;dbl&gt; | upper_ci &lt;dbl&gt; |\n",
       "|---|---|\n",
       "| 0.08007766 | 0.2765841 |\n",
       "\n"
      ],
      "text/plain": [
       "  lower_ci   upper_ci \n",
       "1 0.08007766 0.2765841"
      ]
     },
     "metadata": {},
     "output_type": "display_data"
    }
   ],
   "source": [
    "# Use quantiles method to get 90% confidence intervals\n",
    "diff_in_means_ci <- diff_in_mean_bootstrap_distribution %>%\n",
    "        summarise(lower_ci = quantile(stat, 0.05), upper_ci = quantile(stat, 0.95))\n",
    "diff_in_means_ci\n",
    "diff_in_props_ci <- diff_in_prop_bootstrap_distribution %>%\n",
    "        summarise(lower_ci = quantile(stat, 0.05), upper_ci = quantile(stat, 0.95))\n",
    "diff_in_props_ci"
   ]
  },
  {
   "cell_type": "markdown",
   "id": "4a3d3905-862a-4b84-a3a3-40383f5701a7",
   "metadata": {},
   "source": [
    "**Table 5, 6.** Confidence intervals of difference in salary distributions (top) and difference in remote ratios (bottom)."
   ]
  },
  {
   "cell_type": "markdown",
   "id": "0bf42ad7-4e53-48d7-9867-a13968df95d7",
   "metadata": {},
   "source": [
    "In order to improve the convenience of our decision-making process, we will produce visual representations of the two confidence intervals."
   ]
  },
  {
   "cell_type": "code",
   "execution_count": 12,
   "id": "099b2b0d-92cc-4ac6-8fc6-365c3791364c",
   "metadata": {},
   "outputs": [
    {
     "data": {
      "image/png": "[encoded data removed]",
      "text/plain": [
       "plot without title"
      ]
     },
     "metadata": {
      "image/png": {
       "height": 480,
       "width": 600
      }
     },
     "output_type": "display_data"
    }
   ],
   "source": [
    "options(repr.plot.width = 10, repr.plot.height = 8) # setting dimensions\n",
    "diff_in_means_ci_plot <- diff_in_mean_bootstrap_distribution %>%\n",
    "        visualize() +\n",
    "        shade_confidence_interval(endpoints = diff_in_means_ci) +\n",
    "        labs(x = \"difference in means of salaries\")\n",
    "diff_in_props_ci_plot <- diff_in_prop_bootstrap_distribution %>%\n",
    "        visualize() +\n",
    "        shade_confidence_interval(endpoints = diff_in_props_ci) +\n",
    "        labs(x = \"difference in props of remote\")\n",
    "grid.arrange(diff_in_means_ci_plot, diff_in_props_ci_plot, top = \"Bootstrapped distribution confidence intervals\")"
   ]
  },
  {
   "cell_type": "markdown",
   "id": "8b2d47c6-6a2a-44c5-a351-40ebd663f8e3",
   "metadata": {},
   "source": [
    "**Figure 4.** Bootstrap distributions of confidence interval of difference in mean of salaries and difference in proportions of remote work for Data Analysts and Data Scientists."
   ]
  },
  {
   "cell_type": "markdown",
   "id": "92760b7e-ccdf-4227-bec8-789a22da2d0e",
   "metadata": {},
   "source": [
    "Based on the above visualizations, it is evident that both 90% confidence intervals do not encompass 0. Hence, we can reject both null hypotheses and assert the following: 1) There is sufficient evidence to indicate a difference between the mean salaries of data analysts and data scientists. 2) There is adequate evidence to demonstrate a difference between the proportions of remote work for both job types."
   ]
  },
  {
   "cell_type": "markdown",
   "id": "8b92d28d-7748-4040-ae5e-33d4d4334b60",
   "metadata": {},
   "source": [
    "## Asymptotic Hypothesis Testing"
   ]
  },
  {
   "cell_type": "markdown",
   "id": "5bf12bb2-9a65-48da-a95c-a7f3e351b0ae",
   "metadata": {},
   "source": [
    "### Difference in means and propotions "
   ]
  },
  {
   "cell_type": "markdown",
   "id": "dd802b76-00ee-41e7-9f8f-530ff0821203",
   "metadata": {},
   "source": [
    "We will compute our $p$-values and confidence intervals using the 'pt' and 'qt' functions in order to test our hypotheses and obtain the differences in pay means and remote work proportions.\n",
    "\n",
    "Then, using the 't.test' function, we will do $t$-tests for each of the null hypotheses to make sure.\n",
    "\n",
    "To start, let's review the point estimates."
   ]
  },
  {
   "cell_type": "code",
   "execution_count": 14,
   "id": "28a48627-51dc-47cb-b44b-18df2c3dbd8a",
   "metadata": {},
   "outputs": [
    {
     "data": {
      "text/html": [
       "<table class=\"dataframe\">\n",
       "<caption>A tibble: 2 × 6</caption>\n",
       "<thead>\n",
       "\t<tr><th scope=col>job_title</th><th scope=col>n</th><th scope=col>salary_mean</th><th scope=col>salary_sd</th><th scope=col>remote_prop</th><th scope=col>remote_sd</th></tr>\n",
       "\t<tr><th scope=col>&lt;chr&gt;</th><th scope=col>&lt;int&gt;</th><th scope=col>&lt;dbl&gt;</th><th scope=col>&lt;dbl&gt;</th><th scope=col>&lt;dbl&gt;</th><th scope=col>&lt;dbl&gt;</th></tr>\n",
       "</thead>\n",
       "<tbody>\n",
       "\t<tr><td>Data Analyst  </td><td> 96</td><td> 93752.84</td><td>39258.60</td><td>0.7291667</td><td>0.4443902</td></tr>\n",
       "\t<tr><td>Data Scientist</td><td>140</td><td>108922.79</td><td>64372.43</td><td>0.5571429</td><td>0.4967240</td></tr>\n",
       "</tbody>\n",
       "</table>\n"
      ],
      "text/latex": [
       "A tibble: 2 × 6\n",
       "\\begin{tabular}{llllll}\n",
       " job\\_title & n & salary\\_mean & salary\\_sd & remote\\_prop & remote\\_sd\\\\\n",
       " <chr> & <int> & <dbl> & <dbl> & <dbl> & <dbl>\\\\\n",
       "\\hline\n",
       "\t Data Analyst   &  96 &  93752.84 & 39258.60 & 0.7291667 & 0.4443902\\\\\n",
       "\t Data Scientist & 140 & 108922.79 & 64372.43 & 0.5571429 & 0.4967240\\\\\n",
       "\\end{tabular}\n"
      ],
      "text/markdown": [
       "\n",
       "A tibble: 2 × 6\n",
       "\n",
       "| job_title &lt;chr&gt; | n &lt;int&gt; | salary_mean &lt;dbl&gt; | salary_sd &lt;dbl&gt; | remote_prop &lt;dbl&gt; | remote_sd &lt;dbl&gt; |\n",
       "|---|---|---|---|---|---|\n",
       "| Data Analyst   |  96 |  93752.84 | 39258.60 | 0.7291667 | 0.4443902 |\n",
       "| Data Scientist | 140 | 108922.79 | 64372.43 | 0.5571429 | 0.4967240 |\n",
       "\n"
      ],
      "text/plain": [
       "  job_title      n   salary_mean salary_sd remote_prop remote_sd\n",
       "1 Data Analyst    96  93752.84   39258.60  0.7291667   0.4443902\n",
       "2 Data Scientist 140 108922.79   64372.43  0.5571429   0.4967240"
      ]
     },
     "metadata": {},
     "output_type": "display_data"
    }
   ],
   "source": [
    "data_estimates"
   ]
  },
  {
   "cell_type": "markdown",
   "id": "e55eb2c8-e1f9-4792-b7ff-9db96e2a97c5",
   "metadata": {},
   "source": [
    "**Table 7**"
   ]
  },
  {
   "cell_type": "code",
   "execution_count": 15,
   "id": "efe2e8e2-9324-42fe-b0cd-41aa4fef851d",
   "metadata": {},
   "outputs": [
    {
     "name": "stderr",
     "output_type": "stream",
     "text": [
      "\u001b[1m\u001b[22mAdding missing grouping variables: `job_title`\n",
      "\u001b[1m\u001b[22mAdding missing grouping variables: `job_title`\n"
     ]
    },
    {
     "data": {
      "text/html": [
       "<table class=\"dataframe\">\n",
       "<caption>A tibble: 1 × 10</caption>\n",
       "<thead>\n",
       "\t<tr><th scope=col>estimate</th><th scope=col>estimate1</th><th scope=col>estimate2</th><th scope=col>statistic</th><th scope=col>p.value</th><th scope=col>parameter</th><th scope=col>conf.low</th><th scope=col>conf.high</th><th scope=col>method</th><th scope=col>alternative</th></tr>\n",
       "\t<tr><th scope=col>&lt;dbl&gt;</th><th scope=col>&lt;dbl&gt;</th><th scope=col>&lt;dbl&gt;</th><th scope=col>&lt;dbl&gt;</th><th scope=col>&lt;dbl&gt;</th><th scope=col>&lt;dbl&gt;</th><th scope=col>&lt;dbl&gt;</th><th scope=col>&lt;dbl&gt;</th><th scope=col>&lt;chr&gt;</th><th scope=col>&lt;chr&gt;</th></tr>\n",
       "</thead>\n",
       "<tbody>\n",
       "\t<tr><td>15169.95</td><td>108922.8</td><td>93752.84</td><td>2.245166</td><td>0.02570363</td><td>231.1716</td><td>1857.336</td><td>28482.56</td><td>Welch Two Sample t-test</td><td>two.sided</td></tr>\n",
       "</tbody>\n",
       "</table>\n"
      ],
      "text/latex": [
       "A tibble: 1 × 10\n",
       "\\begin{tabular}{llllllllll}\n",
       " estimate & estimate1 & estimate2 & statistic & p.value & parameter & conf.low & conf.high & method & alternative\\\\\n",
       " <dbl> & <dbl> & <dbl> & <dbl> & <dbl> & <dbl> & <dbl> & <dbl> & <chr> & <chr>\\\\\n",
       "\\hline\n",
       "\t 15169.95 & 108922.8 & 93752.84 & 2.245166 & 0.02570363 & 231.1716 & 1857.336 & 28482.56 & Welch Two Sample t-test & two.sided\\\\\n",
       "\\end{tabular}\n"
      ],
      "text/markdown": [
       "\n",
       "A tibble: 1 × 10\n",
       "\n",
       "| estimate &lt;dbl&gt; | estimate1 &lt;dbl&gt; | estimate2 &lt;dbl&gt; | statistic &lt;dbl&gt; | p.value &lt;dbl&gt; | parameter &lt;dbl&gt; | conf.low &lt;dbl&gt; | conf.high &lt;dbl&gt; | method &lt;chr&gt; | alternative &lt;chr&gt; |\n",
       "|---|---|---|---|---|---|---|---|---|---|\n",
       "| 15169.95 | 108922.8 | 93752.84 | 2.245166 | 0.02570363 | 231.1716 | 1857.336 | 28482.56 | Welch Two Sample t-test | two.sided |\n",
       "\n"
      ],
      "text/plain": [
       "  estimate estimate1 estimate2 statistic p.value    parameter conf.low\n",
       "1 15169.95 108922.8  93752.84  2.245166  0.02570363 231.1716  1857.336\n",
       "  conf.high method                  alternative\n",
       "1 28482.56  Welch Two Sample t-test two.sided  "
      ]
     },
     "metadata": {},
     "output_type": "display_data"
    }
   ],
   "source": [
    "# for difference in salary means\n",
    "analyst <- salaries_new %>%\n",
    "        filter(job_title == \"Data Analyst\") %>%\n",
    "        select(salary_in_usd)\n",
    "scientist <- salaries_new %>%\n",
    "        filter(job_title == \"Data Scientist\") %>%\n",
    "        select(salary_in_usd)\n",
    "t_test_diff_mean <- \n",
    "    tidy(\n",
    "        t.test(x = scientist$salary_in_usd,\n",
    "               y = analyst$salary_in_usd,\n",
    "               alternative = \"two.sided\"))\n",
    "t_test_diff_mean"
   ]
  },
  {
   "cell_type": "markdown",
   "id": "26303cbe-97c7-4943-9630-9cb0c90b4184",
   "metadata": {},
   "source": [
    "**Table 8** Two sided t-test statistics for difference in salary means between data scientists and data analysts"
   ]
  },
  {
   "cell_type": "code",
   "execution_count": 17,
   "id": "a0fa6304-a3f8-475c-9aa9-c54eae236e88",
   "metadata": {},
   "outputs": [
    {
     "data": {
      "text/html": [
       "<table class=\"dataframe\">\n",
       "<caption>A tibble: 1 × 9</caption>\n",
       "<thead>\n",
       "\t<tr><th scope=col>estimate1</th><th scope=col>estimate2</th><th scope=col>statistic</th><th scope=col>p.value</th><th scope=col>parameter</th><th scope=col>conf.low</th><th scope=col>conf.high</th><th scope=col>method</th><th scope=col>alternative</th></tr>\n",
       "\t<tr><th scope=col>&lt;dbl&gt;</th><th scope=col>&lt;dbl&gt;</th><th scope=col>&lt;dbl&gt;</th><th scope=col>&lt;dbl&gt;</th><th scope=col>&lt;dbl&gt;</th><th scope=col>&lt;dbl&gt;</th><th scope=col>&lt;dbl&gt;</th><th scope=col>&lt;chr&gt;</th><th scope=col>&lt;chr&gt;</th></tr>\n",
       "</thead>\n",
       "<tbody>\n",
       "\t<tr><td>0.7291667</td><td>0.5571429</td><td>7.206825</td><td>0.007262684</td><td>1</td><td>0.05089389</td><td>0.2931537</td><td>2-sample test for equality of proportions without continuity correction</td><td>two.sided</td></tr>\n",
       "</tbody>\n",
       "</table>\n"
      ],
      "text/latex": [
       "A tibble: 1 × 9\n",
       "\\begin{tabular}{lllllllll}\n",
       " estimate1 & estimate2 & statistic & p.value & parameter & conf.low & conf.high & method & alternative\\\\\n",
       " <dbl> & <dbl> & <dbl> & <dbl> & <dbl> & <dbl> & <dbl> & <chr> & <chr>\\\\\n",
       "\\hline\n",
       "\t 0.7291667 & 0.5571429 & 7.206825 & 0.007262684 & 1 & 0.05089389 & 0.2931537 & 2-sample test for equality of proportions without continuity correction & two.sided\\\\\n",
       "\\end{tabular}\n"
      ],
      "text/markdown": [
       "\n",
       "A tibble: 1 × 9\n",
       "\n",
       "| estimate1 &lt;dbl&gt; | estimate2 &lt;dbl&gt; | statistic &lt;dbl&gt; | p.value &lt;dbl&gt; | parameter &lt;dbl&gt; | conf.low &lt;dbl&gt; | conf.high &lt;dbl&gt; | method &lt;chr&gt; | alternative &lt;chr&gt; |\n",
       "|---|---|---|---|---|---|---|---|---|\n",
       "| 0.7291667 | 0.5571429 | 7.206825 | 0.007262684 | 1 | 0.05089389 | 0.2931537 | 2-sample test for equality of proportions without continuity correction | two.sided |\n",
       "\n"
      ],
      "text/plain": [
       "  estimate1 estimate2 statistic p.value     parameter conf.low   conf.high\n",
       "1 0.7291667 0.5571429 7.206825  0.007262684 1         0.05089389 0.2931537\n",
       "  method                                                                 \n",
       "1 2-sample test for equality of proportions without continuity correction\n",
       "  alternative\n",
       "1 two.sided  "
      ]
     },
     "metadata": {},
     "output_type": "display_data"
    }
   ],
   "source": [
    "# for difference in proportions of remote ratio\n",
    "analyst_prop <- salaries_new %>%\n",
    "        filter(job_title == \"Data Analyst\") \n",
    "scientist_prop <- salaries_new %>%\n",
    "        filter(job_title == \"Data Scientist\") \n",
    "prop_test <- tidy(\n",
    "    prop.test(x = c(sum(analyst_prop$remote_ratio == \"remote\"), sum(scientist_prop$remote_ratio == \"remote\")),\n",
    "              n = c(nrow(analyst_prop), nrow(scientist_prop)),\n",
    "              correct = FALSE))\n",
    "prop_test"
   ]
  },
  {
   "cell_type": "markdown",
   "id": "96557fde-9a28-49ca-8168-63664316552c",
   "metadata": {},
   "source": [
    "**Table 6.** Two sided t-test statistics for difference in remote ratio between data scientists and data analysts"
   ]
  },
  {
   "cell_type": "markdown",
   "id": "d9e24d55-134d-4b33-a614-946a9fa7a66b",
   "metadata": {},
   "source": [
    "# Discussion"
   ]
  },
  {
   "cell_type": "markdown",
   "id": "6139d1e9-b058-49e5-89a8-bcf592ee8082",
   "metadata": {},
   "source": [
    "### Recap\n",
    "\n",
    "We took into account a sample of employee data from the data science industry for this research. We chose to compare the incomes and percentage of remote workers for Data Engineers and Data Analysts based on the job descriptions. We employed resampling to examine the spread (standard deviation) of these parameters using t-distributions to evaluate our hypothesis. \n"
   ]
  },
  {
   "cell_type": "markdown",
   "id": "38d4de88-849f-479f-a915-68f02461aba2",
   "metadata": {},
   "source": [
    "### Findings"
   ]
  },
  {
   "cell_type": "markdown",
   "id": "61c51c6b-bcc9-48c6-b7c5-1ffb5b5a1078",
   "metadata": {},
   "source": [
    "### Expectations vs. Findings\n",
    "\n",
    "When we first started conducting this study, we anticipated that both of our null hypotheses would be proven incorrect and that both jobs would have nearly identical shares of remote work and wage standard deviations. These hopes were only partially realised.\n",
    "\n",
    "However, just two of our predictions—that the salaries for the two groups were different and that the changes in remote likelihood were the same—came true. Instead, we discovered that the salaries of Data Engineers had much higher standard deviations than those of Data Analysts, but we were unable to reject the second null hypothesis.\n"
   ]
  },
  {
   "cell_type": "markdown",
   "id": "6699149f-e45b-43bd-ad18-e422bc191599",
   "metadata": {},
   "source": [
    "### Interpretation\n",
    "\n",
    "Our findings suggest that Data Engineers made more money than Data Analysts on average, but that there was a huge range in their pay. However, the likelihood of working remotely was about identical, with Data Engineers having a little higher likelihood of doing so more frequently than 80% of the time.\n"
   ]
  },
  {
   "cell_type": "markdown",
   "id": "817973b5-c4ca-472a-843c-32da896d83d0",
   "metadata": {},
   "source": [
    "### Limitations\n",
    "\n",
    "This project's primary source of error is our decision on the significance level, which also determines the likelihood that we will make a Type I error. Since ours was 5%, that is the likelihood that the initial null hypothesis—that the mean salaries for the two positions were equal—was actually true.\n",
    "\n",
    "The disparity in sample size when comparing Data Engineers and Data Analysts is another important project restriction. Because of this, the latter's computed confidence intervals are notably wider than their counterparts. The confidence intervals generated for the variations in means and proportions are similarly impacted by this. By concentrating more on these specific job titles during data collection and employing larger, more comparable sized samples, this could be corrected in the future. "
   ]
  },
  {
   "cell_type": "markdown",
   "id": "7e393df5-3b12-4de9-bf6a-14cc8a8cc08e",
   "metadata": {},
   "source": [
    "## Implications\n"
   ]
  },
  {
   "cell_type": "markdown",
   "id": "66d3d18c-b7fd-4109-ac89-c810a599a1e6",
   "metadata": {},
   "source": [
    "### Impact\n",
    "\n",
    "These results may have an impact on the types of positions that recent data science graduates decide to apply for as well as the particular career pathways that undergraduates may desire to concentrate on. Data analysts and data engineers are two extremely common but quite distinct career options in the data science industry. \n",
    "\n",
    "Furthermore, this project can be used as the foundation for an industry analysis. This can help us determine which job titles organisations value more and predict their responses to financial hardship or other operational changes (such as who gets fired during a merger and who is likely to be kept). \n",
    "\n",
    "We think that our work may be used as a metric that can promote such discussions to develop a more comprehensive view of the present employment market in the data science and statistics field. Creating open dialogues through statistical inference is vital for workplace transparency."
   ]
  },
  {
   "cell_type": "markdown",
   "id": "51f412bf-c440-4f2a-9f1d-0f4ea9bc7daa",
   "metadata": {},
   "source": [
    "### Future Questions\n",
    "\n",
    "This raises additional inquiries on the variations in experience level, firm location, and company size when comparing various job titles within the Data Science area. Additionally, these topics can be addressed for the remaining jobs that we were unable to study due to their sample sizes with more data.\n",
    "\n",
    "We hope that more study comparing various factors can be done along with an evaluation of how pay affects wellness and job satisfaction for both parties (employer and employee) and across various industries.\n",
    "\n",
    "We also expect that research can be done using more demographic information. If there is a disparity in mean salaries based on race, gender, or other socioeconomic aspects, for instance, that can be addressed via statistical inference. \n",
    "To assist workers and employers in making wiser decisions and improving the working environment for everyone, the range of issues can be expanded further and addressed within many disciplines."
   ]
  },
  {
   "cell_type": "markdown",
   "id": "dac64618-6bcc-4a70-9304-11d512b822f4",
   "metadata": {},
   "source": [
    "# References"
   ]
  },
  {
   "cell_type": "markdown",
   "id": "95810639-2777-47cd-a202-6a44586170a0",
   "metadata": {},
   "source": [
    "Bhatia, R. (2022). *Data science job salaries*. https://www.kaggle.com/datasets/ruchi798/data-science-job-salaries\n",
    "\n",
    "Card, D., Mas, A., Moretti, E., & Saez, E. (2012). Inequality at work: The effect of peer salaries on job satisfaction. *American Economic Review*, 102(6), 2981–3003. https://doi.org/10.1257/aer.102.6.2981\n",
    "\n",
    "Galanti, T., Guidetti, G., Mazzei, E., Zappalà, S., & Toscano, F. (2021). Work from home during the COVID-19 outbreak: the impact on employees' remote work productivity, engagement, and stress. *Journal of Occupational and Environmental Medicine*, 63(7), e426–e432. https://doi.org/10.1097/JOM.0000000000002236"
   ]
  }
 ],
 "metadata": {
  "kernelspec": {
   "display_name": "R",
   "language": "R",
   "name": "ir"
  },
  "language_info": {
   "codemirror_mode": "r",
   "file_extension": ".r",
   "mimetype": "text/x-r-source",
   "name": "R",
   "pygments_lexer": "r",
   "version": "4.2.3"
  }
 },
 "nbformat": 4,
 "nbformat_minor": 5
}
