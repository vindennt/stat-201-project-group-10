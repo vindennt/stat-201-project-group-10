{
 "cells": [
  {
   "cell_type": "markdown",
   "metadata": {},
   "source": [
    "# **STAT-201 Project Proposal**\n",
    "## Analysis of data science salaries\n",
    "\n",
    "Prabh Sehgal, Rainie Fu, Rishabh Mathur, Dennis Truong"
   ]
  },
  {
   "cell_type": "markdown",
   "metadata": {},
   "source": [
    "## Introduction\n",
    "\n",
    "### Background\n",
    "Due to increased autonomy, studies have shown that working remotely has had a positive impact on contentment during the pandemic. One of the key factors in employee happiness is financial compensation (Card et al., 2012).\n",
    "\n",
    "Based on these two facts, this research intends to inform those joining the data science job market about pay and the chance of working remotely for each type of position. By influencing work-life balance, this would help employees discover occupations that align with their own goals and objectives and foster a work climate that is productive both on and off the job."
   ]
  },
  {
   "cell_type": "markdown",
   "metadata": {},
   "source": [
    "## Question\n",
    "\n",
    "Do the median incomes and percentages of remote work for full-time Data Engineers and Data Analysts differ?\n"
   ]
  },
  {
   "cell_type": "markdown",
   "metadata": {},
   "source": [
    "### Dataset\n",
    "\n",
    "The dataset \"Data Science Job Salaries\" by Ruchi Bhatia (2022) from [Kaggle](https://www.kaggle.com/datasets/ruchi798/data-science-job-salaries). is used in this research. The year the pay was paid, experience level, work kind, title, salary, remote ratio, firm size, and company location are just a few examples of the qualitative and quantitative observations we may use from it.\n",
    "\n",
    "These factors taken as a whole can provide us a more comprehensive picture of the Data Science job market."
   ]
  },
  {
   "cell_type": "code",
   "execution_count": null,
   "metadata": {},
   "outputs": [],
   "source": []
  }
 ],
 "metadata": {
  "kernelspec": {
   "display_name": "Python 3 (ipykernel)",
   "language": "python",
   "name": "python3"
  },
  "language_info": {
   "codemirror_mode": {
    "name": "ipython",
    "version": 3
   },
   "file_extension": ".py",
   "mimetype": "text/x-python",
   "name": "python",
   "nbconvert_exporter": "python",
   "pygments_lexer": "ipython3",
   "version": "3.10.6"
  }
 },
 "nbformat": 4,
 "nbformat_minor": 4
}
