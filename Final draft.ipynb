{
 "cells": [
  {
   "cell_type": "markdown",
   "id": "52d4d186-20a3-4bef-a9c7-07a2d15df350",
   "metadata": {},
   "source": [
    "# **STAT-201 Project Proposal**\n",
    "## Do data analysts and data scientists differ in salaries and work flexibility? \n",
    "\n",
    "Prabh Sehgal, Rainie Fu, Rishabh Mathur, Dennis Truong"
   ]
  },
  {
   "cell_type": "markdown",
   "id": "dee77e45-9e2b-4413-a578-d59a1c8a2391",
   "metadata": {},
   "source": [
    "## Introduction"
   ]
  },
  {
   "cell_type": "markdown",
   "id": "73d28c5f-7aa6-49d2-bc1f-b9d171f190c2",
   "metadata": {},
   "source": [
    "A key factor in employee happiness is financial compensation. During the COVID-19 pandemic, employees have shown that working remotely can also have a positive impact on happiness. (Card et al., 2012; Galanti et al., 2021). The data science salaries analysis we’ve performed aims to explore the relationships between different data science jobs, their salaries, and their proportions doing remote work. This would help prospective employees to find jobs that match their own hopes and aspirations, as well as create a work environment that is productive in and out of the workplace by influencing work-life balance.\n"
   ]
  },
  {
   "cell_type": "markdown",
   "id": "d001d206-abea-4f41-9fc9-e9de284cc77e",
   "metadata": {},
   "source": [
    "### Guiding Question\n",
    "> Which profession pays more, data scientists or analysts, and who works more remotely?"
   ]
  },
  {
   "cell_type": "markdown",
   "id": "e053d23d-5ef6-474d-84bf-957b202abb6c",
   "metadata": {},
   "source": [
    "### Dataset\n",
    "\n",
    "In this project, we use the dataset, \"Data Science Job Salaries\", by Ruchi Bhatia (2022) from Kaggle. It contains both qualitative and quantitative observations we can harness, like the year the salary was paid, experience level, employment type, title, salary, remote ratio, company size, and company location.\n",
    "From this dataset, our variables of interest are as follows:\n",
    "\n",
    "* ```salary_in_usd``` is our response variable, it uses a single currency (USD) to make comparisons easier regardless of country.\n",
    "* ```job_title``` is one of our explanatory variables; a chr describing each employee's profession.\n",
    "* ```remote_ratio``` is another explanatory variable; a fct describing each employee's ratio of remote work (0 = less than 20%, 50 = in between, 100 = greater than 80%). For this project, we will consider a value of 100 indicative of working remotely\n",
    "\n",
    "Although ```experience_level``` is a factor that affects salary in the data science field, it is not something job seekers can control when searching for a job. This project aims to assist potential employees in selecting a suitable job by considering multiple variables, including experience level and other relevant factors, to provide a comprehensive understanding of the job market in data science.\n"
   ]
  },
  {
   "cell_type": "markdown",
   "id": "2cfd2d91-25f2-4ff2-8afd-2db7a03b57aa",
   "metadata": {},
   "source": [
    "## Preliminary Results"
   ]
  },
  {
   "cell_type": "markdown",
   "id": "5a51c09a-e367-4875-8d3f-b5daac9633c1",
   "metadata": {},
   "source": [
    "### Reading the Data\n",
    "\n",
    "We downloaded the data to our repository and read it from there since Kaggle does not let datasets to be read straight from the website."
   ]
  },
  {
   "cell_type": "code",
   "execution_count": 1,
   "id": "92a9a25d-baf9-4f29-bed2-96b0375d65eb",
   "metadata": {},
   "outputs": [],
   "source": [
    "# just add all the libraries, data reading and preview of data here"
   ]
  },
  {
   "cell_type": "markdown",
   "id": "f139c560-135b-4868-bd9c-1000439ffda9",
   "metadata": {},
   "source": [
    "*table 1*"
   ]
  },
  {
   "cell_type": "markdown",
   "id": "15e15697-e535-4f81-9af8-f91bef4e870b",
   "metadata": {},
   "source": [
    "### Cleaning and Wrangling Data\n",
    "\n",
    "Let's look at which of the many ```job_title``` categories in this dataset we can use."
   ]
  },
  {
   "cell_type": "code",
   "execution_count": 2,
   "id": "9116aa30-7c13-4944-b3fa-535317c35941",
   "metadata": {},
   "outputs": [],
   "source": [
    "# calculating the number of employees in each job title category"
   ]
  },
  {
   "cell_type": "markdown",
   "id": "9a6fa934-4641-4bd5-8b4a-1d7cc1305af1",
   "metadata": {},
   "source": [
    "*table 2*"
   ]
  },
  {
   "cell_type": "markdown",
   "id": "62848ed3-8b8b-4310-b936-4603842c1cbd",
   "metadata": {},
   "source": [
    "Here we can see that the first three categories each have more than 30 observations, meaning they are large enough, and are similar in size. Of those three, Data Scientist is a very broad job definition, so we will compare Data Scientists and Data Analysts.\n",
    "Let's grab only those categories and store them in a dataframe named ```top_jobs```."
   ]
  },
  {
   "cell_type": "code",
   "execution_count": 3,
   "id": "ac96d4f7-1212-4797-866e-a0b293e2a3e3",
   "metadata": {},
   "outputs": [],
   "source": [
    "# filtering for full-time employees from both categories"
   ]
  },
  {
   "cell_type": "markdown",
   "id": "39e545cd-4a6d-4fd1-9efe-7cb295a9f919",
   "metadata": {},
   "source": [
    "*table 3*"
   ]
  },
  {
   "cell_type": "markdown",
   "id": "50212db6-a4a7-452a-876a-7e3e44492c6a",
   "metadata": {},
   "source": [
    "### Plots"
   ]
  },
  {
   "cell_type": "markdown",
   "id": "faa8f954-f58a-4eb1-82f4-fc4b0f27e4cb",
   "metadata": {},
   "source": [
    "#### Salary distributions\n",
    "\n",
    "Let's start by plotting the salary distributions for each of the categories side by side.\n",
    "Also, we'll include red vertical lines to display their mean incomes."
   ]
  },
  {
   "cell_type": "code",
   "execution_count": 4,
   "id": "b33f0508-ed04-47db-a546-19d5a7135e1e",
   "metadata": {},
   "outputs": [],
   "source": [
    "# just show the salary distribution of data scientist and analyst "
   ]
  },
  {
   "cell_type": "markdown",
   "id": "1a0564e0-2697-45eb-8f5b-c5330baa17b1",
   "metadata": {},
   "source": [
    "*figures 1, 2*\n",
    "\n",
    "Also, let's examine the percentages of employees who work remotely using a stacked bar chart."
   ]
  },
  {
   "cell_type": "code",
   "execution_count": 5,
   "id": "a25aa5cd-480e-4c33-a054-da678a184c3e",
   "metadata": {},
   "outputs": [],
   "source": [
    "# visulaise the remote work data"
   ]
  },
  {
   "cell_type": "markdown",
   "id": "05141043-8e79-4a5d-acf2-e0095824af47",
   "metadata": {},
   "source": [
    "*figure 3*"
   ]
  },
  {
   "cell_type": "markdown",
   "id": "12713078-7ecc-4e82-be0d-c3dbda972fef",
   "metadata": {},
   "source": [
    "### Estimates\n",
    "\n",
    "We require the right point estimates prior to testing our hypotheses."
   ]
  },
  {
   "cell_type": "code",
   "execution_count": 6,
   "id": "6c5e17e1-e9e1-45da-86da-7f69a282ed90",
   "metadata": {},
   "outputs": [],
   "source": [
    "# find all the point estimates "
   ]
  },
  {
   "cell_type": "markdown",
   "id": "4b3a7eee-689b-4c83-8f56-4c6be86d915f",
   "metadata": {},
   "source": [
    "*table 4*\n",
    "> Even though the median provides a more accurate salary estimate, this project depends on the Central Limit Theorem, which it cannot accommodate. Thus, we'll employ means instead."
   ]
  },
  {
   "cell_type": "markdown",
   "id": "9dabe599-52de-4af0-bb4b-70b61a0911d2",
   "metadata": {},
   "source": [
    "## Methods"
   ]
  },
  {
   "cell_type": "markdown",
   "id": "e27c7d15-bb77-47fe-be33-067a758bf6f1",
   "metadata": {},
   "source": [
    "### Plan"
   ]
  },
  {
   "cell_type": "markdown",
   "id": "488f9ebb-e5be-4fe7-b484-d679a8f308e7",
   "metadata": {},
   "source": [
    "This analysis has so far shown that the average salaries for data engineers and data analysts are different, as well as the percentage of those workers that work from home. Moreover, the sample standard deviation of pay is larger for data engineers, and both standard deviations for the proportion of remote work are similar. To ensure that the response variables are truly random and not based on job type, we selected representative samples (with n > 30) and focused on full-time employees.\n",
    "\n",
    "Sadly, our plots and point estimates are insufficient to support that. We will employ resampling and asymptotic approaches to describe the population distributions in order to address the fact that they use only one sample, making them more error-prone than a *sampling* distribution.\n",
    "\n",
    "In order to create a sampling distribution of the *salary standard deviations* and *percentage of remote work standard deviations* for each sample, we will do bootstrapping on both samples. This is to compare the range of incomes and the percentage of remote employment.\n",
    "\n",
    "We will employ an asymptotic strategy to account for differences in mean salaries and the fraction of remote employment. We will use the sample means  $\\bar{x}$, proportions $p$, and standard deviations $\\sigma$ because we lack the populations' means $\\mu$, proportions $\\hat{p}$, and sigma values $s$. We shall employ $t$-distributions because of their fatter tails and broader spread when compared to a standard distribution to take into consideration the possibility of error associated with this replacement.\n",
    "\n",
    "We want to test the following assumptions by making data scientists population 1 and data analysts population 2.\n",
    "\n",
    "for the mean salary:\n",
    "$$H_0 : \\mu_1 - \\mu_2 = 0$$\n",
    "$$H_1 : \\mu_1 - \\mu_2 \\neq 0$$\n",
    "\n",
    "for the proportion of remote work:\n",
    "$$H_0 : p_1 - p_2 = 0$$\n",
    "$$H_1 : p_1 - p_2 \\neq 0$$\n",
    "\n",
    "We want to test the following assumptions by making data scientists population 1 and data analysts population 2.\n",
    "\n",
    "where $p$ is the percentage of employees who work remotely and $mu$ is the population's mean annual wage. Hence, our $t$-distributions will be $t_{128}$ and $t_{95}$, respectively.\n",
    "\n",
    "With a 90% confidence level, we anticipate rejecting both null hypotheses at a significance level of 5%.\n"
   ]
  },
  {
   "cell_type": "markdown",
   "id": "2298b552-bea9-4330-917f-96cee4ed4e8c",
   "metadata": {},
   "source": [
    "## Results"
   ]
  },
  {
   "cell_type": "code",
   "execution_count": null,
   "id": "7eab2ecd-3614-4239-a2a5-d12bc593a7cf",
   "metadata": {},
   "outputs": [],
   "source": []
  }
 ],
 "metadata": {
  "kernelspec": {
   "display_name": "R",
   "language": "R",
   "name": "ir"
  },
  "language_info": {
   "codemirror_mode": "r",
   "file_extension": ".r",
   "mimetype": "text/x-r-source",
   "name": "R",
   "pygments_lexer": "r",
   "version": "4.1.3"
  }
 },
 "nbformat": 4,
 "nbformat_minor": 5
}
